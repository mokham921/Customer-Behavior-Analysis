{
 "cells": [
  {
   "cell_type": "code",
   "execution_count": 1,
   "id": "205dd8e4-0522-4af5-971e-5870c8b0251f",
   "metadata": {},
   "outputs": [
    {
     "name": "stdout",
     "output_type": "stream",
     "text": [
      "+-----------+-----------+--------------+----------+--------------+--------------------+----------------+-----------+-------------+-----------+----+-----------------+--------------------+--------------------+-----------+\n",
      "|marketplace|customer_id|     review_id|product_id|product_parent|       product_title|product_category|star_rating|helpful_votes|total_votes|vine|verified_purchase|     review_headline|         review_body|review_date|\n",
      "+-----------+-----------+--------------+----------+--------------+--------------------+----------------+-----------+-------------+-----------+----+-----------------+--------------------+--------------------+-----------+\n",
      "|         US|   12039526| RTIS3L2M1F5SM|B001CXYMFS|     737716809|Thrustmaster T-Fl...|     Video Games|          5|            0|          0|   N|                Y|an amazing joysti...|Used this for Eli...| 2015-08-31|\n",
      "|         US|    9636577| R1ZV7R40OLHKD|B00M920ND6|     569686175|Tonsee 6 buttons ...|     Video Games|          5|            0|          0|   N|                Y|Definitely a sile...|Loved it,  I didn...| 2015-08-31|\n",
      "|         US|    2331478|R3BH071QLH8QMC|B0029CSOD2|      98937668|Hidden Mysteries:...|     Video Games|          1|            0|          1|   N|                Y|            One Star|poor quality work...| 2015-08-31|\n",
      "|         US|   52495923|R127K9NTSXA2YH|B00GOOSV98|      23143350|GelTabz Performan...|     Video Games|          3|            0|          0|   N|                Y|good, but could b...|nice, but tend to...| 2015-08-31|\n",
      "|         US|   14533949|R32ZWUXDJPW27Q|B00Y074JOM|     821342511|Zero Suit Samus a...|     Video Games|          4|            0|          0|   N|                Y|   Great but flawed.|Great amiibo, gre...| 2015-08-31|\n",
      "|         US|    2377552|R3AQQ4YUKJWBA6|B002UBI6W6|     328764615|Psyclone Recharge...|     Video Games|          1|            0|          0|   N|                Y|            One Star|The remote consta...| 2015-08-31|\n",
      "|         US|   17521011|R2F0POU5K6F73F|B008XHCLFO|      24234603|Protection for yo...|     Video Games|          5|            0|          0|   N|                Y|              A Must|I have a 2012-201...| 2015-08-31|\n",
      "|         US|   19676307|R3VNR804HYSMR6|B00BRA9R6A|     682267517|   Nerf 3DS XL Armor|     Video Games|          5|            0|          0|   N|                Y|          Five Stars|Perfect, kids lov...| 2015-08-31|\n",
      "|         US|     224068| R3GZTM72WA2QH|B009EPWJLA|     435241890|One Piece: Pirate...|     Video Games|          5|            0|          0|   N|                Y|          Five Stars|            Excelent| 2015-08-31|\n",
      "|         US|   48467989| RNQOY62705W1K|B0000AV7GB|     256572651|Playstation 2 Dan...|     Video Games|          4|            0|          0|   N|                Y|          Four Stars|Slippery but expe...| 2015-08-31|\n",
      "|         US|     106569|R1VTIA3JTYBY02|B00008KTNN|     384411423|Metal Arms: Glitc...|     Video Games|          5|            0|          0|   N|                N|          Five Stars|Love the game. Se...| 2015-08-31|\n",
      "|         US|   48269642|R29DOU8791QZL8|B000A3IA0Y|     472622859|72 Pin Connector ...|     Video Games|          1|            0|          0|   N|                Y| Game will get stuck|Does not fit prop...| 2015-08-31|\n",
      "|         US|   52738710|R15DUT1VIJ9RJZ|B0053BQN34|     577628462|uDraw Gametablet ...|     Video Games|          2|            0|          0|   N|                Y|We have tried it ...|This was way too ...| 2015-08-31|\n",
      "|         US|   10556786|R3IMF2MQ3OU9ZM|B002I0HIMI|     988218515|NBA 2K12(Covers M...|     Video Games|          4|            0|          0|   N|                Y|          Four Stars|Works great good ...| 2015-08-31|\n",
      "|         US|    2963837|R23H79DHOZTYAU|B0081EH12M|     770100932|New Trigger Grips...|     Video Games|          1|            1|          1|   N|                Y|Now i have to buy...|It did not fit th...| 2015-08-31|\n",
      "|         US|   23092109| RIV24EQAIXA4O|B005FMLZQQ|      24647669|Xbox 360 Media Re...|     Video Games|          5|            0|          0|   N|                Y|          Five Stars|perfect lightweig...| 2015-08-31|\n",
      "|         US|   23091728|R3UCNGYDVN24YB|B002BSA388|      33706205|Super Mario Galaxy 2|     Video Games|          5|            0|          0|   N|                Y|          Five Stars|               great| 2015-08-31|\n",
      "|         US|   10712640| RUL4H4XTTN2DY|B00BUSLSAC|     829667834|Nintendo 3DS XL -...|     Video Games|          5|            0|          0|   N|                Y|          Five Stars|Works beautifully...| 2015-08-31|\n",
      "|         US|   17455376|R20JF7Z4DHTNX5|B00KWF38AW|     110680188|Captain Toad:  Tr...|     Video Games|          5|            0|          0|   N|                Y|          Five Stars|Kids loved the ga...| 2015-08-31|\n",
      "|         US|   14754850|R2T1AJ5MFI2260|B00BRQJYA8|     616463426|Lego Batman 2: DC...|     Video Games|          4|            0|          0|   N|                Y|          Four Stars|           Goodngame| 2015-08-31|\n",
      "+-----------+-----------+--------------+----------+--------------+--------------------+----------------+-----------+-------------+-----------+----+-----------------+--------------------+--------------------+-----------+\n",
      "only showing top 20 rows\n",
      "\n"
     ]
    }
   ],
   "source": [
    "#Before using spark, need to install and set up spark, Hadoop and Jdk locally on your laptop\n",
    "\n",
    "\n",
    "from pyspark.sql import SparkSession\n",
    "\n",
    "# Initialize SparkSession\n",
    "spark = SparkSession.builder \\\n",
    "    .appName(\"etl\") \\\n",
    "    .config(\"spark.master\", \"local\") \\\n",
    "    .config(\"spark.jars\", \"F:/UniPrj/Big Data Project/postgresql-42.2.16.jar\") \\\n",
    "    .getOrCreate()\n",
    "\n",
    "#Load Amazon Data into Spark DataFrame\n",
    "#1 load product segment - Furniture Segment --> download dataset tsv file\n",
    "file_path = \"F:/UniPrj/Big Data Project/Datasets/amazon_reviews_us_Video_Games_v1_00.tsv\"\n",
    "df = spark.read.option(\"encoding\", \"UTF-8\").csv(file_path, sep=\"\\t\", header=True, inferSchema=True)\n",
    "\n",
    "# Show the first few rows of the DataFrame\n",
    "df.show()\n"
   ]
  },
  {
   "cell_type": "code",
   "execution_count": 2,
   "id": "c43a2e83-64eb-402c-bee4-17a92cd735fb",
   "metadata": {},
   "outputs": [
    {
     "name": "stdout",
     "output_type": "stream",
     "text": [
      "root\n",
      " |-- marketplace: string (nullable = true)\n",
      " |-- customer_id: integer (nullable = true)\n",
      " |-- review_id: string (nullable = true)\n",
      " |-- product_id: string (nullable = true)\n",
      " |-- product_parent: integer (nullable = true)\n",
      " |-- product_title: string (nullable = true)\n",
      " |-- product_category: string (nullable = true)\n",
      " |-- star_rating: integer (nullable = true)\n",
      " |-- helpful_votes: integer (nullable = true)\n",
      " |-- total_votes: integer (nullable = true)\n",
      " |-- vine: string (nullable = true)\n",
      " |-- verified_purchase: string (nullable = true)\n",
      " |-- review_headline: string (nullable = true)\n",
      " |-- review_body: string (nullable = true)\n",
      " |-- review_date: date (nullable = true)\n",
      "\n",
      "(1785997, 15)\n"
     ]
    }
   ],
   "source": [
    "#Create DataFrame - Perform Preliminary Cleaning\n",
    "\n",
    "#1 Check the schema, print row & column count\n",
    "df.printSchema()\n",
    "print((df.count(), len(df.columns)))"
   ]
  },
  {
   "cell_type": "code",
   "execution_count": 3,
   "id": "c497d562-dd10-4214-b992-76683c25cfb7",
   "metadata": {},
   "outputs": [
    {
     "name": "stdout",
     "output_type": "stream",
     "text": [
      "+-----------+--------------+----------+--------------------+----------------+-----------+-------------+-----------+-----------------+\n",
      "|customer_id|     review_id|product_id|       product_title|product_category|star_rating|helpful_votes|total_votes|verified_purchase|\n",
      "+-----------+--------------+----------+--------------------+----------------+-----------+-------------+-----------+-----------------+\n",
      "|   12039526| RTIS3L2M1F5SM|B001CXYMFS|Thrustmaster T-Fl...|     Video Games|          5|            0|          0|                Y|\n",
      "|    9636577| R1ZV7R40OLHKD|B00M920ND6|Tonsee 6 buttons ...|     Video Games|          5|            0|          0|                Y|\n",
      "|    2331478|R3BH071QLH8QMC|B0029CSOD2|Hidden Mysteries:...|     Video Games|          1|            0|          1|                Y|\n",
      "|   52495923|R127K9NTSXA2YH|B00GOOSV98|GelTabz Performan...|     Video Games|          3|            0|          0|                Y|\n",
      "|   14533949|R32ZWUXDJPW27Q|B00Y074JOM|Zero Suit Samus a...|     Video Games|          4|            0|          0|                Y|\n",
      "|    2377552|R3AQQ4YUKJWBA6|B002UBI6W6|Psyclone Recharge...|     Video Games|          1|            0|          0|                Y|\n",
      "|   17521011|R2F0POU5K6F73F|B008XHCLFO|Protection for yo...|     Video Games|          5|            0|          0|                Y|\n",
      "|   19676307|R3VNR804HYSMR6|B00BRA9R6A|   Nerf 3DS XL Armor|     Video Games|          5|            0|          0|                Y|\n",
      "|     224068| R3GZTM72WA2QH|B009EPWJLA|One Piece: Pirate...|     Video Games|          5|            0|          0|                Y|\n",
      "|   48467989| RNQOY62705W1K|B0000AV7GB|Playstation 2 Dan...|     Video Games|          4|            0|          0|                Y|\n",
      "|     106569|R1VTIA3JTYBY02|B00008KTNN|Metal Arms: Glitc...|     Video Games|          5|            0|          0|                N|\n",
      "|   48269642|R29DOU8791QZL8|B000A3IA0Y|72 Pin Connector ...|     Video Games|          1|            0|          0|                Y|\n",
      "|   52738710|R15DUT1VIJ9RJZ|B0053BQN34|uDraw Gametablet ...|     Video Games|          2|            0|          0|                Y|\n",
      "|   10556786|R3IMF2MQ3OU9ZM|B002I0HIMI|NBA 2K12(Covers M...|     Video Games|          4|            0|          0|                Y|\n",
      "|    2963837|R23H79DHOZTYAU|B0081EH12M|New Trigger Grips...|     Video Games|          1|            1|          1|                Y|\n",
      "|   23092109| RIV24EQAIXA4O|B005FMLZQQ|Xbox 360 Media Re...|     Video Games|          5|            0|          0|                Y|\n",
      "|   23091728|R3UCNGYDVN24YB|B002BSA388|Super Mario Galaxy 2|     Video Games|          5|            0|          0|                Y|\n",
      "|   10712640| RUL4H4XTTN2DY|B00BUSLSAC|Nintendo 3DS XL -...|     Video Games|          5|            0|          0|                Y|\n",
      "|   17455376|R20JF7Z4DHTNX5|B00KWF38AW|Captain Toad:  Tr...|     Video Games|          5|            0|          0|                Y|\n",
      "|   14754850|R2T1AJ5MFI2260|B00BRQJYA8|Lego Batman 2: DC...|     Video Games|          4|            0|          0|                Y|\n",
      "+-----------+--------------+----------+--------------------+----------------+-----------+-------------+-----------+-----------------+\n",
      "only showing top 20 rows\n",
      "\n"
     ]
    }
   ],
   "source": [
    "#2 Drop the round 1 columns\n",
    "columns_to_drop = ['marketplace', 'product_parent', 'vine', 'review_headline', 'review_body', 'review_date']\n",
    "df_dropped = df.drop(*columns_to_drop)\n",
    "df_dropped.show()"
   ]
  },
  {
   "cell_type": "code",
   "execution_count": 4,
   "id": "e947f42f-4f15-441e-af3f-f3deffc545d6",
   "metadata": {},
   "outputs": [
    {
     "name": "stdout",
     "output_type": "stream",
     "text": [
      "(1169701, 9)\n"
     ]
    }
   ],
   "source": [
    "#3 Filter Step 1:\n",
    "df_filtered = df_dropped.filter(df_dropped.verified_purchase == 'Y')\n",
    "df_filtered.show\n",
    "print((df_filtered.count(), len(df_filtered.columns)))\n",
    "     "
   ]
  },
  {
   "cell_type": "code",
   "execution_count": 5,
   "id": "4a57c854-d971-40b0-ac6a-5efd884d6fd8",
   "metadata": {},
   "outputs": [
    {
     "name": "stdout",
     "output_type": "stream",
     "text": [
      "+-----------+--------------+----------+--------------------+----------------+-----------+-------------+-----------+\n",
      "|customer_id|     review_id|product_id|       product_title|product_category|star_rating|helpful_votes|total_votes|\n",
      "+-----------+--------------+----------+--------------------+----------------+-----------+-------------+-----------+\n",
      "|   12039526| RTIS3L2M1F5SM|B001CXYMFS|Thrustmaster T-Fl...|     Video Games|          5|            0|          0|\n",
      "|    9636577| R1ZV7R40OLHKD|B00M920ND6|Tonsee 6 buttons ...|     Video Games|          5|            0|          0|\n",
      "|    2331478|R3BH071QLH8QMC|B0029CSOD2|Hidden Mysteries:...|     Video Games|          1|            0|          1|\n",
      "|   52495923|R127K9NTSXA2YH|B00GOOSV98|GelTabz Performan...|     Video Games|          3|            0|          0|\n",
      "|   14533949|R32ZWUXDJPW27Q|B00Y074JOM|Zero Suit Samus a...|     Video Games|          4|            0|          0|\n",
      "|    2377552|R3AQQ4YUKJWBA6|B002UBI6W6|Psyclone Recharge...|     Video Games|          1|            0|          0|\n",
      "|   17521011|R2F0POU5K6F73F|B008XHCLFO|Protection for yo...|     Video Games|          5|            0|          0|\n",
      "|   19676307|R3VNR804HYSMR6|B00BRA9R6A|   Nerf 3DS XL Armor|     Video Games|          5|            0|          0|\n",
      "|     224068| R3GZTM72WA2QH|B009EPWJLA|One Piece: Pirate...|     Video Games|          5|            0|          0|\n",
      "|   48467989| RNQOY62705W1K|B0000AV7GB|Playstation 2 Dan...|     Video Games|          4|            0|          0|\n",
      "|   48269642|R29DOU8791QZL8|B000A3IA0Y|72 Pin Connector ...|     Video Games|          1|            0|          0|\n",
      "|   52738710|R15DUT1VIJ9RJZ|B0053BQN34|uDraw Gametablet ...|     Video Games|          2|            0|          0|\n",
      "|   10556786|R3IMF2MQ3OU9ZM|B002I0HIMI|NBA 2K12(Covers M...|     Video Games|          4|            0|          0|\n",
      "|    2963837|R23H79DHOZTYAU|B0081EH12M|New Trigger Grips...|     Video Games|          1|            1|          1|\n",
      "|   23092109| RIV24EQAIXA4O|B005FMLZQQ|Xbox 360 Media Re...|     Video Games|          5|            0|          0|\n",
      "|   23091728|R3UCNGYDVN24YB|B002BSA388|Super Mario Galaxy 2|     Video Games|          5|            0|          0|\n",
      "|   10712640| RUL4H4XTTN2DY|B00BUSLSAC|Nintendo 3DS XL -...|     Video Games|          5|            0|          0|\n",
      "|   17455376|R20JF7Z4DHTNX5|B00KWF38AW|Captain Toad:  Tr...|     Video Games|          5|            0|          0|\n",
      "|   14754850|R2T1AJ5MFI2260|B00BRQJYA8|Lego Batman 2: DC...|     Video Games|          4|            0|          0|\n",
      "|   14533949| RYSSKR5ZTU8JX|B0056WJA6C|           Bodycount|     Video Games|          1|            0|          0|\n",
      "+-----------+--------------+----------+--------------------+----------------+-----------+-------------+-----------+\n",
      "only showing top 20 rows\n",
      "\n"
     ]
    }
   ],
   "source": [
    "#4 drop filtered verified_purchase column\n",
    "columns_to_drop = ['verified_purchase']\n",
    "df_dropped_2 = df_filtered.drop(*columns_to_drop)\n",
    "df_dropped_2.show()"
   ]
  },
  {
   "cell_type": "code",
   "execution_count": 6,
   "id": "d4c0bfe0-646c-4c13-9d84-e183c4e0c6a6",
   "metadata": {},
   "outputs": [
    {
     "name": "stdout",
     "output_type": "stream",
     "text": [
      "+-----------+----------------+\n",
      "|customer_id|product_category|\n",
      "+-----------+----------------+\n",
      "|   12039526|     Video Games|\n",
      "|    9636577|     Video Games|\n",
      "|    2331478|     Video Games|\n",
      "|   52495923|     Video Games|\n",
      "|   14533949|     Video Games|\n",
      "|    2377552|     Video Games|\n",
      "|   17521011|     Video Games|\n",
      "|   19676307|     Video Games|\n",
      "|     224068|     Video Games|\n",
      "|   48467989|     Video Games|\n",
      "|   48269642|     Video Games|\n",
      "|   52738710|     Video Games|\n",
      "|   10556786|     Video Games|\n",
      "|    2963837|     Video Games|\n",
      "|   23092109|     Video Games|\n",
      "|   23091728|     Video Games|\n",
      "|   10712640|     Video Games|\n",
      "|   17455376|     Video Games|\n",
      "|   14754850|     Video Games|\n",
      "|   14533949|     Video Games|\n",
      "+-----------+----------------+\n",
      "only showing top 20 rows\n",
      "\n"
     ]
    }
   ],
   "source": [
    "# Create Analysis-Specific DFs/Tables\n",
    "# Perform Analysis-Specific Transforms\n",
    "# Segmentation Analysis DF\n",
    "\n",
    "# 1 Create Segmentation DF by Droppig Addtional Columns\n",
    "segmentation_cols_drop = ['review_id', 'product_id', 'product_title', 'star_rating', 'helpful_votes', 'total_votes']\n",
    "segmentation_dropped_df = df_dropped_2.drop(*segmentation_cols_drop)\n",
    "segmentation_dropped_df.show()"
   ]
  },
  {
   "cell_type": "code",
   "execution_count": 7,
   "id": "a80f9d4b-6538-4688-8b6f-963c9849cdab",
   "metadata": {},
   "outputs": [
    {
     "name": "stdout",
     "output_type": "stream",
     "text": [
      "+-----------+-----------+\n",
      "|customer_id|video_games|\n",
      "+-----------+-----------+\n",
      "|   48670265|          1|\n",
      "|   49103216|          2|\n",
      "|   46261368|          1|\n",
      "|    4883305|          5|\n",
      "|   41192649|          1|\n",
      "|   10437900|          2|\n",
      "|   22245671|          1|\n",
      "|    2574873|          1|\n",
      "|    4696154|          1|\n",
      "|    5621202|          1|\n",
      "|    5871933|          2|\n",
      "|   44089812|          1|\n",
      "|    2845910|          1|\n",
      "|    5274369|          1|\n",
      "|   39069693|          2|\n",
      "|     137793|          1|\n",
      "|   31914942|          3|\n",
      "|    4707708|          2|\n",
      "|   17088720|          2|\n",
      "|   52272486|          3|\n",
      "+-----------+-----------+\n",
      "only showing top 20 rows\n",
      "\n"
     ]
    }
   ],
   "source": [
    "#Note: must change Category Label name in withColumnRenamed('count(product_category)', 'name')\n",
    "\n",
    "\n",
    "#2 Segmentation GroupBy\n",
    "#2a GroupBy customer_id\n",
    "#2b Count product_category and rename count columns as Segment Name\n",
    "segment_df = segmentation_dropped_df.groupby(\"customer_id\")\\\n",
    ".agg({'product_category':'count'}).withColumnRenamed('count(product_category)', 'video_games')\n",
    "#2c Check results\n",
    "segment_df.show()"
   ]
  },
  {
   "cell_type": "code",
   "execution_count": 8,
   "id": "cf75923b-1ab1-497e-bbdb-98073d7485c1",
   "metadata": {},
   "outputs": [
    {
     "name": "stdout",
     "output_type": "stream",
     "text": [
      "root\n",
      " |-- customer_id: integer (nullable = true)\n",
      " |-- video_games: long (nullable = false)\n",
      "\n",
      "734317\n"
     ]
    }
   ],
   "source": [
    "#3 Check segment_df Schema and Row Count\n",
    "segment_df.printSchema()\n",
    "print(segment_df.count())"
   ]
  },
  {
   "cell_type": "code",
   "execution_count": 9,
   "id": "390b7436-5920-4165-aa73-f027d45239ea",
   "metadata": {},
   "outputs": [
    {
     "name": "stdout",
     "output_type": "stream",
     "text": [
      "+-----------+-----------+\n",
      "|customer_id|video_games|\n",
      "+-----------+-----------+\n",
      "|   24594001|        407|\n",
      "|   10075230|        218|\n",
      "|    6010757|        170|\n",
      "|   15913633|        146|\n",
      "|   12354745|        121|\n",
      "|    2335562|        114|\n",
      "|   51310953|        111|\n",
      "|   15506517|        109|\n",
      "|   48373154|        105|\n",
      "|   14886512|        105|\n",
      "|    5102093|        104|\n",
      "|   43452218|        103|\n",
      "|   13548400|        100|\n",
      "|   42246054|         99|\n",
      "|   13516428|         94|\n",
      "|   12470583|         94|\n",
      "|   44561972|         93|\n",
      "|   10345078|         92|\n",
      "|   38614358|         92|\n",
      "|   14513464|         92|\n",
      "+-----------+-----------+\n",
      "only showing top 20 rows\n",
      "\n",
      "100000\n"
     ]
    }
   ],
   "source": [
    "#Note: Column Name in df.sort('name' ...) must align with Column name from step 2\n",
    "\n",
    "\n",
    "#4 Filter for Top n Results\n",
    "#4a Declare number of rows to filter by (100,000)\n",
    "row_count = 100000\n",
    "#4a Sort by Segment Desc and limit to row_count\n",
    "filtered_segment_df = segment_df.sort('video_games', ascending=False).limit(row_count)\n",
    "#4b Check Results\n",
    "filtered_segment_df.show()\n",
    "print(filtered_segment_df.count())"
   ]
  },
  {
   "cell_type": "code",
   "execution_count": 10,
   "id": "73d4ad13-fac5-46f6-8f42-90e1c921f71e",
   "metadata": {},
   "outputs": [],
   "source": [
    "#Segmentation ETL Complete - Add Database Export Code\n",
    "\n",
    "# Configure settings for RDS\n",
    "mode = \"append\"\n",
    "jdbc_url = 'jdbc:postgresql://localhost:5432/AmazonProducts'\n",
    "config = {\"user\":'postgres', \n",
    "          \"password\": 'root', \n",
    "          \"driver\":\"org.postgresql.Driver\"}"
   ]
  },
  {
   "cell_type": "code",
   "execution_count": 11,
   "id": "556add5c-ee0b-4788-946b-e77d0cb034ff",
   "metadata": {},
   "outputs": [],
   "source": [
    "#Note: table name in table='name_segment' must align with table name in Postgres\n",
    "\n",
    "\n",
    "# Write segment table to Postgres/RDS\n",
    "# 54 secs\n",
    "filtered_segment_df.write.jdbc(url=jdbc_url, table='video_games_segment', mode=mode, properties=config)\n",
    "     "
   ]
  },
  {
   "cell_type": "code",
   "execution_count": 12,
   "id": "8dd132eb-6d43-4c13-a052-263f863b2ee0",
   "metadata": {},
   "outputs": [
    {
     "name": "stdout",
     "output_type": "stream",
     "text": [
      "Segment ETL Successful\n"
     ]
    }
   ],
   "source": [
    "# Run Queries in Postgres to Confirm Segment ETL\n",
    "# Check Row Count of Segment Table - SELECT COUNT(*) FROM video_games_segment;\n",
    "\n",
    "# Check 10 Rows of Segment Table - SELECT * FROM video_games_segment LIMIT(10);\n",
    "\n",
    "\n",
    "# Upon Confirmation of Above Checks Run This Cell\n",
    "print('Segment ETL Successful')"
   ]
  }
 ],
 "metadata": {
  "kernelspec": {
   "display_name": "Python 3 (ipykernel)",
   "language": "python",
   "name": "python3"
  },
  "language_info": {
   "codemirror_mode": {
    "name": "ipython",
    "version": 3
   },
   "file_extension": ".py",
   "mimetype": "text/x-python",
   "name": "python",
   "nbconvert_exporter": "python",
   "pygments_lexer": "ipython3",
   "version": "3.11.4"
  },
  "widgets": {
   "application/vnd.jupyter.widget-state+json": {
    "state": {},
    "version_major": 2,
    "version_minor": 0
   }
  }
 },
 "nbformat": 4,
 "nbformat_minor": 5
}
