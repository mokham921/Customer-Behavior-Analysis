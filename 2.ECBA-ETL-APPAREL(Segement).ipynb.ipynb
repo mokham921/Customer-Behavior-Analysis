{
 "cells": [
  {
   "cell_type": "code",
   "execution_count": 1,
   "id": "68d9704e-fbbb-4ba7-bf27-97dbff3a5c6c",
   "metadata": {
    "scrolled": true
   },
   "outputs": [
    {
     "name": "stdout",
     "output_type": "stream",
     "text": [
      "+-----------+-----------+--------------+----------+--------------+--------------------+----------------+-----------+-------------+-----------+----+-----------------+--------------------+--------------------+-----------+\n",
      "|marketplace|customer_id|     review_id|product_id|product_parent|       product_title|product_category|star_rating|helpful_votes|total_votes|vine|verified_purchase|     review_headline|         review_body|review_date|\n",
      "+-----------+-----------+--------------+----------+--------------+--------------------+----------------+-----------+-------------+-----------+----+-----------------+--------------------+--------------------+-----------+\n",
      "|         US|   32158956|R1KKOXHNI8MSXU|B01KL6O72Y|      24485154|Easy Tool Stainle...|         Apparel|          4|            0|          0|   N|                Y|★ THESE REALLY DO...|These Really Do W...| 2013-01-14|\n",
      "|         US|    2714559|R26SP2OPDK4HT7|B01ID3ZS5W|     363128556|V28 Women Cowl Ne...|         Apparel|          5|            1|          2|   N|                Y|Favorite for wint...|I love this dress...| 2014-03-04|\n",
      "|         US|   12608825| RWQEDYAX373I1|B01I497BGY|     811958549|James Fiallo Men'...|         Apparel|          5|            0|          0|   N|                Y|Great Socks for t...|Nice socks, great...| 2015-07-12|\n",
      "|         US|   25482800|R231YI7R4GPF6J|B01HDXFZK6|     692205728|Belfry Gangster 1...|         Apparel|          5|            0|          0|   N|                Y|          Slick hat!|I bought this for...| 2015-06-03|\n",
      "|         US|    9310286|R3KO3W45DD0L1K|B01G6MBEBY|     431150422|JAEDEN Women's Be...|         Apparel|          5|            0|          0|   N|                Y|I would do it again!|Perfect dress and...| 2015-06-12|\n",
      "|         US|   26631939|R1C4QH63NFL5NJ|B01FWRXN0Y|     366144407|Levi's Boys' 514 ...|         Apparel|          5|            0|          0|   N|                Y|          Five Stars|Excellent for my ...| 2014-04-22|\n",
      "|         US|   48785098|R2GP65O1U9N7BP|B01EXNH1HE|     786052021|Minimalist Wallet...|         Apparel|          5|            0|          0|   N|                Y|            Love it!|Raw is the only w...| 2015-07-28|\n",
      "|         US|   39548589|R3O29CT5MQQ3XQ|B01E7OL09O|     108920964|Harriton Men's Ba...|         Apparel|          4|            0|          0|   N|                Y|         Three Stars|        A bit large.| 2015-07-10|\n",
      "|         US|   29355866|R1ZECD2AA8QFF6|B01DXHX81O|     317132458|Jockey Women's Un...|         Apparel|          5|            0|          0|   N|                Y|          Five Stars|          Great fit!| 2015-08-09|\n",
      "|         US|   27477484|R2S79GCF6J89OA|B01DDULIJK|     110598191|Alexander Del Ros...|         Apparel|          3|            0|          0|   N|                Y|    Not my favorite.|Shirt a bit too l...| 2014-05-24|\n",
      "|         US|   17685865|R1CBCUGNP37MPK|B01BOKOL4A|     121408017|Jockey Women's Un...|         Apparel|          5|            0|          0|   N|                Y|The Jockey Women'...|The Jockey Women'...| 2015-06-10|\n",
      "|         US|   19787539|R3NU4WUR5ZNV1V|B01B3Q4Q0O|     134506082|Bali Passion For ...|         Apparel|          5|            0|          0|   N|                Y|          Five Stars|cup size is just ...| 2013-09-06|\n",
      "|         US|   44196725|R32EPCJ3XF8LGE|B01ADDSL9U|     747539045|Lilyette Women's ...|         Apparel|          5|            0|          0|   N|                Y|          Five Stars|          Perfect...| 2014-11-17|\n",
      "|         US|   45510794|R1XIBC6WQBW31M|B019P1X5XI|     696379847|Vanity Fair Women...|         Apparel|          5|            0|          0|   N|                Y|best ever4 for me...|best  ever4 for m...| 2013-05-12|\n",
      "|         US|   42025740|R1P11MVDZ65LMH|B019MDXIXG|     387286513|Warner's Women's ...|         Apparel|          5|            0|          0|   N|                Y|          Five Stars|          Great fit.| 2014-02-14|\n",
      "|         US|   27097189|R1OJA3DJL0VDDK|B019438FEG|     764190574|Columbia Women's ...|         Apparel|          5|            0|          0|   N|                Y|          Five Stars|I have this Colum...| 2014-10-20|\n",
      "|         US|   13808904|R1THWA5YRJLOOF|B0178HGNIA|     816266887|Robes King RK Cla...|         Apparel|          4|            0|          0|   N|                Y|          Four Stars|My husband found ...| 2015-07-05|\n",
      "|         US|   30225894| R738LCNRSJVXP|B016VIU0QI|     323924698|VIV Collection Be...|         Apparel|          5|            6|          7|   N|                Y|   Awesome leggings!|Awesome leggings!...| 2015-07-29|\n",
      "|         US|   45223824|R1N3Z13931J3O9|B016PUU3VO|     893588059|Fruit of the Loom...|         Apparel|          2|            0|          0|   N|                Y|Sizes not correct...|I ordered the sam...| 2015-01-01|\n",
      "|         US|   22300783|R1LBNTP7E8N89Z|B016AQNDM4|     917361125|Jockey Scrubs Wom...|         Apparel|          1|            0|          0|   N|                Y|            One Star| not exact in sizing| 2015-02-12|\n",
      "+-----------+-----------+--------------+----------+--------------+--------------------+----------------+-----------+-------------+-----------+----+-----------------+--------------------+--------------------+-----------+\n",
      "only showing top 20 rows\n",
      "\n"
     ]
    }
   ],
   "source": [
    "#Before using spark, need to install and set up spark, Hadoop and Jdk locally on your laptop\n",
    "\n",
    "\n",
    "from pyspark.sql import SparkSession\n",
    "\n",
    "# Initialize SparkSession\n",
    "spark = SparkSession.builder \\\n",
    "    .appName(\"etl-apparel\") \\\n",
    "    .config(\"spark.master\", \"local\") \\\n",
    "    .config(\"spark.jars\", \"F:/UniPrj/Big Data Project/postgresql-42.2.16.jar\") \\\n",
    "    .getOrCreate()\n",
    "\n",
    "#Load Amazon Data into Spark DataFrame\n",
    "#1 load product segment - Apparel Segment --> download dataset tsv file\n",
    "file_path = \"F:/UniPrj/Big Data Project/Datasets/amazon_reviews_us_Apparel_v1_00.tsv\"\n",
    "df = spark.read.option(\"encoding\", \"UTF-8\").csv(file_path, sep=\"\\t\", header=True, inferSchema=True)\n",
    "\n",
    "# Show the first few rows of the DataFrame\n",
    "df.show()"
   ]
  },
  {
   "cell_type": "code",
   "execution_count": 2,
   "id": "29ad0240-c883-4669-a2be-2621f77988d6",
   "metadata": {},
   "outputs": [
    {
     "name": "stdout",
     "output_type": "stream",
     "text": [
      "root\n",
      " |-- marketplace: string (nullable = true)\n",
      " |-- customer_id: integer (nullable = true)\n",
      " |-- review_id: string (nullable = true)\n",
      " |-- product_id: string (nullable = true)\n",
      " |-- product_parent: integer (nullable = true)\n",
      " |-- product_title: string (nullable = true)\n",
      " |-- product_category: string (nullable = true)\n",
      " |-- star_rating: integer (nullable = true)\n",
      " |-- helpful_votes: integer (nullable = true)\n",
      " |-- total_votes: integer (nullable = true)\n",
      " |-- vine: string (nullable = true)\n",
      " |-- verified_purchase: string (nullable = true)\n",
      " |-- review_headline: string (nullable = true)\n",
      " |-- review_body: string (nullable = true)\n",
      " |-- review_date: date (nullable = true)\n",
      "\n",
      "(5906333, 15)\n"
     ]
    }
   ],
   "source": [
    "#Create DataFrame - Perform Preliminary Cleaning\n",
    "#1 Check the schema, print row & column count\n",
    "df.printSchema()\n",
    "print((df.count(), len(df.columns)))"
   ]
  },
  {
   "cell_type": "code",
   "execution_count": 3,
   "id": "89d8cbec-1c53-404b-96bb-d621742b41cf",
   "metadata": {},
   "outputs": [
    {
     "name": "stdout",
     "output_type": "stream",
     "text": [
      "+-----------+--------------+----------+--------------------+----------------+-----------+-------------+-----------+-----------------+\n",
      "|customer_id|     review_id|product_id|       product_title|product_category|star_rating|helpful_votes|total_votes|verified_purchase|\n",
      "+-----------+--------------+----------+--------------------+----------------+-----------+-------------+-----------+-----------------+\n",
      "|   32158956|R1KKOXHNI8MSXU|B01KL6O72Y|Easy Tool Stainle...|         Apparel|          4|            0|          0|                Y|\n",
      "|    2714559|R26SP2OPDK4HT7|B01ID3ZS5W|V28 Women Cowl Ne...|         Apparel|          5|            1|          2|                Y|\n",
      "|   12608825| RWQEDYAX373I1|B01I497BGY|James Fiallo Men'...|         Apparel|          5|            0|          0|                Y|\n",
      "|   25482800|R231YI7R4GPF6J|B01HDXFZK6|Belfry Gangster 1...|         Apparel|          5|            0|          0|                Y|\n",
      "|    9310286|R3KO3W45DD0L1K|B01G6MBEBY|JAEDEN Women's Be...|         Apparel|          5|            0|          0|                Y|\n",
      "|   26631939|R1C4QH63NFL5NJ|B01FWRXN0Y|Levi's Boys' 514 ...|         Apparel|          5|            0|          0|                Y|\n",
      "|   48785098|R2GP65O1U9N7BP|B01EXNH1HE|Minimalist Wallet...|         Apparel|          5|            0|          0|                Y|\n",
      "|   39548589|R3O29CT5MQQ3XQ|B01E7OL09O|Harriton Men's Ba...|         Apparel|          4|            0|          0|                Y|\n",
      "|   29355866|R1ZECD2AA8QFF6|B01DXHX81O|Jockey Women's Un...|         Apparel|          5|            0|          0|                Y|\n",
      "|   27477484|R2S79GCF6J89OA|B01DDULIJK|Alexander Del Ros...|         Apparel|          3|            0|          0|                Y|\n",
      "|   17685865|R1CBCUGNP37MPK|B01BOKOL4A|Jockey Women's Un...|         Apparel|          5|            0|          0|                Y|\n",
      "|   19787539|R3NU4WUR5ZNV1V|B01B3Q4Q0O|Bali Passion For ...|         Apparel|          5|            0|          0|                Y|\n",
      "|   44196725|R32EPCJ3XF8LGE|B01ADDSL9U|Lilyette Women's ...|         Apparel|          5|            0|          0|                Y|\n",
      "|   45510794|R1XIBC6WQBW31M|B019P1X5XI|Vanity Fair Women...|         Apparel|          5|            0|          0|                Y|\n",
      "|   42025740|R1P11MVDZ65LMH|B019MDXIXG|Warner's Women's ...|         Apparel|          5|            0|          0|                Y|\n",
      "|   27097189|R1OJA3DJL0VDDK|B019438FEG|Columbia Women's ...|         Apparel|          5|            0|          0|                Y|\n",
      "|   13808904|R1THWA5YRJLOOF|B0178HGNIA|Robes King RK Cla...|         Apparel|          4|            0|          0|                Y|\n",
      "|   30225894| R738LCNRSJVXP|B016VIU0QI|VIV Collection Be...|         Apparel|          5|            6|          7|                Y|\n",
      "|   45223824|R1N3Z13931J3O9|B016PUU3VO|Fruit of the Loom...|         Apparel|          2|            0|          0|                Y|\n",
      "|   22300783|R1LBNTP7E8N89Z|B016AQNDM4|Jockey Scrubs Wom...|         Apparel|          1|            0|          0|                Y|\n",
      "+-----------+--------------+----------+--------------------+----------------+-----------+-------------+-----------+-----------------+\n",
      "only showing top 20 rows\n",
      "\n"
     ]
    }
   ],
   "source": [
    "#2 Drop the round 1 columns\n",
    "columns_to_drop = ['marketplace', 'product_parent', 'vine', 'review_headline', 'review_body', 'review_date']\n",
    "df_dropped = df.drop(*columns_to_drop)\n",
    "df_dropped.show()"
   ]
  },
  {
   "cell_type": "code",
   "execution_count": 4,
   "id": "98bf78b4-d3a5-4399-9dd5-da40497349b2",
   "metadata": {},
   "outputs": [
    {
     "name": "stdout",
     "output_type": "stream",
     "text": [
      "(5312774, 9)\n"
     ]
    }
   ],
   "source": [
    "#3 Filter Step 1:\n",
    "df_filtered = df_dropped.filter(df_dropped.verified_purchase == 'Y')\n",
    "df_filtered.show\n",
    "print((df_filtered.count(), len(df_filtered.columns)))"
   ]
  },
  {
   "cell_type": "code",
   "execution_count": 5,
   "id": "dff5ae7c-884a-493a-95de-b3dccca7199c",
   "metadata": {},
   "outputs": [
    {
     "name": "stdout",
     "output_type": "stream",
     "text": [
      "+-----------+--------------+----------+--------------------+----------------+-----------+-------------+-----------+\n",
      "|customer_id|     review_id|product_id|       product_title|product_category|star_rating|helpful_votes|total_votes|\n",
      "+-----------+--------------+----------+--------------------+----------------+-----------+-------------+-----------+\n",
      "|   32158956|R1KKOXHNI8MSXU|B01KL6O72Y|Easy Tool Stainle...|         Apparel|          4|            0|          0|\n",
      "|    2714559|R26SP2OPDK4HT7|B01ID3ZS5W|V28 Women Cowl Ne...|         Apparel|          5|            1|          2|\n",
      "|   12608825| RWQEDYAX373I1|B01I497BGY|James Fiallo Men'...|         Apparel|          5|            0|          0|\n",
      "|   25482800|R231YI7R4GPF6J|B01HDXFZK6|Belfry Gangster 1...|         Apparel|          5|            0|          0|\n",
      "|    9310286|R3KO3W45DD0L1K|B01G6MBEBY|JAEDEN Women's Be...|         Apparel|          5|            0|          0|\n",
      "|   26631939|R1C4QH63NFL5NJ|B01FWRXN0Y|Levi's Boys' 514 ...|         Apparel|          5|            0|          0|\n",
      "|   48785098|R2GP65O1U9N7BP|B01EXNH1HE|Minimalist Wallet...|         Apparel|          5|            0|          0|\n",
      "|   39548589|R3O29CT5MQQ3XQ|B01E7OL09O|Harriton Men's Ba...|         Apparel|          4|            0|          0|\n",
      "|   29355866|R1ZECD2AA8QFF6|B01DXHX81O|Jockey Women's Un...|         Apparel|          5|            0|          0|\n",
      "|   27477484|R2S79GCF6J89OA|B01DDULIJK|Alexander Del Ros...|         Apparel|          3|            0|          0|\n",
      "|   17685865|R1CBCUGNP37MPK|B01BOKOL4A|Jockey Women's Un...|         Apparel|          5|            0|          0|\n",
      "|   19787539|R3NU4WUR5ZNV1V|B01B3Q4Q0O|Bali Passion For ...|         Apparel|          5|            0|          0|\n",
      "|   44196725|R32EPCJ3XF8LGE|B01ADDSL9U|Lilyette Women's ...|         Apparel|          5|            0|          0|\n",
      "|   45510794|R1XIBC6WQBW31M|B019P1X5XI|Vanity Fair Women...|         Apparel|          5|            0|          0|\n",
      "|   42025740|R1P11MVDZ65LMH|B019MDXIXG|Warner's Women's ...|         Apparel|          5|            0|          0|\n",
      "|   27097189|R1OJA3DJL0VDDK|B019438FEG|Columbia Women's ...|         Apparel|          5|            0|          0|\n",
      "|   13808904|R1THWA5YRJLOOF|B0178HGNIA|Robes King RK Cla...|         Apparel|          4|            0|          0|\n",
      "|   30225894| R738LCNRSJVXP|B016VIU0QI|VIV Collection Be...|         Apparel|          5|            6|          7|\n",
      "|   45223824|R1N3Z13931J3O9|B016PUU3VO|Fruit of the Loom...|         Apparel|          2|            0|          0|\n",
      "|   22300783|R1LBNTP7E8N89Z|B016AQNDM4|Jockey Scrubs Wom...|         Apparel|          1|            0|          0|\n",
      "+-----------+--------------+----------+--------------------+----------------+-----------+-------------+-----------+\n",
      "only showing top 20 rows\n",
      "\n"
     ]
    }
   ],
   "source": [
    "#4 drop filtered verified_purchase column\n",
    "columns_to_drop = ['verified_purchase']\n",
    "df_dropped_2 = df_filtered.drop(*columns_to_drop)\n",
    "df_dropped_2.show()"
   ]
  },
  {
   "cell_type": "code",
   "execution_count": 6,
   "id": "21575c9e-9e28-4153-8b35-eb0967732dd7",
   "metadata": {},
   "outputs": [
    {
     "name": "stdout",
     "output_type": "stream",
     "text": [
      "+-----------+----------------+\n",
      "|customer_id|product_category|\n",
      "+-----------+----------------+\n",
      "|   32158956|         Apparel|\n",
      "|    2714559|         Apparel|\n",
      "|   12608825|         Apparel|\n",
      "|   25482800|         Apparel|\n",
      "|    9310286|         Apparel|\n",
      "|   26631939|         Apparel|\n",
      "|   48785098|         Apparel|\n",
      "|   39548589|         Apparel|\n",
      "|   29355866|         Apparel|\n",
      "|   27477484|         Apparel|\n",
      "|   17685865|         Apparel|\n",
      "|   19787539|         Apparel|\n",
      "|   44196725|         Apparel|\n",
      "|   45510794|         Apparel|\n",
      "|   42025740|         Apparel|\n",
      "|   27097189|         Apparel|\n",
      "|   13808904|         Apparel|\n",
      "|   30225894|         Apparel|\n",
      "|   45223824|         Apparel|\n",
      "|   22300783|         Apparel|\n",
      "+-----------+----------------+\n",
      "only showing top 20 rows\n",
      "\n"
     ]
    }
   ],
   "source": [
    "# Create Analysis-Specific DFs/Tables\n",
    "# Perform Analysis-Specific Transforms\n",
    "# Segmentation Analysis DF\n",
    "\n",
    "# 1 Create Segmentation DF by Droppig Addtional Columns\n",
    "segmentation_cols_drop = ['review_id', 'product_id', 'product_title', 'star_rating', 'helpful_votes', 'total_votes']\n",
    "segmentation_dropped_df = df_dropped_2.drop(*segmentation_cols_drop)\n",
    "segmentation_dropped_df.show()"
   ]
  },
  {
   "cell_type": "code",
   "execution_count": 7,
   "id": "e164610f-ba5f-4be7-9330-f20c35057af8",
   "metadata": {},
   "outputs": [
    {
     "name": "stdout",
     "output_type": "stream",
     "text": [
      "+-----------+-------+\n",
      "|customer_id|apparel|\n",
      "+-----------+-------+\n",
      "|   13780696|      1|\n",
      "|   43380682|      1|\n",
      "|   27446622|      1|\n",
      "|     120706|      3|\n",
      "|   15915947|      2|\n",
      "|   37520920|      1|\n",
      "|   14309190|      8|\n",
      "|   22316505|      1|\n",
      "|   43949054|      2|\n",
      "|   21102747|      1|\n",
      "|   19021463|      1|\n",
      "|   16075459|      7|\n",
      "|   51475782|      2|\n",
      "|   35471383|      3|\n",
      "|   34788104|      2|\n",
      "|    1169723|      1|\n",
      "|   40659946|      1|\n",
      "|    1319956|      1|\n",
      "|     193166|      2|\n",
      "|   44514239|      1|\n",
      "+-----------+-------+\n",
      "only showing top 20 rows\n",
      "\n"
     ]
    }
   ],
   "source": [
    "#Note: must change Category Label name in withColumnRenamed('count(product_category)', 'name')\n",
    "#2 Segmentation GroupBy\n",
    "#2a GroupBy customer_id\n",
    "#2b Count product_category and rename count columns as Segment Name\n",
    "segment_df = segmentation_dropped_df.groupby(\"customer_id\")\\\n",
    ".agg({'product_category':'count'}).withColumnRenamed('count(product_category)', 'apparel')\n",
    "#2c Check results\n",
    "segment_df.show()"
   ]
  },
  {
   "cell_type": "code",
   "execution_count": 8,
   "id": "77897ccd-2fa2-49db-92c8-094aeb799126",
   "metadata": {},
   "outputs": [
    {
     "name": "stdout",
     "output_type": "stream",
     "text": [
      "root\n",
      " |-- customer_id: integer (nullable = true)\n",
      " |-- apparel: long (nullable = false)\n",
      "\n",
      "2958291\n"
     ]
    }
   ],
   "source": [
    "#3 Check segment_df Schema and Row Count\n",
    "segment_df.printSchema()\n",
    "print(segment_df.count())"
   ]
  },
  {
   "cell_type": "code",
   "execution_count": 9,
   "id": "557ef733-069f-4ddf-a22c-c770d1bf0a6f",
   "metadata": {},
   "outputs": [
    {
     "name": "stdout",
     "output_type": "stream",
     "text": [
      "+-----------+-------+\n",
      "|customer_id|apparel|\n",
      "+-----------+-------+\n",
      "|   37474421|    258|\n",
      "|   45825821|    249|\n",
      "|   15006109|    223|\n",
      "|   10558864|    192|\n",
      "|    6724212|    175|\n",
      "|   22985631|    165|\n",
      "|   45187592|    162|\n",
      "|   14230771|    154|\n",
      "|   19672530|    152|\n",
      "|   25388273|    148|\n",
      "|   37965911|    146|\n",
      "|   35178127|    143|\n",
      "|   38166052|    143|\n",
      "|    7809052|    140|\n",
      "|   40333751|    140|\n",
      "|   17580988|    133|\n",
      "|   42995420|    131|\n",
      "|    6534413|    127|\n",
      "|    2174967|    124|\n",
      "|   43310494|    124|\n",
      "+-----------+-------+\n",
      "only showing top 20 rows\n",
      "\n",
      "100000\n"
     ]
    }
   ],
   "source": [
    "#Note: Column Name in df.sort('name' ...) must align with Column name from step 2\n",
    "#4 Filter for Top n Results\n",
    "#4a Declare number of rows to filter by (100,000)\n",
    "row_count = 100000\n",
    "#4a Sort by Segment Desc and limit to row_count\n",
    "filtered_segment_df = segment_df.sort('apparel', ascending=False).limit(row_count)\n",
    "#4b Check Results\n",
    "filtered_segment_df.show()\n",
    "print(filtered_segment_df.count())"
   ]
  },
  {
   "cell_type": "code",
   "execution_count": 10,
   "id": "c45e5364-723e-4255-9cd5-6769fd108234",
   "metadata": {},
   "outputs": [],
   "source": [
    "#Segmentation ETL Complete - Add Database Export Code\n",
    "\n",
    "# Configure settings for RDS\n",
    "mode = \"append\"\n",
    "jdbc_url = 'jdbc:postgresql://localhost:5432/AmazonProducts'\n",
    "config = {\"user\":'postgres', \n",
    "          \"password\": 'root', \n",
    "          \"driver\":\"org.postgresql.Driver\"}"
   ]
  },
  {
   "cell_type": "code",
   "execution_count": 11,
   "id": "6f320a60-c354-4c7a-a894-f7124d2e7a09",
   "metadata": {},
   "outputs": [],
   "source": [
    "#Note: table name in table='name_segment' must align with table name in Postgres\n",
    "\n",
    "# Write segment table to Postgres/RDS\n",
    "# 1 min 5 secs\n",
    "filtered_segment_df.write.jdbc(url=jdbc_url, table='apparel_segment', mode=mode, properties=config)\n",
    "     "
   ]
  },
  {
   "cell_type": "code",
   "execution_count": 12,
   "id": "5e58836f-a672-4715-9b85-adb660e3fc7b",
   "metadata": {},
   "outputs": [
    {
     "name": "stdout",
     "output_type": "stream",
     "text": [
      "Segment ETL Successful\n"
     ]
    }
   ],
   "source": [
    "# Run Queries in Postgres to Confirm Segment ETL\n",
    "# Check Row Count of Segment Table - SELECT COUNT(*) FROM apparel_segment;\n",
    "# Check 10 Rows of Segment Table - SELECT * FROM apparel_segment LIMIT(10);\n",
    "# Upon Confirmation of Above Checks Run This Cell\n",
    "print('Segment ETL Successful')"
   ]
  }
 ],
 "metadata": {
  "kernelspec": {
   "display_name": "Python 3 (ipykernel)",
   "language": "python",
   "name": "python3"
  },
  "language_info": {
   "codemirror_mode": {
    "name": "ipython",
    "version": 3
   },
   "file_extension": ".py",
   "mimetype": "text/x-python",
   "name": "python",
   "nbconvert_exporter": "python",
   "pygments_lexer": "ipython3",
   "version": "3.11.4"
  },
  "widgets": {
   "application/vnd.jupyter.widget-state+json": {
    "state": {},
    "version_major": 2,
    "version_minor": 0
   }
  }
 },
 "nbformat": 4,
 "nbformat_minor": 5
}
