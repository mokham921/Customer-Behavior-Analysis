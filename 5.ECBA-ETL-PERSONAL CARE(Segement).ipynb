{
 "cells": [
  {
   "cell_type": "code",
   "execution_count": 1,
   "id": "8e784e3f-52e1-4703-9bee-0b2a67033acf",
   "metadata": {},
   "outputs": [
    {
     "name": "stdout",
     "output_type": "stream",
     "text": [
      "+-----------+-----------+--------------+----------+--------------+--------------------+--------------------+-----------+-------------+-----------+----+-----------------+--------------------+--------------------+-----------+\n",
      "|marketplace|customer_id|     review_id|product_id|product_parent|       product_title|    product_category|star_rating|helpful_votes|total_votes|vine|verified_purchase|     review_headline|         review_body|review_date|\n",
      "+-----------+-----------+--------------+----------+--------------+--------------------+--------------------+-----------+-------------+-----------+----+-----------------+--------------------+--------------------+-----------+\n",
      "|         US|   32114233|R1QX6706ZWJ1P5|B00OYRW4UE|     223980852|Elite Sportz Exer...|Personal_Care_App...|          5|            0|          0|   N|                Y|Good quality. Shi...|Exactly as descri...| 2015-08-31|\n",
      "|         US|   18125776|R3QWMLJHIW6P37|B0000537JQ|     819771537|     Ezy Dose Weekly|Personal_Care_App...|          5|            0|          0|   N|                Y|          Five Stars|         It is great| 2015-08-31|\n",
      "|         US|   19917519|R14Z1VR1N0Z9G6|B00HXXO332|     849307176|Pulse Oximeter, B...|Personal_Care_App...|          5|            1|          1|   N|                Y|It's really nice ...|It's really nice ...| 2015-08-31|\n",
      "|         US|   18277171| R25ZRJL0GH0U0|B00EOB0JA2|     700864740|SE Tools Tool Kit...|Personal_Care_App...|          2|            0|          0|   N|                Y|           Two Stars|The kit works fin...| 2015-08-31|\n",
      "|         US|    2593270|R3837KYH7AZNIY|B00OC2O1UC|     794298839|doTERRA HD Clear ...|Personal_Care_App...|          4|            0|          1|   N|                Y|          Four Stars|It works better t...| 2015-08-31|\n",
      "|         US|    2592955|R2MN0QYCY6EVIV|B00HES9CMS|     318730927|Viva Naturals #1 ...|Personal_Care_App...|          5|            0|          0|   N|                Y|      not bad at all|I added to my oat...| 2015-08-31|\n",
      "|         US|   15168265|R3AN2UJ1D42ZS0|B0016BFR4G|     887476137|Uncle Lee's Organ...|Personal_Care_App...|          5|            0|          0|   N|                Y|Mild, enjoyable t...|Husband drinks th...| 2015-08-31|\n",
      "|         US|   13761624|R3U29ZLUWEEK4M|B00K504UUG|     458706868|Syrtenty Electrod...|Personal_Care_App...|          5|            0|          0|   N|                Y|          Five Stars|       Good quality.| 2015-08-31|\n",
      "|         US|   37070734|R16ZDMJJHK796C|B00HES9CMS|     318730927|Viva Naturals #1 ...|Personal_Care_App...|          5|            0|          0|   N|                N|        High Quality|This is high qual...| 2015-08-31|\n",
      "|         US|   29615023| RRRDOEJZD1Y22|B00P6TUO5G|     170248843|Viva Naturals Org...|Personal_Care_App...|          4|            0|          0|   N|                Y|          we like it|Buying more produ...| 2015-08-31|\n",
      "|         US|   47893062|R2KR5ZEAS859DK|B0006VJ6TO|     412568457|Body Back Company...|Personal_Care_App...|          5|            0|          0|   N|                Y|          Five Stars|    Their best cane.| 2015-08-31|\n",
      "|         US|    2582596| RR7PGQY763IHF|B00H9L7VIW|     851045898|boostULTIMATE - 6...|Personal_Care_App...|          5|            0|          0|   N|                Y|       Great product|Great product! Ma...| 2015-08-31|\n",
      "|         US|   21969415| RN37YYZBP9BMP|B00P1JNZUW|     274294586|doTERRA Veráge Sk...|Personal_Care_App...|          5|            4|          4|   N|                Y|Love the prouduct...|Love the prouduct...| 2015-08-31|\n",
      "|         US|   43153609| R1UXGB70OR5TW|B00N5HD340|     955577225|      Straight Razor|Personal_Care_App...|          5|            0|          0|   N|                Y|          Five Stars|          great buy.| 2015-08-31|\n",
      "|         US|   17782951|R1OC5ZNXSGO7P1|B0007DHMVK|      78719480|BONGER Massage To...|Personal_Care_App...|          5|            0|          0|   N|                Y|          Five stars|These are so much...| 2015-08-31|\n",
      "|         US|   13710264|R1W4ZN8BPVNWK3|B0002JG2NI|     900996767|Home Health Casto...|Personal_Care_App...|          5|            0|          0|   N|                Y|It works for home...|It works for home...| 2015-08-31|\n",
      "|         US|   30720884|R2KE33CNN5X2B0|B00OYRW4UE|     223980852|Elite Sportz Exer...|Personal_Care_App...|          5|            0|          0|   N|                Y|These work great ...|These work great ...| 2015-08-31|\n",
      "|         US|   35206254|R1A26EDSO0U5N6|B00598WT0C|     218203731|Aloha Eyewear “St...|Personal_Care_App...|          5|            0|          0|   N|                Y|             awesome|for anyone needin...| 2015-08-31|\n",
      "|         US|   10261156|R3L81GOHVS3E9P|B0006VJ6TO|     412568457|Body Back Company...|Personal_Care_App...|          5|            0|          0|   N|                Y| Deep tissue massage|This works perfec...| 2015-08-31|\n",
      "|         US|   50708344| RNFW9SWC5D0YF|B00J7G96NK|     256041044|Oral B Glide Flos...|Personal_Care_App...|          5|            2|          2|   N|                N|These are an esse...|Not only are thes...| 2015-08-31|\n",
      "+-----------+-----------+--------------+----------+--------------+--------------------+--------------------+-----------+-------------+-----------+----+-----------------+--------------------+--------------------+-----------+\n",
      "only showing top 20 rows\n",
      "\n"
     ]
    }
   ],
   "source": [
    "#Before using spark, need to install and set up spark, Hadoop and Jdk locally on your laptop\n",
    "\n",
    "\n",
    "from pyspark.sql import SparkSession\n",
    "\n",
    "# Initialize SparkSession\n",
    "spark = SparkSession.builder \\\n",
    "    .appName(\"etl\") \\\n",
    "    .config(\"spark.master\", \"local\") \\\n",
    "    .config(\"spark.jars\", \"F:/UniPrj/Big Data Project/postgresql-42.2.16.jar\") \\\n",
    "    .getOrCreate()\n",
    "\n",
    "#Load Amazon Data into Spark DataFrame\n",
    "#1 load product segment - Personal Care Segment --> download dataset tsv file\n",
    "file_path = \"F:/UniPrj/Big Data Project/Datasets/amazon_reviews_us_Personal_Care_Appliances_v1_00.tsv\"\n",
    "df = spark.read.option(\"encoding\", \"UTF-8\").csv(file_path, sep=\"\\t\", header=True, inferSchema=True)\n",
    "\n",
    "# Show the first few rows of the DataFrame\n",
    "df.show()"
   ]
  },
  {
   "cell_type": "code",
   "execution_count": 2,
   "id": "162cb245-e9a0-4025-82ab-8d3627f0558a",
   "metadata": {},
   "outputs": [
    {
     "name": "stdout",
     "output_type": "stream",
     "text": [
      "root\n",
      " |-- marketplace: string (nullable = true)\n",
      " |-- customer_id: integer (nullable = true)\n",
      " |-- review_id: string (nullable = true)\n",
      " |-- product_id: string (nullable = true)\n",
      " |-- product_parent: integer (nullable = true)\n",
      " |-- product_title: string (nullable = true)\n",
      " |-- product_category: string (nullable = true)\n",
      " |-- star_rating: integer (nullable = true)\n",
      " |-- helpful_votes: integer (nullable = true)\n",
      " |-- total_votes: integer (nullable = true)\n",
      " |-- vine: string (nullable = true)\n",
      " |-- verified_purchase: string (nullable = true)\n",
      " |-- review_headline: string (nullable = true)\n",
      " |-- review_body: string (nullable = true)\n",
      " |-- review_date: date (nullable = true)\n",
      "\n",
      "(85981, 15)\n"
     ]
    }
   ],
   "source": [
    "#Create DataFrame - Perform Preliminary Cleaning\n",
    "\n",
    "#1 Check the schema, print row & column count\n",
    "df.printSchema()\n",
    "print((df.count(), len(df.columns)))"
   ]
  },
  {
   "cell_type": "code",
   "execution_count": 3,
   "id": "57a3df12-af5f-46a6-856e-b554bb47af31",
   "metadata": {},
   "outputs": [
    {
     "name": "stdout",
     "output_type": "stream",
     "text": [
      "+-----------+--------------+----------+--------------------+--------------------+-----------+-------------+-----------+-----------------+\n",
      "|customer_id|     review_id|product_id|       product_title|    product_category|star_rating|helpful_votes|total_votes|verified_purchase|\n",
      "+-----------+--------------+----------+--------------------+--------------------+-----------+-------------+-----------+-----------------+\n",
      "|   32114233|R1QX6706ZWJ1P5|B00OYRW4UE|Elite Sportz Exer...|Personal_Care_App...|          5|            0|          0|                Y|\n",
      "|   18125776|R3QWMLJHIW6P37|B0000537JQ|     Ezy Dose Weekly|Personal_Care_App...|          5|            0|          0|                Y|\n",
      "|   19917519|R14Z1VR1N0Z9G6|B00HXXO332|Pulse Oximeter, B...|Personal_Care_App...|          5|            1|          1|                Y|\n",
      "|   18277171| R25ZRJL0GH0U0|B00EOB0JA2|SE Tools Tool Kit...|Personal_Care_App...|          2|            0|          0|                Y|\n",
      "|    2593270|R3837KYH7AZNIY|B00OC2O1UC|doTERRA HD Clear ...|Personal_Care_App...|          4|            0|          1|                Y|\n",
      "|    2592955|R2MN0QYCY6EVIV|B00HES9CMS|Viva Naturals #1 ...|Personal_Care_App...|          5|            0|          0|                Y|\n",
      "|   15168265|R3AN2UJ1D42ZS0|B0016BFR4G|Uncle Lee's Organ...|Personal_Care_App...|          5|            0|          0|                Y|\n",
      "|   13761624|R3U29ZLUWEEK4M|B00K504UUG|Syrtenty Electrod...|Personal_Care_App...|          5|            0|          0|                Y|\n",
      "|   37070734|R16ZDMJJHK796C|B00HES9CMS|Viva Naturals #1 ...|Personal_Care_App...|          5|            0|          0|                N|\n",
      "|   29615023| RRRDOEJZD1Y22|B00P6TUO5G|Viva Naturals Org...|Personal_Care_App...|          4|            0|          0|                Y|\n",
      "|   47893062|R2KR5ZEAS859DK|B0006VJ6TO|Body Back Company...|Personal_Care_App...|          5|            0|          0|                Y|\n",
      "|    2582596| RR7PGQY763IHF|B00H9L7VIW|boostULTIMATE - 6...|Personal_Care_App...|          5|            0|          0|                Y|\n",
      "|   21969415| RN37YYZBP9BMP|B00P1JNZUW|doTERRA Veráge Sk...|Personal_Care_App...|          5|            4|          4|                Y|\n",
      "|   43153609| R1UXGB70OR5TW|B00N5HD340|      Straight Razor|Personal_Care_App...|          5|            0|          0|                Y|\n",
      "|   17782951|R1OC5ZNXSGO7P1|B0007DHMVK|BONGER Massage To...|Personal_Care_App...|          5|            0|          0|                Y|\n",
      "|   13710264|R1W4ZN8BPVNWK3|B0002JG2NI|Home Health Casto...|Personal_Care_App...|          5|            0|          0|                Y|\n",
      "|   30720884|R2KE33CNN5X2B0|B00OYRW4UE|Elite Sportz Exer...|Personal_Care_App...|          5|            0|          0|                Y|\n",
      "|   35206254|R1A26EDSO0U5N6|B00598WT0C|Aloha Eyewear “St...|Personal_Care_App...|          5|            0|          0|                Y|\n",
      "|   10261156|R3L81GOHVS3E9P|B0006VJ6TO|Body Back Company...|Personal_Care_App...|          5|            0|          0|                Y|\n",
      "|   50708344| RNFW9SWC5D0YF|B00J7G96NK|Oral B Glide Flos...|Personal_Care_App...|          5|            2|          2|                N|\n",
      "+-----------+--------------+----------+--------------------+--------------------+-----------+-------------+-----------+-----------------+\n",
      "only showing top 20 rows\n",
      "\n"
     ]
    }
   ],
   "source": [
    "#2 Drop the round 1 columns\n",
    "columns_to_drop = ['marketplace', 'product_parent', 'vine', 'review_headline', 'review_body', 'review_date']\n",
    "df_dropped = df.drop(*columns_to_drop)\n",
    "df_dropped.show()"
   ]
  },
  {
   "cell_type": "code",
   "execution_count": 4,
   "id": "72436746-2604-4088-8712-26fa4598cfda",
   "metadata": {},
   "outputs": [
    {
     "name": "stdout",
     "output_type": "stream",
     "text": [
      "(63312, 9)\n"
     ]
    }
   ],
   "source": [
    "\n",
    "#3 Filter Step 1:\n",
    "df_filtered = df_dropped.filter(df_dropped.verified_purchase == 'Y')\n",
    "df_filtered.show\n",
    "print((df_filtered.count(), len(df_filtered.columns)))"
   ]
  },
  {
   "cell_type": "code",
   "execution_count": 5,
   "id": "ebcfb08c-75a2-40a8-9900-e6cbf7410031",
   "metadata": {},
   "outputs": [
    {
     "name": "stdout",
     "output_type": "stream",
     "text": [
      "+-----------+--------------+----------+--------------------+--------------------+-----------+-------------+-----------+\n",
      "|customer_id|     review_id|product_id|       product_title|    product_category|star_rating|helpful_votes|total_votes|\n",
      "+-----------+--------------+----------+--------------------+--------------------+-----------+-------------+-----------+\n",
      "|   32114233|R1QX6706ZWJ1P5|B00OYRW4UE|Elite Sportz Exer...|Personal_Care_App...|          5|            0|          0|\n",
      "|   18125776|R3QWMLJHIW6P37|B0000537JQ|     Ezy Dose Weekly|Personal_Care_App...|          5|            0|          0|\n",
      "|   19917519|R14Z1VR1N0Z9G6|B00HXXO332|Pulse Oximeter, B...|Personal_Care_App...|          5|            1|          1|\n",
      "|   18277171| R25ZRJL0GH0U0|B00EOB0JA2|SE Tools Tool Kit...|Personal_Care_App...|          2|            0|          0|\n",
      "|    2593270|R3837KYH7AZNIY|B00OC2O1UC|doTERRA HD Clear ...|Personal_Care_App...|          4|            0|          1|\n",
      "|    2592955|R2MN0QYCY6EVIV|B00HES9CMS|Viva Naturals #1 ...|Personal_Care_App...|          5|            0|          0|\n",
      "|   15168265|R3AN2UJ1D42ZS0|B0016BFR4G|Uncle Lee's Organ...|Personal_Care_App...|          5|            0|          0|\n",
      "|   13761624|R3U29ZLUWEEK4M|B00K504UUG|Syrtenty Electrod...|Personal_Care_App...|          5|            0|          0|\n",
      "|   29615023| RRRDOEJZD1Y22|B00P6TUO5G|Viva Naturals Org...|Personal_Care_App...|          4|            0|          0|\n",
      "|   47893062|R2KR5ZEAS859DK|B0006VJ6TO|Body Back Company...|Personal_Care_App...|          5|            0|          0|\n",
      "|    2582596| RR7PGQY763IHF|B00H9L7VIW|boostULTIMATE - 6...|Personal_Care_App...|          5|            0|          0|\n",
      "|   21969415| RN37YYZBP9BMP|B00P1JNZUW|doTERRA Veráge Sk...|Personal_Care_App...|          5|            4|          4|\n",
      "|   43153609| R1UXGB70OR5TW|B00N5HD340|      Straight Razor|Personal_Care_App...|          5|            0|          0|\n",
      "|   17782951|R1OC5ZNXSGO7P1|B0007DHMVK|BONGER Massage To...|Personal_Care_App...|          5|            0|          0|\n",
      "|   13710264|R1W4ZN8BPVNWK3|B0002JG2NI|Home Health Casto...|Personal_Care_App...|          5|            0|          0|\n",
      "|   30720884|R2KE33CNN5X2B0|B00OYRW4UE|Elite Sportz Exer...|Personal_Care_App...|          5|            0|          0|\n",
      "|   35206254|R1A26EDSO0U5N6|B00598WT0C|Aloha Eyewear “St...|Personal_Care_App...|          5|            0|          0|\n",
      "|   10261156|R3L81GOHVS3E9P|B0006VJ6TO|Body Back Company...|Personal_Care_App...|          5|            0|          0|\n",
      "|   41933766|R24V6VDHS7JMQV|B0006Z0NY2|      Gopher Reacher|Personal_Care_App...|          5|            1|          1|\n",
      "|   28020969|  RBA56WVCDD5M|B00H9L7VIW|boostULTIMATE - 6...|Personal_Care_App...|          5|            0|          0|\n",
      "+-----------+--------------+----------+--------------------+--------------------+-----------+-------------+-----------+\n",
      "only showing top 20 rows\n",
      "\n"
     ]
    }
   ],
   "source": [
    "#4 drop filtered verified_purchase column\n",
    "columns_to_drop = ['verified_purchase']\n",
    "df_dropped_2 = df_filtered.drop(*columns_to_drop)\n",
    "df_dropped_2.show()"
   ]
  },
  {
   "cell_type": "code",
   "execution_count": 6,
   "id": "76408e04-4bf3-4f29-b47c-33f5c5bec582",
   "metadata": {},
   "outputs": [
    {
     "name": "stdout",
     "output_type": "stream",
     "text": [
      "+-----------+--------------------+\n",
      "|customer_id|    product_category|\n",
      "+-----------+--------------------+\n",
      "|   32114233|Personal_Care_App...|\n",
      "|   18125776|Personal_Care_App...|\n",
      "|   19917519|Personal_Care_App...|\n",
      "|   18277171|Personal_Care_App...|\n",
      "|    2593270|Personal_Care_App...|\n",
      "|    2592955|Personal_Care_App...|\n",
      "|   15168265|Personal_Care_App...|\n",
      "|   13761624|Personal_Care_App...|\n",
      "|   29615023|Personal_Care_App...|\n",
      "|   47893062|Personal_Care_App...|\n",
      "|    2582596|Personal_Care_App...|\n",
      "|   21969415|Personal_Care_App...|\n",
      "|   43153609|Personal_Care_App...|\n",
      "|   17782951|Personal_Care_App...|\n",
      "|   13710264|Personal_Care_App...|\n",
      "|   30720884|Personal_Care_App...|\n",
      "|   35206254|Personal_Care_App...|\n",
      "|   10261156|Personal_Care_App...|\n",
      "|   41933766|Personal_Care_App...|\n",
      "|   28020969|Personal_Care_App...|\n",
      "+-----------+--------------------+\n",
      "only showing top 20 rows\n",
      "\n"
     ]
    }
   ],
   "source": [
    "#Create Analysis-Specific DFs/Tables\n",
    "#Perform Analysis-Specific Transforms\n",
    "#Segmentation Analysis DF\n",
    "\n",
    "# 1 Create Segmentation DF by Droppig Addtional Columns\n",
    "segmentation_cols_drop = ['review_id', 'product_id', 'product_title', 'star_rating', 'helpful_votes', 'total_votes']\n",
    "segmentation_dropped_df = df_dropped_2.drop(*segmentation_cols_drop)\n",
    "segmentation_dropped_df.show()"
   ]
  },
  {
   "cell_type": "code",
   "execution_count": 7,
   "id": "c6689a48-dace-4f62-b6fc-d95060e26ca8",
   "metadata": {},
   "outputs": [
    {
     "name": "stdout",
     "output_type": "stream",
     "text": [
      "+-----------+------------------------+\n",
      "|customer_id|personal_care_appliances|\n",
      "+-----------+------------------------+\n",
      "|   11160821|                       1|\n",
      "|    1099354|                       1|\n",
      "|   31581262|                       1|\n",
      "|   27596904|                       1|\n",
      "|    2405598|                       1|\n",
      "|   11229098|                       1|\n",
      "|   46000147|                       1|\n",
      "|   15234640|                       1|\n",
      "|   28937218|                       1|\n",
      "|   27954895|                       1|\n",
      "|   31689770|                       1|\n",
      "|   30117841|                       1|\n",
      "|   38591899|                       1|\n",
      "|   24557051|                       1|\n",
      "|    2780908|                       1|\n",
      "|   11096259|                       1|\n",
      "|    2416824|                       1|\n",
      "|   33939357|                       1|\n",
      "|     501949|                       1|\n",
      "|   15676483|                       1|\n",
      "+-----------+------------------------+\n",
      "only showing top 20 rows\n",
      "\n"
     ]
    }
   ],
   "source": [
    "#Note: must change Category Label name in withColumnRenamed('count(product_category)', 'name')\n",
    "#2 Segmentation GroupBy\n",
    "#2a GroupBy customer_id\n",
    "#2b Count product_category and rename count columns as Segment Name\n",
    "segment_df = segmentation_dropped_df.groupby(\"customer_id\")\\\n",
    ".agg({'product_category':'count'}).withColumnRenamed('count(product_category)', 'personal_care_appliances')\n",
    "#2c Check results\n",
    "segment_df.show()"
   ]
  },
  {
   "cell_type": "code",
   "execution_count": 8,
   "id": "39c44394-ad7a-499e-81ae-c4504d81079f",
   "metadata": {},
   "outputs": [
    {
     "name": "stdout",
     "output_type": "stream",
     "text": [
      "root\n",
      " |-- customer_id: integer (nullable = true)\n",
      " |-- personal_care_appliances: long (nullable = false)\n",
      "\n",
      "61769\n"
     ]
    }
   ],
   "source": [
    "#3 Check segment_df Schema and Row Count\n",
    "segment_df.printSchema()\n",
    "print(segment_df.count())"
   ]
  },
  {
   "cell_type": "code",
   "execution_count": 9,
   "id": "8ab07e8e-848c-4c16-abb4-84c24f308293",
   "metadata": {},
   "outputs": [
    {
     "name": "stdout",
     "output_type": "stream",
     "text": [
      "+-----------+------------------------+\n",
      "|customer_id|personal_care_appliances|\n",
      "+-----------+------------------------+\n",
      "|    3949232|                       8|\n",
      "|    6660431|                       7|\n",
      "|    1597288|                       5|\n",
      "|   52082728|                       5|\n",
      "|   13096644|                       5|\n",
      "|   30882451|                       5|\n",
      "|   16856119|                       5|\n",
      "|   52392440|                       4|\n",
      "|   18280728|                       4|\n",
      "|     768135|                       4|\n",
      "|   48401768|                       4|\n",
      "|   16155270|                       4|\n",
      "|   32399423|                       4|\n",
      "|   43642145|                       4|\n",
      "|   38193696|                       4|\n",
      "|   51500774|                       4|\n",
      "|   44415965|                       4|\n",
      "|   11408281|                       4|\n",
      "|   44441036|                       4|\n",
      "|   45365967|                       4|\n",
      "+-----------+------------------------+\n",
      "only showing top 20 rows\n",
      "\n",
      "61769\n"
     ]
    }
   ],
   "source": [
    "#Note: Column Name in df.sort('name' ...) must align with Column name from step 2\n",
    "#4 Filter for Top n Results\n",
    "#4a Declare number of rows to filter by (100,000)\n",
    "row_count = 100000\n",
    "#4a Sort by Segment Desc and limit to row_count\n",
    "filtered_segment_df = segment_df.sort('personal_care_appliances', ascending=False).limit(row_count)\n",
    "#4b Check Results\n",
    "filtered_segment_df.show()\n",
    "print(filtered_segment_df.count())"
   ]
  },
  {
   "cell_type": "code",
   "execution_count": 10,
   "id": "93de78dd-480a-475b-bd64-ad0d1d143083",
   "metadata": {},
   "outputs": [],
   "source": [
    "#Segmentation ETL Complete - Add Database Export Code\n",
    "\n",
    "# Configure settings for RDS\n",
    "mode = \"append\"\n",
    "jdbc_url = 'jdbc:postgresql://localhost:5432/AmazonProducts'\n",
    "config = {\"user\":'postgres', \n",
    "          \"password\": 'root', \n",
    "          \"driver\":\"org.postgresql.Driver\"}"
   ]
  },
  {
   "cell_type": "code",
   "execution_count": 11,
   "id": "bdd9004c-a18d-4ddf-9d4b-6c82554ecc71",
   "metadata": {},
   "outputs": [],
   "source": [
    "#Note: table name in table='name_segment' must align with table name in Postgres\n",
    "\n",
    "\n",
    "# Write segment table to Postgres/RDS\n",
    "# 11 secs\n",
    "filtered_segment_df.write.jdbc(url=jdbc_url, table='personal_care_appliances_segment', mode=mode, properties=config)\n",
    "     "
   ]
  },
  {
   "cell_type": "code",
   "execution_count": 12,
   "id": "747f3d30-936e-4d7a-85b0-3ec029701989",
   "metadata": {},
   "outputs": [
    {
     "name": "stdout",
     "output_type": "stream",
     "text": [
      "Segment ETL Successful\n"
     ]
    }
   ],
   "source": [
    "# Run Queries in Postgres to Confirm Segment ETL\n",
    "# Check Row Count of Segment Table - SELECT COUNT(*) FROM personal_care_appliances_segment;\n",
    "\n",
    "# Check 10 Rows of Segment Table - SELECT * FROM personal_care_appliances_segment LIMIT(10);\n",
    "\n",
    "\n",
    "# Upon Confirmation of Above Checks Run This Cell\n",
    "print('Segment ETL Successful')"
   ]
  }
 ],
 "metadata": {
  "kernelspec": {
   "display_name": "Python 3 (ipykernel)",
   "language": "python",
   "name": "python3"
  },
  "language_info": {
   "codemirror_mode": {
    "name": "ipython",
    "version": 3
   },
   "file_extension": ".py",
   "mimetype": "text/x-python",
   "name": "python",
   "nbconvert_exporter": "python",
   "pygments_lexer": "ipython3",
   "version": "3.11.4"
  },
  "widgets": {
   "application/vnd.jupyter.widget-state+json": {
    "state": {},
    "version_major": 2,
    "version_minor": 0
   }
  }
 },
 "nbformat": 4,
 "nbformat_minor": 5
}
