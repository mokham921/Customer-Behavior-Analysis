{
 "cells": [
  {
   "cell_type": "code",
   "execution_count": 1,
   "id": "87556651-a83d-44e2-9823-816c068c75fb",
   "metadata": {},
   "outputs": [
    {
     "name": "stdout",
     "output_type": "stream",
     "text": [
      "+-----------+-----------+--------------+----------+--------------+--------------------+----------------+-----------+-------------+-----------+----+-----------------+--------------------+--------------------+-----------+\n",
      "|marketplace|customer_id|     review_id|product_id|product_parent|       product_title|product_category|star_rating|helpful_votes|total_votes|vine|verified_purchase|     review_headline|         review_body|review_date|\n",
      "+-----------+-----------+--------------+----------+--------------+--------------------+----------------+-----------+-------------+-----------+----+-----------------+--------------------+--------------------+-----------+\n",
      "|         US|   49033728|R1P1G5KZ05H6RD|6302503213|     748506413|The Night They Sa...|           Video|          5|            0|          0|   N|                Y|    Very satisfied!!|Fast shipping. Pl...| 2015-08-31|\n",
      "|         US|   17857748|R106N066IUN8ZV|B000059PET|     478710180|Hamlet / Kline, N...|           Video|          5|            0|          0|   N|                Y|The most talented...|Kevin Kline is th...| 2015-08-31|\n",
      "|         US|   25551507| R7WTAA1S5O7D9|0788812807|     981002815|Nascar Dual Power...|           Video|          4|            0|          0|   N|                Y|          Four Stars|         great movie| 2015-08-31|\n",
      "|         US|   21025041|R32HFMVWLYOYJK|6302509939|     333219811|The Man From U.N....|           Video|          5|            0|          0|   N|                Y|          Five Stars|i love the martin...| 2015-08-31|\n",
      "|         US|   40943563| RWT3H6HBVAL6G|B00JENS2BI|     538101194|Playboy Video Par...|           Video|          3|            0|          0|   N|                N|HOT women, dumb j...|Y'know what this ...| 2015-08-31|\n",
      "|         US|   17013969|R1S3T3GWUGQTW7|6305761302|     716303278|Cabaret Balkan - ...|           Video|          5|            0|          0|   N|                Y|          Five Stars|Wonderfully accur...| 2015-08-31|\n",
      "|         US|   47611685|R3R0QYHA800REE|6300157555|     134996462|Wrinkles:in Need ...|           Video|          4|            0|          0|   N|                Y|          Four Stars|In great shape fo...| 2015-08-31|\n",
      "|         US|   35680737|R1FR0EQPHPW5NM|6300189570|     498116870|Ladies Club,the [...|           Video|          4|            1|          2|   N|                N|          Four Stars|When are they goi...| 2015-08-31|\n",
      "|         US|   10747909| RGORN81H45NI7|B000SXQ5US|      77519275|The Campitelli Ad...|           Video|          5|            1|          1|   N|                Y|I was thrilled to...|This is the best ...| 2015-08-31|\n",
      "|         US|     126341|R1CNYN4ABNOJSU|B00008F22G|     917778300|Return of the Jed...|           Video|          5|            0|          0|   N|                Y|          Five Stars|I'm very pleased ...| 2015-08-31|\n",
      "|         US|   40676812|R2DW06821PMN40|6303453961|     187850980|  Class of '61 [VHS]|           Video|          3|            0|          0|   N|                Y|         Three Stars|      Poor quality--| 2015-08-31|\n",
      "|         US|   19863533|R1CS8AMA8B0VBJ|6302453178|     901056605|Texas Carnival [VHS]|           Video|          5|            0|          0|   N|                Y|Texas Carnival movie|Great Howard Keel...| 2015-08-31|\n",
      "|         US|   13308975|R343CPRI4MC9J0|6304475330|     472277071|National Geograph...|           Video|          5|            0|          0|   N|                N|One of my All Tim...|I loved this vide...| 2015-08-31|\n",
      "|         US|    1989554| R3XP0G8P2BOTP|B000XPQ18W|     627738468| The Intruder Within|           Video|          5|            1|          2|   N|                Y|          Five Stars|excellent, no com...| 2015-08-31|\n",
      "|         US|   14885930|R3NK7014K996PF|0800113055|     585148093|It Happened One N...|           Video|          2|            0|          4|   N|                Y|        Almost great|Was soon looking ...| 2015-08-31|\n",
      "|         US|   24203443| ROIQI6ZW6UVL9|6300133338|     966466095|       Robbery [VHS]|           Video|          5|            0|          0|   N|                Y|Based on the grea...|Based on the grea...| 2015-08-31|\n",
      "|         US|   14885930| RECPIN4UZI76Z|6304119054|     399731786|The Magnificent A...|           Video|          2|            0|          2|   N|                Y|           Not great|Honestly I didn't...| 2015-08-31|\n",
      "|         US|   41133700|R3FE5KO613PMVI|B000006CPD|     509239068|     Streamers [VHS]|           Video|          1|            0|          0|   N|                Y|Low quality recor...|Movie is great - ...| 2015-08-31|\n",
      "|         US|   46580399|R2EC74PS45RAOR|189218608X|     773411366|Special Kids Spee...|           Video|          5|            0|          0|   N|                Y|          Five Stars|These tapes are a...| 2015-08-31|\n",
      "|         US|   19863533|R3FZ5C78PP7ZD7|6302754348|     536886134|Arizona Bushwhack...|           Video|          5|            1|          1|   N|                Y|Arizona Bushwacke...|Awesome Howard Ke...| 2015-08-31|\n",
      "+-----------+-----------+--------------+----------+--------------+--------------------+----------------+-----------+-------------+-----------+----+-----------------+--------------------+--------------------+-----------+\n",
      "only showing top 20 rows\n",
      "\n"
     ]
    }
   ],
   "source": [
    "#Before using spark, need to install and set up spark, Hadoop and Jdk locally on your laptop\n",
    "\n",
    "\n",
    "from pyspark.sql import SparkSession\n",
    "\n",
    "# Initialize SparkSession\n",
    "spark = SparkSession.builder \\\n",
    "    .appName(\"etl\") \\\n",
    "    .config(\"spark.master\", \"local\") \\\n",
    "    .config(\"spark.jars\", \"F:/UniPrj/Big Data Project/postgresql-42.2.16.jar\") \\\n",
    "    .getOrCreate()\n",
    "\n",
    "#Load Amazon Data into Spark DataFrame\n",
    "#1 load product segment - Video Segment --> download dataset tsv file\n",
    "file_path = \"F:/UniPrj/Big Data Project/Datasets/amazon_reviews_us_Video_v1_00.tsv\"\n",
    "df = spark.read.option(\"encoding\", \"UTF-8\").csv(file_path, sep=\"\\t\", header=True, inferSchema=True)\n",
    "\n",
    "# Show the first few rows of the DataFrame\n",
    "df.show()\n"
   ]
  },
  {
   "cell_type": "code",
   "execution_count": 2,
   "id": "947ec11e-bc33-4b4c-9c7b-69580e06f5bf",
   "metadata": {},
   "outputs": [
    {
     "name": "stdout",
     "output_type": "stream",
     "text": [
      "root\n",
      " |-- marketplace: string (nullable = true)\n",
      " |-- customer_id: integer (nullable = true)\n",
      " |-- review_id: string (nullable = true)\n",
      " |-- product_id: string (nullable = true)\n",
      " |-- product_parent: integer (nullable = true)\n",
      " |-- product_title: string (nullable = true)\n",
      " |-- product_category: string (nullable = true)\n",
      " |-- star_rating: integer (nullable = true)\n",
      " |-- helpful_votes: integer (nullable = true)\n",
      " |-- total_votes: integer (nullable = true)\n",
      " |-- vine: string (nullable = true)\n",
      " |-- verified_purchase: string (nullable = true)\n",
      " |-- review_headline: string (nullable = true)\n",
      " |-- review_body: string (nullable = true)\n",
      " |-- review_date: date (nullable = true)\n",
      "\n",
      "(380604, 15)\n"
     ]
    }
   ],
   "source": [
    "#Create DataFrame - Perform Preliminary Cleaning\n",
    "\n",
    "#1 Check the schema, print row & column count\n",
    "df.printSchema()\n",
    "print((df.count(), len(df.columns)))"
   ]
  },
  {
   "cell_type": "code",
   "execution_count": 3,
   "id": "d98b6c67-d4f4-41aa-9a02-4e6557ce386e",
   "metadata": {},
   "outputs": [
    {
     "name": "stdout",
     "output_type": "stream",
     "text": [
      "+-----------+--------------+----------+--------------------+----------------+-----------+-------------+-----------+-----------------+\n",
      "|customer_id|     review_id|product_id|       product_title|product_category|star_rating|helpful_votes|total_votes|verified_purchase|\n",
      "+-----------+--------------+----------+--------------------+----------------+-----------+-------------+-----------+-----------------+\n",
      "|   49033728|R1P1G5KZ05H6RD|6302503213|The Night They Sa...|           Video|          5|            0|          0|                Y|\n",
      "|   17857748|R106N066IUN8ZV|B000059PET|Hamlet / Kline, N...|           Video|          5|            0|          0|                Y|\n",
      "|   25551507| R7WTAA1S5O7D9|0788812807|Nascar Dual Power...|           Video|          4|            0|          0|                Y|\n",
      "|   21025041|R32HFMVWLYOYJK|6302509939|The Man From U.N....|           Video|          5|            0|          0|                Y|\n",
      "|   40943563| RWT3H6HBVAL6G|B00JENS2BI|Playboy Video Par...|           Video|          3|            0|          0|                N|\n",
      "|   17013969|R1S3T3GWUGQTW7|6305761302|Cabaret Balkan - ...|           Video|          5|            0|          0|                Y|\n",
      "|   47611685|R3R0QYHA800REE|6300157555|Wrinkles:in Need ...|           Video|          4|            0|          0|                Y|\n",
      "|   35680737|R1FR0EQPHPW5NM|6300189570|Ladies Club,the [...|           Video|          4|            1|          2|                N|\n",
      "|   10747909| RGORN81H45NI7|B000SXQ5US|The Campitelli Ad...|           Video|          5|            1|          1|                Y|\n",
      "|     126341|R1CNYN4ABNOJSU|B00008F22G|Return of the Jed...|           Video|          5|            0|          0|                Y|\n",
      "|   40676812|R2DW06821PMN40|6303453961|  Class of '61 [VHS]|           Video|          3|            0|          0|                Y|\n",
      "|   19863533|R1CS8AMA8B0VBJ|6302453178|Texas Carnival [VHS]|           Video|          5|            0|          0|                Y|\n",
      "|   13308975|R343CPRI4MC9J0|6304475330|National Geograph...|           Video|          5|            0|          0|                N|\n",
      "|    1989554| R3XP0G8P2BOTP|B000XPQ18W| The Intruder Within|           Video|          5|            1|          2|                Y|\n",
      "|   14885930|R3NK7014K996PF|0800113055|It Happened One N...|           Video|          2|            0|          4|                Y|\n",
      "|   24203443| ROIQI6ZW6UVL9|6300133338|       Robbery [VHS]|           Video|          5|            0|          0|                Y|\n",
      "|   14885930| RECPIN4UZI76Z|6304119054|The Magnificent A...|           Video|          2|            0|          2|                Y|\n",
      "|   41133700|R3FE5KO613PMVI|B000006CPD|     Streamers [VHS]|           Video|          1|            0|          0|                Y|\n",
      "|   46580399|R2EC74PS45RAOR|189218608X|Special Kids Spee...|           Video|          5|            0|          0|                Y|\n",
      "|   19863533|R3FZ5C78PP7ZD7|6302754348|Arizona Bushwhack...|           Video|          5|            1|          1|                Y|\n",
      "+-----------+--------------+----------+--------------------+----------------+-----------+-------------+-----------+-----------------+\n",
      "only showing top 20 rows\n",
      "\n"
     ]
    }
   ],
   "source": [
    "#2 Drop the round 1 columns\n",
    "columns_to_drop = ['marketplace', 'product_parent', 'vine', 'review_headline', 'review_body', 'review_date']\n",
    "df_dropped = df.drop(*columns_to_drop)\n",
    "df_dropped.show()"
   ]
  },
  {
   "cell_type": "code",
   "execution_count": 4,
   "id": "30a737ec-8d52-4c92-86ae-f86157eb7f4f",
   "metadata": {},
   "outputs": [
    {
     "name": "stdout",
     "output_type": "stream",
     "text": [
      "(95732, 9)\n"
     ]
    }
   ],
   "source": [
    "#3 Filter Step 1:\n",
    "df_filtered = df_dropped.filter(df_dropped.verified_purchase == 'Y')\n",
    "df_filtered.show\n",
    "print((df_filtered.count(), len(df_filtered.columns)))"
   ]
  },
  {
   "cell_type": "code",
   "execution_count": 5,
   "id": "2f6af442-0b62-4d88-af94-c40ba6813be4",
   "metadata": {},
   "outputs": [
    {
     "name": "stdout",
     "output_type": "stream",
     "text": [
      "+-----------+--------------+----------+--------------------+----------------+-----------+-------------+-----------+\n",
      "|customer_id|     review_id|product_id|       product_title|product_category|star_rating|helpful_votes|total_votes|\n",
      "+-----------+--------------+----------+--------------------+----------------+-----------+-------------+-----------+\n",
      "|   49033728|R1P1G5KZ05H6RD|6302503213|The Night They Sa...|           Video|          5|            0|          0|\n",
      "|   17857748|R106N066IUN8ZV|B000059PET|Hamlet / Kline, N...|           Video|          5|            0|          0|\n",
      "|   25551507| R7WTAA1S5O7D9|0788812807|Nascar Dual Power...|           Video|          4|            0|          0|\n",
      "|   21025041|R32HFMVWLYOYJK|6302509939|The Man From U.N....|           Video|          5|            0|          0|\n",
      "|   17013969|R1S3T3GWUGQTW7|6305761302|Cabaret Balkan - ...|           Video|          5|            0|          0|\n",
      "|   47611685|R3R0QYHA800REE|6300157555|Wrinkles:in Need ...|           Video|          4|            0|          0|\n",
      "|   10747909| RGORN81H45NI7|B000SXQ5US|The Campitelli Ad...|           Video|          5|            1|          1|\n",
      "|     126341|R1CNYN4ABNOJSU|B00008F22G|Return of the Jed...|           Video|          5|            0|          0|\n",
      "|   40676812|R2DW06821PMN40|6303453961|  Class of '61 [VHS]|           Video|          3|            0|          0|\n",
      "|   19863533|R1CS8AMA8B0VBJ|6302453178|Texas Carnival [VHS]|           Video|          5|            0|          0|\n",
      "|    1989554| R3XP0G8P2BOTP|B000XPQ18W| The Intruder Within|           Video|          5|            1|          2|\n",
      "|   14885930|R3NK7014K996PF|0800113055|It Happened One N...|           Video|          2|            0|          4|\n",
      "|   24203443| ROIQI6ZW6UVL9|6300133338|       Robbery [VHS]|           Video|          5|            0|          0|\n",
      "|   14885930| RECPIN4UZI76Z|6304119054|The Magnificent A...|           Video|          2|            0|          2|\n",
      "|   41133700|R3FE5KO613PMVI|B000006CPD|     Streamers [VHS]|           Video|          1|            0|          0|\n",
      "|   46580399|R2EC74PS45RAOR|189218608X|Special Kids Spee...|           Video|          5|            0|          0|\n",
      "|   19863533|R3FZ5C78PP7ZD7|6302754348|Arizona Bushwhack...|           Video|          5|            1|          1|\n",
      "|   25551507|R2Z9SKOUI9C9IR|6302320402|101 Dalmatians [VHS]|           Video|          4|            0|          0|\n",
      "|   25016862|R37DDS6DLZTK60|B000EQJFWY|Tony Little's ONE...|           Video|          4|            2|          2|\n",
      "|    1989554|R3NPKF41EJ8U44|6301801601|   Fever Pitch [VHS]|           Video|          5|            0|          0|\n",
      "+-----------+--------------+----------+--------------------+----------------+-----------+-------------+-----------+\n",
      "only showing top 20 rows\n",
      "\n"
     ]
    }
   ],
   "source": [
    "#4 drop filtered verified_purchase column\n",
    "columns_to_drop = ['verified_purchase']\n",
    "df_dropped_2 = df_filtered.drop(*columns_to_drop)\n",
    "df_dropped_2.show()"
   ]
  },
  {
   "cell_type": "code",
   "execution_count": 6,
   "id": "f5866eb7-6bf4-4bd9-ac72-dcd7028258f9",
   "metadata": {},
   "outputs": [
    {
     "name": "stdout",
     "output_type": "stream",
     "text": [
      "+-----------+----------------+\n",
      "|customer_id|product_category|\n",
      "+-----------+----------------+\n",
      "|   49033728|           Video|\n",
      "|   17857748|           Video|\n",
      "|   25551507|           Video|\n",
      "|   21025041|           Video|\n",
      "|   17013969|           Video|\n",
      "|   47611685|           Video|\n",
      "|   10747909|           Video|\n",
      "|     126341|           Video|\n",
      "|   40676812|           Video|\n",
      "|   19863533|           Video|\n",
      "|    1989554|           Video|\n",
      "|   14885930|           Video|\n",
      "|   24203443|           Video|\n",
      "|   14885930|           Video|\n",
      "|   41133700|           Video|\n",
      "|   46580399|           Video|\n",
      "|   19863533|           Video|\n",
      "|   25551507|           Video|\n",
      "|   25016862|           Video|\n",
      "|    1989554|           Video|\n",
      "+-----------+----------------+\n",
      "only showing top 20 rows\n",
      "\n"
     ]
    }
   ],
   "source": [
    "#Create Analysis-Specific DFs/Tables\n",
    "#Perform Analysis-Specific Transforms\n",
    "#Segmentation Analysis DF\n",
    "\n",
    "# 1 Create Segmentation DF by Droppig Addtional Columns\n",
    "segmentation_cols_drop = ['review_id', 'product_id', 'product_title', 'star_rating', 'helpful_votes', 'total_votes']\n",
    "segmentation_dropped_df = df_dropped_2.drop(*segmentation_cols_drop)\n",
    "segmentation_dropped_df.show()"
   ]
  },
  {
   "cell_type": "code",
   "execution_count": 7,
   "id": "7194f9ea-eab6-42dc-9ef4-83cfb923bac9",
   "metadata": {},
   "outputs": [
    {
     "name": "stdout",
     "output_type": "stream",
     "text": [
      "+-----------+------+\n",
      "|customer_id|videos|\n",
      "+-----------+------+\n",
      "|   50851028|     1|\n",
      "|   20686161|     2|\n",
      "|   15191478|     2|\n",
      "|    2202715|     1|\n",
      "|   48333068|     1|\n",
      "|   22910908|     2|\n",
      "|   38463562|     1|\n",
      "|   26902200|     1|\n",
      "|   33236947|     1|\n",
      "|   40127650|     1|\n",
      "|   41244127|     3|\n",
      "|   22968117|     1|\n",
      "|   25472255|     1|\n",
      "|    3160356|     1|\n",
      "|   18785199|     2|\n",
      "|   19840529|     1|\n",
      "|    1655605|     1|\n",
      "|   26298325|     1|\n",
      "|   25705446|     1|\n",
      "|   29337875|     1|\n",
      "+-----------+------+\n",
      "only showing top 20 rows\n",
      "\n"
     ]
    }
   ],
   "source": [
    "#Note: must change Category Label name in withColumnRenamed('count(product_category)', 'name')\n",
    "#2 Segmentation GroupBy\n",
    "#2a GroupBy customer_id\n",
    "#2b Count product_category and rename count columns as Segment Name\n",
    "segment_df = segmentation_dropped_df.groupby(\"customer_id\")\\\n",
    ".agg({'product_category':'count'}).withColumnRenamed('count(product_category)', 'videos')\n",
    "#2c Check results\n",
    "segment_df.show()"
   ]
  },
  {
   "cell_type": "code",
   "execution_count": 8,
   "id": "6bd6fa68-14da-4ddd-b330-a311aa710998",
   "metadata": {},
   "outputs": [
    {
     "name": "stdout",
     "output_type": "stream",
     "text": [
      "root\n",
      " |-- customer_id: integer (nullable = true)\n",
      " |-- videos: long (nullable = false)\n",
      "\n",
      "65517\n"
     ]
    }
   ],
   "source": [
    "#3 Check segment_df Schema and Row Count\n",
    "segment_df.printSchema()\n",
    "print(segment_df.count())"
   ]
  },
  {
   "cell_type": "code",
   "execution_count": 9,
   "id": "2f347eee-e763-4534-868c-432c67bbd128",
   "metadata": {},
   "outputs": [
    {
     "name": "stdout",
     "output_type": "stream",
     "text": [
      "+-----------+------+\n",
      "|customer_id|videos|\n",
      "+-----------+------+\n",
      "|   18116317|   286|\n",
      "|   43022286|   272|\n",
      "|   49778371|   138|\n",
      "|   43921586|   136|\n",
      "|   14315565|   118|\n",
      "|   52287429|    96|\n",
      "|   49355567|    91|\n",
      "|   51010646|    84|\n",
      "|   15536614|    82|\n",
      "|   38724344|    82|\n",
      "|   45087308|    81|\n",
      "|   24833576|    76|\n",
      "|   28169415|    59|\n",
      "|   34736206|    59|\n",
      "|   53089838|    57|\n",
      "|   50010538|    54|\n",
      "|   12200981|    53|\n",
      "|   49422747|    52|\n",
      "|   44038210|    52|\n",
      "|   47370694|    52|\n",
      "+-----------+------+\n",
      "only showing top 20 rows\n",
      "\n",
      "65517\n"
     ]
    }
   ],
   "source": [
    "#Note: Column Name in df.sort('name' ...) must align with Column name from step 2\n",
    "#4 Filter for Top n Results\n",
    "#4a Declare number of rows to filter by (100,000)\n",
    "row_count = 100000\n",
    "#4a Sort by Segment Desc and limit to row_count\n",
    "filtered_segment_df = segment_df.sort(\"videos\", ascending=False).limit(row_count)\n",
    "#4b Check Results\n",
    "filtered_segment_df.show()\n",
    "print(filtered_segment_df.count())\n"
   ]
  },
  {
   "cell_type": "code",
   "execution_count": 10,
   "id": "b257f1af-408c-452b-bb02-0310b22ced46",
   "metadata": {},
   "outputs": [],
   "source": [
    "#Segmentation ETL Complete - Add Database Export Code\n",
    "\n",
    "# Configure settings for RDS\n",
    "mode = \"append\"\n",
    "jdbc_url = 'jdbc:postgresql://localhost:5432/AmazonProducts'\n",
    "config = {\"user\":'postgres', \n",
    "          \"password\": 'root', \n",
    "          \"driver\":\"org.postgresql.Driver\"}\n"
   ]
  },
  {
   "cell_type": "code",
   "execution_count": 11,
   "id": "0d6db09f-116d-4184-b12f-e6df226c8b2a",
   "metadata": {},
   "outputs": [],
   "source": [
    "#Note: table name in table='name_segment' must align with table name in Postgres\n",
    "\n",
    "# Write segment table to Postgres/RDS\n",
    "# 15 secs\n",
    "filtered_segment_df.write.jdbc(url=jdbc_url, table='videos_segment', mode=mode, properties=config)     "
   ]
  },
  {
   "cell_type": "code",
   "execution_count": 12,
   "id": "d86c1d1c-230a-46ef-9772-41bd93dfddc7",
   "metadata": {},
   "outputs": [
    {
     "name": "stdout",
     "output_type": "stream",
     "text": [
      "Segment ETL Successful\n"
     ]
    }
   ],
   "source": [
    "# Run Queries in Postgres to Confirm Segment ETL\n",
    "# Check Row Count of Segment Table - SELECT COUNT(*) FROM videos_segment;\n",
    "\n",
    "# Check 10 Rows of Segment Table - SELECT * FROM videos_segment LIMIT(10);\n",
    "\n",
    "\n",
    "# Upon Confirmation of Above Checks Run This Cell\n",
    "print('Segment ETL Successful')"
   ]
  }
 ],
 "metadata": {
  "kernelspec": {
   "display_name": "Python 3 (ipykernel)",
   "language": "python",
   "name": "python3"
  },
  "language_info": {
   "codemirror_mode": {
    "name": "ipython",
    "version": 3
   },
   "file_extension": ".py",
   "mimetype": "text/x-python",
   "name": "python",
   "nbconvert_exporter": "python",
   "pygments_lexer": "ipython3",
   "version": "3.11.4"
  },
  "widgets": {
   "application/vnd.jupyter.widget-state+json": {
    "state": {},
    "version_major": 2,
    "version_minor": 0
   }
  }
 },
 "nbformat": 4,
 "nbformat_minor": 5
}
