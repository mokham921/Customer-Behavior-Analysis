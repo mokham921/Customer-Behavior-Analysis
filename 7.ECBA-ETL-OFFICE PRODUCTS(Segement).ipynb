{
 "cells": [
  {
   "cell_type": "code",
   "execution_count": 1,
   "id": "fad7277b-59b7-405e-80a7-cf2fdf796857",
   "metadata": {},
   "outputs": [
    {
     "name": "stdout",
     "output_type": "stream",
     "text": [
      "+-----------+-----------+--------------+----------+--------------+--------------------+----------------+-----------+-------------+-----------+----+-----------------+--------------------+--------------------+-----------+\n",
      "|marketplace|customer_id|     review_id|product_id|product_parent|       product_title|product_category|star_rating|helpful_votes|total_votes|vine|verified_purchase|     review_headline|         review_body|review_date|\n",
      "+-----------+-----------+--------------+----------+--------------+--------------------+----------------+-----------+-------------+-----------+----+-----------------+--------------------+--------------------+-----------+\n",
      "|         US|   43081963|R18RVCKGH1SSI9|B001BM2MAC|     307809868|Scotch Cushion Wr...| Office Products|          5|            0|          0|   N|                Y|          Five Stars|      Great product.| 2015-08-31|\n",
      "|         US|   10951564|R3L4L6LW1PUOFY|B00DZYEXPQ|      75004341|Dust-Off Compress...| Office Products|          5|            0|          1|   N|                Y|Phffffffft, Phfff...|What's to say abo...| 2015-08-31|\n",
      "|         US|   21143145|R2J8AWXWTDX2TF|B00RTMUHDW|     529689027|Amram Tagger Stan...| Office Products|          5|            0|          0|   N|                Y|but I am sure I w...|Haven't used yet,...| 2015-08-31|\n",
      "|         US|   52782374|R1PR37BR7G3M6A|B00D7H8XB6|     868449945|AmazonBasics 12-S...| Office Products|          1|            2|          3|   N|                Y|and the shredder ...|Although this was...| 2015-08-31|\n",
      "|         US|   24045652|R3BDDDZMZBZDPU|B001XCWP34|      33521401|Derwent Colored P...| Office Products|          4|            0|          0|   N|                Y|          Four Stars|Gorgeous colors a...| 2015-08-31|\n",
      "|         US|   21751234| R8T6MO75ND212|B004J2NBCO|     214932869|Quartet Magnetic ...| Office Products|          5|            0|          0|   N|                Y|          Five Stars|Perfect for plann...| 2015-08-31|\n",
      "|         US|    9109358|R2YWMQT2V11XYZ|B00MOPAG8K|     863351797|KITLEX40X2592UNV2...| Office Products|          5|            0|          0|   N|                N|          Five Stars|Gold plated fuser...| 2015-08-31|\n",
      "|         US|    9967215|R1V2HYL6OI9V39|B003AHIK7U|     383470576|Bible Dry Highlig...| Office Products|          5|            6|          6|   N|                Y|Won't bleed throu...|I have used these...| 2015-08-31|\n",
      "|         US|   11234247|R3BLQBKUNXGFS4|B006TKH2RO|     999128878|Parker Ingenuity ...| Office Products|          5|            0|          0|   N|                Y|           Nice pen!|Heavy pen that wr...| 2015-08-31|\n",
      "|         US|   12731488|R17MOWJCAR9Y8Q|B00W61M9K0|     622066861| RFID Card Protector| Office Products|          5|            0|          0|   N|                Y| Credit card sleeves|Not sure if they ...| 2015-08-31|\n",
      "|         US|   49861762|R11EPG1GHOXMGB|B00BXOGI3A|     688569009|The Original Stan...| Office Products|          4|            0|          0|   N|                N|          Four Stars|Great product for...| 2015-08-31|\n",
      "|         US|    1541556|R2797NKTEX5THN|B0018RHWGE|     513803406|Zebra Sparky-1 WK...| Office Products|          5|            0|          0|   N|                Y|Love these highli...|Love these highli...| 2015-08-31|\n",
      "|         US|   10579374|R2RUTMJS50E4WF|B00IA8H2OG|     201212366|E-Z Ink (TM) Comp...| Office Products|          5|            0|          0|   N|                Y|          Five Stars|Received on time,...| 2015-08-31|\n",
      "|         US|   43622307|R1FZYL1HX7O4RM|B007TOIA66|     954138793|Eric 11\" Giant Si...| Office Products|          1|            0|          0|   N|                Y|            One Star|worked about a mo...| 2015-08-31|\n",
      "|         US|   50773856|R22ENT0KU5CHPX|B00EANURCE|      43216076|Brother MFCJ450 W...| Office Products|          5|            0|          0|   N|                Y|Brothers Wireless...|I purchased this ...| 2015-08-31|\n",
      "|         US|   10165223|R2E5M7FWJC9JLE|B00T3Q0EOO|     637096152|Clarity D613 DECT...| Office Products|          5|            0|          0|   N|                Y|          Five Stars|Everything works ...| 2015-08-31|\n",
      "|         US|   14744748|R31BNW3O2Q5J3E|B00WN0N818|     710040412|Permo 50 Feet Whi...| Office Products|          5|            0|          0|   N|                Y|          Five Stars|          Thank you!| 2015-08-31|\n",
      "|         US|   37536631|R1JMQF1OOMNF49|B001GAOTSW|     696023182|Pilot G2 Retracta...| Office Products|          5|            0|          0|   N|                Y|          Five Stars|     Love these pens| 2015-08-31|\n",
      "|         US|     126687| RJH6WQDOA6CZP|B003BNY7PW|     474277918|AT&T DECT 6.0 Acc...| Office Products|          5|            0|          0|   N|                Y|          Five Stars|The product is ev...| 2015-08-31|\n",
      "|         US|   31130095|R2EVL0Z5JVV86X|B00092RJX0|     887474295|Pilot G2 Retracta...| Office Products|          5|            0|          0|   N|                Y|          Five Stars|           Great buy| 2015-08-31|\n",
      "+-----------+-----------+--------------+----------+--------------+--------------------+----------------+-----------+-------------+-----------+----+-----------------+--------------------+--------------------+-----------+\n",
      "only showing top 20 rows\n",
      "\n"
     ]
    }
   ],
   "source": [
    "#Before using spark, need to install and set up spark, Hadoop and Jdk locally on your laptop\n",
    "\n",
    "\n",
    "from pyspark.sql import SparkSession\n",
    "\n",
    "# Initialize SparkSession\n",
    "spark = SparkSession.builder \\\n",
    "    .appName(\"etl\") \\\n",
    "    .config(\"spark.master\", \"local\") \\\n",
    "    .config(\"spark.jars\", \"F:/UniPrj/Big Data Project/postgresql-42.2.16.jar\") \\\n",
    "    .getOrCreate()\n",
    "\n",
    "#Load Amazon Data into Spark DataFrame\n",
    "#1 load product segment - Office Products Segment --> download dataset tsv file\n",
    "file_path = \"F:/UniPrj/Big Data Project/Datasets/amazon_reviews_us_Office_Products_v1_00.tsv\"\n",
    "df = spark.read.option(\"encoding\", \"UTF-8\").csv(file_path, sep=\"\\t\", header=True, inferSchema=True)\n",
    "\n",
    "# Show the first few rows of the DataFrame\n",
    "df.show()\n"
   ]
  },
  {
   "cell_type": "code",
   "execution_count": 2,
   "id": "9c41d791-754d-436a-99e2-e9e4ab075ac6",
   "metadata": {},
   "outputs": [
    {
     "name": "stdout",
     "output_type": "stream",
     "text": [
      "root\n",
      " |-- marketplace: string (nullable = true)\n",
      " |-- customer_id: integer (nullable = true)\n",
      " |-- review_id: string (nullable = true)\n",
      " |-- product_id: string (nullable = true)\n",
      " |-- product_parent: integer (nullable = true)\n",
      " |-- product_title: string (nullable = true)\n",
      " |-- product_category: string (nullable = true)\n",
      " |-- star_rating: string (nullable = true)\n",
      " |-- helpful_votes: integer (nullable = true)\n",
      " |-- total_votes: integer (nullable = true)\n",
      " |-- vine: string (nullable = true)\n",
      " |-- verified_purchase: string (nullable = true)\n",
      " |-- review_headline: string (nullable = true)\n",
      " |-- review_body: string (nullable = true)\n",
      " |-- review_date: date (nullable = true)\n",
      "\n",
      "(2642434, 15)\n"
     ]
    }
   ],
   "source": [
    "#Create DataFrame - Perform Preliminary Cleaning\n",
    "\n",
    "#1 Check the schema, print row & column count\n",
    "df.printSchema()\n",
    "print((df.count(), len(df.columns)))"
   ]
  },
  {
   "cell_type": "code",
   "execution_count": 3,
   "id": "9a254d43-bff1-486d-8314-75d635124d3e",
   "metadata": {},
   "outputs": [
    {
     "name": "stdout",
     "output_type": "stream",
     "text": [
      "+-----------+--------------+----------+--------------------+----------------+-----------+-------------+-----------+-----------------+\n",
      "|customer_id|     review_id|product_id|       product_title|product_category|star_rating|helpful_votes|total_votes|verified_purchase|\n",
      "+-----------+--------------+----------+--------------------+----------------+-----------+-------------+-----------+-----------------+\n",
      "|   43081963|R18RVCKGH1SSI9|B001BM2MAC|Scotch Cushion Wr...| Office Products|          5|            0|          0|                Y|\n",
      "|   10951564|R3L4L6LW1PUOFY|B00DZYEXPQ|Dust-Off Compress...| Office Products|          5|            0|          1|                Y|\n",
      "|   21143145|R2J8AWXWTDX2TF|B00RTMUHDW|Amram Tagger Stan...| Office Products|          5|            0|          0|                Y|\n",
      "|   52782374|R1PR37BR7G3M6A|B00D7H8XB6|AmazonBasics 12-S...| Office Products|          1|            2|          3|                Y|\n",
      "|   24045652|R3BDDDZMZBZDPU|B001XCWP34|Derwent Colored P...| Office Products|          4|            0|          0|                Y|\n",
      "|   21751234| R8T6MO75ND212|B004J2NBCO|Quartet Magnetic ...| Office Products|          5|            0|          0|                Y|\n",
      "|    9109358|R2YWMQT2V11XYZ|B00MOPAG8K|KITLEX40X2592UNV2...| Office Products|          5|            0|          0|                N|\n",
      "|    9967215|R1V2HYL6OI9V39|B003AHIK7U|Bible Dry Highlig...| Office Products|          5|            6|          6|                Y|\n",
      "|   11234247|R3BLQBKUNXGFS4|B006TKH2RO|Parker Ingenuity ...| Office Products|          5|            0|          0|                Y|\n",
      "|   12731488|R17MOWJCAR9Y8Q|B00W61M9K0| RFID Card Protector| Office Products|          5|            0|          0|                Y|\n",
      "|   49861762|R11EPG1GHOXMGB|B00BXOGI3A|The Original Stan...| Office Products|          4|            0|          0|                N|\n",
      "|    1541556|R2797NKTEX5THN|B0018RHWGE|Zebra Sparky-1 WK...| Office Products|          5|            0|          0|                Y|\n",
      "|   10579374|R2RUTMJS50E4WF|B00IA8H2OG|E-Z Ink (TM) Comp...| Office Products|          5|            0|          0|                Y|\n",
      "|   43622307|R1FZYL1HX7O4RM|B007TOIA66|Eric 11\" Giant Si...| Office Products|          1|            0|          0|                Y|\n",
      "|   50773856|R22ENT0KU5CHPX|B00EANURCE|Brother MFCJ450 W...| Office Products|          5|            0|          0|                Y|\n",
      "|   10165223|R2E5M7FWJC9JLE|B00T3Q0EOO|Clarity D613 DECT...| Office Products|          5|            0|          0|                Y|\n",
      "|   14744748|R31BNW3O2Q5J3E|B00WN0N818|Permo 50 Feet Whi...| Office Products|          5|            0|          0|                Y|\n",
      "|   37536631|R1JMQF1OOMNF49|B001GAOTSW|Pilot G2 Retracta...| Office Products|          5|            0|          0|                Y|\n",
      "|     126687| RJH6WQDOA6CZP|B003BNY7PW|AT&T DECT 6.0 Acc...| Office Products|          5|            0|          0|                Y|\n",
      "|   31130095|R2EVL0Z5JVV86X|B00092RJX0|Pilot G2 Retracta...| Office Products|          5|            0|          0|                Y|\n",
      "+-----------+--------------+----------+--------------------+----------------+-----------+-------------+-----------+-----------------+\n",
      "only showing top 20 rows\n",
      "\n"
     ]
    }
   ],
   "source": [
    "#2 Drop the round 1 columns\n",
    "columns_to_drop = ['marketplace', 'product_parent', 'vine', 'review_headline', 'review_body', 'review_date']\n",
    "df_dropped = df.drop(*columns_to_drop)\n",
    "df_dropped.show()"
   ]
  },
  {
   "cell_type": "code",
   "execution_count": 4,
   "id": "b1dfe80a-04bb-4d62-b9c4-2cc490d75a5d",
   "metadata": {},
   "outputs": [
    {
     "name": "stdout",
     "output_type": "stream",
     "text": [
      "(2257866, 9)\n"
     ]
    }
   ],
   "source": [
    "#3 Filter Step 1:\n",
    "df_filtered = df_dropped.filter(df_dropped.verified_purchase == 'Y')\n",
    "df_filtered.show\n",
    "print((df_filtered.count(), len(df_filtered.columns)))\n",
    "     "
   ]
  },
  {
   "cell_type": "code",
   "execution_count": 5,
   "id": "ff64bd76-9051-4cef-ba38-06835ee2ccb5",
   "metadata": {},
   "outputs": [
    {
     "name": "stdout",
     "output_type": "stream",
     "text": [
      "+-----------+--------------+----------+--------------------+----------------+-----------+-------------+-----------+\n",
      "|customer_id|     review_id|product_id|       product_title|product_category|star_rating|helpful_votes|total_votes|\n",
      "+-----------+--------------+----------+--------------------+----------------+-----------+-------------+-----------+\n",
      "|   43081963|R18RVCKGH1SSI9|B001BM2MAC|Scotch Cushion Wr...| Office Products|          5|            0|          0|\n",
      "|   10951564|R3L4L6LW1PUOFY|B00DZYEXPQ|Dust-Off Compress...| Office Products|          5|            0|          1|\n",
      "|   21143145|R2J8AWXWTDX2TF|B00RTMUHDW|Amram Tagger Stan...| Office Products|          5|            0|          0|\n",
      "|   52782374|R1PR37BR7G3M6A|B00D7H8XB6|AmazonBasics 12-S...| Office Products|          1|            2|          3|\n",
      "|   24045652|R3BDDDZMZBZDPU|B001XCWP34|Derwent Colored P...| Office Products|          4|            0|          0|\n",
      "|   21751234| R8T6MO75ND212|B004J2NBCO|Quartet Magnetic ...| Office Products|          5|            0|          0|\n",
      "|    9967215|R1V2HYL6OI9V39|B003AHIK7U|Bible Dry Highlig...| Office Products|          5|            6|          6|\n",
      "|   11234247|R3BLQBKUNXGFS4|B006TKH2RO|Parker Ingenuity ...| Office Products|          5|            0|          0|\n",
      "|   12731488|R17MOWJCAR9Y8Q|B00W61M9K0| RFID Card Protector| Office Products|          5|            0|          0|\n",
      "|    1541556|R2797NKTEX5THN|B0018RHWGE|Zebra Sparky-1 WK...| Office Products|          5|            0|          0|\n",
      "|   10579374|R2RUTMJS50E4WF|B00IA8H2OG|E-Z Ink (TM) Comp...| Office Products|          5|            0|          0|\n",
      "|   43622307|R1FZYL1HX7O4RM|B007TOIA66|Eric 11\" Giant Si...| Office Products|          1|            0|          0|\n",
      "|   50773856|R22ENT0KU5CHPX|B00EANURCE|Brother MFCJ450 W...| Office Products|          5|            0|          0|\n",
      "|   10165223|R2E5M7FWJC9JLE|B00T3Q0EOO|Clarity D613 DECT...| Office Products|          5|            0|          0|\n",
      "|   14744748|R31BNW3O2Q5J3E|B00WN0N818|Permo 50 Feet Whi...| Office Products|          5|            0|          0|\n",
      "|   37536631|R1JMQF1OOMNF49|B001GAOTSW|Pilot G2 Retracta...| Office Products|          5|            0|          0|\n",
      "|     126687| RJH6WQDOA6CZP|B003BNY7PW|AT&T DECT 6.0 Acc...| Office Products|          5|            0|          0|\n",
      "|   31130095|R2EVL0Z5JVV86X|B00092RJX0|Pilot G2 Retracta...| Office Products|          5|            0|          0|\n",
      "|   14300387| R8NWAB2MG94Z6|B000050FZP|AT&T 210M Trimlin...| Office Products|          1|            1|          1|\n",
      "|   22083223|R30C4P6E397CB7|B00EUI162O|Sophia Global Com...| Office Products|          5|            0|          0|\n",
      "+-----------+--------------+----------+--------------------+----------------+-----------+-------------+-----------+\n",
      "only showing top 20 rows\n",
      "\n"
     ]
    }
   ],
   "source": [
    "#4 drop filtered verified_purchase column\n",
    "columns_to_drop = ['verified_purchase']\n",
    "df_dropped_2 = df_filtered.drop(*columns_to_drop)\n",
    "df_dropped_2.show()"
   ]
  },
  {
   "cell_type": "code",
   "execution_count": 6,
   "id": "723fbdc0-9083-4cb0-aedd-30aa6e8c5c51",
   "metadata": {},
   "outputs": [
    {
     "name": "stdout",
     "output_type": "stream",
     "text": [
      "+-----------+----------------+\n",
      "|customer_id|product_category|\n",
      "+-----------+----------------+\n",
      "|   43081963| Office Products|\n",
      "|   10951564| Office Products|\n",
      "|   21143145| Office Products|\n",
      "|   52782374| Office Products|\n",
      "|   24045652| Office Products|\n",
      "|   21751234| Office Products|\n",
      "|    9967215| Office Products|\n",
      "|   11234247| Office Products|\n",
      "|   12731488| Office Products|\n",
      "|    1541556| Office Products|\n",
      "|   10579374| Office Products|\n",
      "|   43622307| Office Products|\n",
      "|   50773856| Office Products|\n",
      "|   10165223| Office Products|\n",
      "|   14744748| Office Products|\n",
      "|   37536631| Office Products|\n",
      "|     126687| Office Products|\n",
      "|   31130095| Office Products|\n",
      "|   14300387| Office Products|\n",
      "|   22083223| Office Products|\n",
      "+-----------+----------------+\n",
      "only showing top 20 rows\n",
      "\n"
     ]
    }
   ],
   "source": [
    "# Create Analysis-Specific DFs/Tables\n",
    "# Perform Analysis-Specific Transforms\n",
    "# Segmentation Analysis DF\n",
    "\n",
    "# 1 Create Segmentation DF by Droppig Addtional Columns\n",
    "segmentation_cols_drop = ['review_id', 'product_id', 'product_title', 'star_rating', 'helpful_votes', 'total_votes']\n",
    "segmentation_dropped_df = df_dropped_2.drop(*segmentation_cols_drop)\n",
    "segmentation_dropped_df.show()"
   ]
  },
  {
   "cell_type": "code",
   "execution_count": 7,
   "id": "53e272b2-5b65-4b63-988f-dd5a156291fd",
   "metadata": {},
   "outputs": [
    {
     "name": "stdout",
     "output_type": "stream",
     "text": [
      "+-----------+---------------+\n",
      "|customer_id|office_products|\n",
      "+-----------+---------------+\n",
      "|   43622307|              1|\n",
      "|   33972406|              1|\n",
      "|     108460|              1|\n",
      "|   43515569|              1|\n",
      "|     132406|              1|\n",
      "|   42560427|              1|\n",
      "|    1673863|              2|\n",
      "|   14552054|              1|\n",
      "|   45632184|              1|\n",
      "|   14703850|              2|\n",
      "|   35768925|              3|\n",
      "|   45640757|             28|\n",
      "|   33194403|              1|\n",
      "|   39383689|              1|\n",
      "|   10645124|              1|\n",
      "|   52512151|             10|\n",
      "|   14646714|              1|\n",
      "|   38659596|              1|\n",
      "|   15634680|              1|\n",
      "|   44178035|              1|\n",
      "+-----------+---------------+\n",
      "only showing top 20 rows\n",
      "\n"
     ]
    }
   ],
   "source": [
    "#Note: must change Category Label name in withColumnRenamed('count(product_category)', 'name')\n",
    "\n",
    "\n",
    "#2 Segmentation GroupBy\n",
    "#2a GroupBy customer_id\n",
    "#2b Count product_category and rename count columns as Segment Name\n",
    "segment_df = segmentation_dropped_df.groupby(\"customer_id\")\\\n",
    ".agg({'product_category':'count'}).withColumnRenamed('count(product_category)', 'office_products')\n",
    "#2c Check results\n",
    "segment_df.show()\n",
    "     "
   ]
  },
  {
   "cell_type": "code",
   "execution_count": 8,
   "id": "4476a2d8-4055-4d62-966c-42fbd1abc94a",
   "metadata": {},
   "outputs": [
    {
     "name": "stdout",
     "output_type": "stream",
     "text": [
      "root\n",
      " |-- customer_id: integer (nullable = true)\n",
      " |-- office_products: long (nullable = false)\n",
      "\n",
      "1557076\n"
     ]
    }
   ],
   "source": [
    "#3 Check segment_df Schema and Row Count\n",
    "segment_df.printSchema()\n",
    "print(segment_df.count())"
   ]
  },
  {
   "cell_type": "code",
   "execution_count": 9,
   "id": "1f5cf7bf-88f0-4106-b6e7-afd3184a9dbd",
   "metadata": {},
   "outputs": [
    {
     "name": "stdout",
     "output_type": "stream",
     "text": [
      "+-----------+---------------+\n",
      "|customer_id|office_products|\n",
      "+-----------+---------------+\n",
      "|   46054413|            121|\n",
      "|    5044927|            117|\n",
      "|   16016941|            104|\n",
      "|   50749068|            101|\n",
      "|   44115969|             99|\n",
      "|   44062423|             99|\n",
      "|   39061233|             97|\n",
      "|   51148531|             84|\n",
      "|   35321242|             79|\n",
      "|   50820654|             76|\n",
      "|   11474525|             72|\n",
      "|   13521389|             69|\n",
      "|     544143|             69|\n",
      "|   38398088|             69|\n",
      "|   52443411|             69|\n",
      "|   51126130|             68|\n",
      "|   11451031|             66|\n",
      "|   49452274|             66|\n",
      "|   33928846|             66|\n",
      "|   41309704|             66|\n",
      "+-----------+---------------+\n",
      "only showing top 20 rows\n",
      "\n",
      "100000\n"
     ]
    }
   ],
   "source": [
    "#Note: Column Name in df.sort('name' ...) must align with Column name from step 2\n",
    "\n",
    "\n",
    "#4 Filter for Top n Results\n",
    "#4a Declare number of rows to filter by (100,000)\n",
    "row_count = 100000\n",
    "#4a Sort by Segment Desc and limit to row_count\n",
    "filtered_segment_df = segment_df.sort('office_products', ascending=False).limit(row_count)\n",
    "#4b Check Results\n",
    "filtered_segment_df.show()\n",
    "print(filtered_segment_df.count())"
   ]
  },
  {
   "cell_type": "code",
   "execution_count": 10,
   "id": "54655e0a-104c-4f6c-817f-282a799d0d47",
   "metadata": {},
   "outputs": [],
   "source": [
    "#Segmentation ETL Complete - Add Database Export Code\n",
    "\n",
    "# Configure settings for RDS\n",
    "mode = \"append\"\n",
    "jdbc_url = 'jdbc:postgresql://localhost:5432/AmazonProducts'\n",
    "config = {\"user\":'postgres', \n",
    "          \"password\": 'root', \n",
    "          \"driver\":\"org.postgresql.Driver\"}"
   ]
  },
  {
   "cell_type": "code",
   "execution_count": 11,
   "id": "20528f9b-9218-454f-be76-791a99b3f872",
   "metadata": {},
   "outputs": [],
   "source": [
    "#Note: table name in table='name_segment' must align with table name in Postgres\n",
    "\n",
    "\n",
    "# Write segment table to Postgres/RDS\n",
    "# xx mins\n",
    "filtered_segment_df.write.jdbc(url=jdbc_url, table='office_products_segment', mode=mode, properties=config)\n",
    "     "
   ]
  },
  {
   "cell_type": "code",
   "execution_count": 12,
   "id": "00854590-87bb-4389-9c82-0323b5aa88fe",
   "metadata": {},
   "outputs": [
    {
     "name": "stdout",
     "output_type": "stream",
     "text": [
      "Segment ETL Successful\n"
     ]
    }
   ],
   "source": [
    "# Run Queries in Postgres to Confirm Segment ETL\n",
    "# Check Row Count of Segment Table - SELECT COUNT(*) FROM office_products_segment;\n",
    "\n",
    "# Check 10 Rows of Segment Table - SELECT * FROM office_products_segment LIMIT(10);\n",
    "\n",
    "\n",
    "# Upon Confirmation of Above Checks Run This Cell\n",
    "print('Segment ETL Successful')"
   ]
  }
 ],
 "metadata": {
  "kernelspec": {
   "display_name": "Python 3 (ipykernel)",
   "language": "python",
   "name": "python3"
  },
  "language_info": {
   "codemirror_mode": {
    "name": "ipython",
    "version": 3
   },
   "file_extension": ".py",
   "mimetype": "text/x-python",
   "name": "python",
   "nbconvert_exporter": "python",
   "pygments_lexer": "ipython3",
   "version": "3.11.4"
  },
  "widgets": {
   "application/vnd.jupyter.widget-state+json": {
    "state": {},
    "version_major": 2,
    "version_minor": 0
   }
  }
 },
 "nbformat": 4,
 "nbformat_minor": 5
}
