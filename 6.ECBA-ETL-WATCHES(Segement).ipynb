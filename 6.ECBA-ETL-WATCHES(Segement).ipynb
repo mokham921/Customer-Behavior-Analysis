{
 "cells": [
  {
   "cell_type": "code",
   "execution_count": 1,
   "id": "3349137b-7de7-4b55-810b-405143d721b3",
   "metadata": {},
   "outputs": [
    {
     "name": "stdout",
     "output_type": "stream",
     "text": [
      "+-----------+-----------+--------------+----------+--------------+--------------------+----------------+-----------+-------------+-----------+----+-----------------+--------------------+--------------------+-----------+\n",
      "|marketplace|customer_id|     review_id|product_id|product_parent|       product_title|product_category|star_rating|helpful_votes|total_votes|vine|verified_purchase|     review_headline|         review_body|review_date|\n",
      "+-----------+-----------+--------------+----------+--------------+--------------------+----------------+-----------+-------------+-----------+----+-----------------+--------------------+--------------------+-----------+\n",
      "|         US|    3653882|R3O9SGZBVQBV76|B00FALQ1ZC|     937001370|Invicta Women's 1...|         Watches|          5|            0|          0|   N|                Y|          Five Stars|Absolutely love t...| 2015-08-31|\n",
      "|         US|   14661224| RKH8BNC3L5DLF|B00D3RGO20|     484010722|Kenneth Cole New ...|         Watches|          5|            0|          0|   N|                Y|I love thiswatch ...|I love this watch...| 2015-08-31|\n",
      "|         US|   27324930|R2HLE8WKZSU3NL|B00DKYC7TK|     361166390|Ritche 22mm Black...|         Watches|          2|            1|          1|   N|                Y|           Two Stars|           Scratches| 2015-08-31|\n",
      "|         US|    7211452|R31U3UH5AZ42LL|B000EQS1JW|     958035625|Citizen Men's BM8...|         Watches|          5|            0|          0|   N|                Y|          Five Stars|It works well on ...| 2015-08-31|\n",
      "|         US|   12733322|R2SV659OUJ945Y|B00A6GFD7S|     765328221|Orient ER27009B M...|         Watches|          4|            0|          0|   N|                Y|Beautiful face, b...|Beautiful watch f...| 2015-08-31|\n",
      "|         US|    6576411| RA51CP8TR5A2L|B00EYSOSE8|     230493695|Casio Men's GW-94...|         Watches|          5|            0|          0|   N|                Y|       No complaints|i love this watch...| 2015-08-31|\n",
      "|         US|   11811565| RB2Q7DLDN6TH6|B00WM0QA3M|     549298279|Fossil Women's ES...|         Watches|          5|            1|          1|   N|                Y|          Five Stars|for my wife and s...| 2015-08-31|\n",
      "|         US|   49401598|R2RHFJV0UYBK3Y|B00A4EYBR0|     844009113|INFANTRY Mens Nig...|         Watches|          1|            1|          5|   N|                N|I was about to bu...|I was about to bu...| 2015-08-31|\n",
      "|         US|   45925069|R2Z6JOQ94LFHEP|B00MAMPGGE|     263720892|G-Shock Men's Gre...|         Watches|          5|            1|          2|   N|                Y|      Perfect watch!|Watch is perfect....| 2015-08-31|\n",
      "|         US|   44751341| RX27XIIWY5JPB|B004LBPB7Q|     124278407|Heiden Quad Watch...|         Watches|          4|            0|          0|   N|                Y|Great quality and...|Great quality and...| 2015-08-31|\n",
      "|         US|    9962330|R15C7QEZT0LGZN|B00KGTVGKS|      28017857|Fossil Women's ES...|         Watches|          4|            2|          2|   N|                Y|           Satisfied|The watch was pre...| 2015-08-31|\n",
      "|         US|   16097204|R361XSS37V0NCZ|B0039UT5OU|     685450910|Casio General Men...|         Watches|          1|            0|          0|   N|                N|I do not think th...|I bought this wat...| 2015-08-31|\n",
      "|         US|   51330346| ROTNLALUAJAUB|B00MPF0XJQ|     767769082|2Tone Gold Silver...|         Watches|          3|            0|          0|   N|                Y|         Three Stars|It is a cheap wat...| 2015-08-31|\n",
      "|         US|    4201739|R2DYX7QU6BGOHR|B003P1OHHS|     648595227|Bulova Men's 98B1...|         Watches|          5|            0|          0|   N|                Y|          Five Stars|Heavier than i th...| 2015-08-31|\n",
      "|         US|   26339765| RWASY7FKI7QOT|B00R70YEOE|     457338020|Casio - G-Shock -...|         Watches|          5|            2|          3|   N|                Y|  Worth it - love it|Had it for severa...| 2015-08-31|\n",
      "|         US|    2692576|R2KKYZIN3CCL21|B000FVE3BG|     824370661|Invicta Men's 332...|         Watches|          5|            0|          0|   N|                Y|This is when diff...|This one is diffe...| 2015-08-31|\n",
      "|         US|   44713366|R22H4FGVD5O52O|B008X6JB12|     814431355|Seiko Women's SUT...|         Watches|          4|            1|          1|   N|                Y|Thewatch is attra...|The watch is attr...| 2015-08-31|\n",
      "|         US|   32778769|R11UACZERCM4ZY|B0040UOFPW|     187700878|Anne Klein Women'...|         Watches|          5|            0|          0|   N|                Y|          Five Stars|      said my wife..| 2015-08-31|\n",
      "|         US|   27258523|R1AT8NQ38UQOL6|B00UR2R5UY|     594315262|Guess U13630G1 Me...|         Watches|          5|            0|          0|   N|                Y|          Five Stars|Nice watch, on ti...| 2015-08-31|\n",
      "|         US|   42646538|R2NCZRQGIF1Q75|B00HFF57L0|     520810507|Nixon Men's Geo V...|         Watches|          4|            0|          0|   N|                Y|        Very stylish|Looks great and l...| 2015-08-31|\n",
      "+-----------+-----------+--------------+----------+--------------+--------------------+----------------+-----------+-------------+-----------+----+-----------------+--------------------+--------------------+-----------+\n",
      "only showing top 20 rows\n",
      "\n"
     ]
    }
   ],
   "source": [
    "#Before using spark, need to install and set up spark, Hadoop and Jdk locally on your laptop\n",
    "\n",
    "\n",
    "from pyspark.sql import SparkSession\n",
    "\n",
    "# Initialize SparkSession\n",
    "spark = SparkSession.builder \\\n",
    "    .appName(\"etl\") \\\n",
    "    .config(\"spark.master\", \"local\") \\\n",
    "    .config(\"spark.jars\", \"F:/UniPrj/Big Data Project/postgresql-42.2.16.jar\") \\\n",
    "    .getOrCreate()\n",
    "\n",
    "#Load Amazon Data into Spark DataFrame\n",
    "#1 load product segment - Watches Segment --> download dataset tsv file\n",
    "file_path = \"F:/UniPrj/Big Data Project/Datasets/amazon_reviews_us_Watches_v1_00.tsv\"\n",
    "df = spark.read.option(\"encoding\", \"UTF-8\").csv(file_path, sep=\"\\t\", header=True, inferSchema=True)\n",
    "\n",
    "# Show the first few rows of the DataFrame\n",
    "df.show()\n"
   ]
  },
  {
   "cell_type": "code",
   "execution_count": 2,
   "id": "8f6c88d3-e023-4d30-b2d0-6c25d29171b7",
   "metadata": {},
   "outputs": [
    {
     "name": "stdout",
     "output_type": "stream",
     "text": [
      "root\n",
      " |-- marketplace: string (nullable = true)\n",
      " |-- customer_id: integer (nullable = true)\n",
      " |-- review_id: string (nullable = true)\n",
      " |-- product_id: string (nullable = true)\n",
      " |-- product_parent: integer (nullable = true)\n",
      " |-- product_title: string (nullable = true)\n",
      " |-- product_category: string (nullable = true)\n",
      " |-- star_rating: integer (nullable = true)\n",
      " |-- helpful_votes: integer (nullable = true)\n",
      " |-- total_votes: integer (nullable = true)\n",
      " |-- vine: string (nullable = true)\n",
      " |-- verified_purchase: string (nullable = true)\n",
      " |-- review_headline: string (nullable = true)\n",
      " |-- review_body: string (nullable = true)\n",
      " |-- review_date: date (nullable = true)\n",
      "\n",
      "(960872, 15)\n"
     ]
    }
   ],
   "source": [
    "#Create DataFrame - Perform Preliminary Cleaning\n",
    "\n",
    "#1 Check the schema, print row & column count\n",
    "df.printSchema()\n",
    "print((df.count(), len(df.columns)))"
   ]
  },
  {
   "cell_type": "code",
   "execution_count": 3,
   "id": "e46bb45e-f17c-4006-a1e7-7a588d501093",
   "metadata": {},
   "outputs": [
    {
     "name": "stdout",
     "output_type": "stream",
     "text": [
      "+-----------+--------------+----------+--------------------+----------------+-----------+-------------+-----------+-----------------+\n",
      "|customer_id|     review_id|product_id|       product_title|product_category|star_rating|helpful_votes|total_votes|verified_purchase|\n",
      "+-----------+--------------+----------+--------------------+----------------+-----------+-------------+-----------+-----------------+\n",
      "|    3653882|R3O9SGZBVQBV76|B00FALQ1ZC|Invicta Women's 1...|         Watches|          5|            0|          0|                Y|\n",
      "|   14661224| RKH8BNC3L5DLF|B00D3RGO20|Kenneth Cole New ...|         Watches|          5|            0|          0|                Y|\n",
      "|   27324930|R2HLE8WKZSU3NL|B00DKYC7TK|Ritche 22mm Black...|         Watches|          2|            1|          1|                Y|\n",
      "|    7211452|R31U3UH5AZ42LL|B000EQS1JW|Citizen Men's BM8...|         Watches|          5|            0|          0|                Y|\n",
      "|   12733322|R2SV659OUJ945Y|B00A6GFD7S|Orient ER27009B M...|         Watches|          4|            0|          0|                Y|\n",
      "|    6576411| RA51CP8TR5A2L|B00EYSOSE8|Casio Men's GW-94...|         Watches|          5|            0|          0|                Y|\n",
      "|   11811565| RB2Q7DLDN6TH6|B00WM0QA3M|Fossil Women's ES...|         Watches|          5|            1|          1|                Y|\n",
      "|   49401598|R2RHFJV0UYBK3Y|B00A4EYBR0|INFANTRY Mens Nig...|         Watches|          1|            1|          5|                N|\n",
      "|   45925069|R2Z6JOQ94LFHEP|B00MAMPGGE|G-Shock Men's Gre...|         Watches|          5|            1|          2|                Y|\n",
      "|   44751341| RX27XIIWY5JPB|B004LBPB7Q|Heiden Quad Watch...|         Watches|          4|            0|          0|                Y|\n",
      "|    9962330|R15C7QEZT0LGZN|B00KGTVGKS|Fossil Women's ES...|         Watches|          4|            2|          2|                Y|\n",
      "|   16097204|R361XSS37V0NCZ|B0039UT5OU|Casio General Men...|         Watches|          1|            0|          0|                N|\n",
      "|   51330346| ROTNLALUAJAUB|B00MPF0XJQ|2Tone Gold Silver...|         Watches|          3|            0|          0|                Y|\n",
      "|    4201739|R2DYX7QU6BGOHR|B003P1OHHS|Bulova Men's 98B1...|         Watches|          5|            0|          0|                Y|\n",
      "|   26339765| RWASY7FKI7QOT|B00R70YEOE|Casio - G-Shock -...|         Watches|          5|            2|          3|                Y|\n",
      "|    2692576|R2KKYZIN3CCL21|B000FVE3BG|Invicta Men's 332...|         Watches|          5|            0|          0|                Y|\n",
      "|   44713366|R22H4FGVD5O52O|B008X6JB12|Seiko Women's SUT...|         Watches|          4|            1|          1|                Y|\n",
      "|   32778769|R11UACZERCM4ZY|B0040UOFPW|Anne Klein Women'...|         Watches|          5|            0|          0|                Y|\n",
      "|   27258523|R1AT8NQ38UQOL6|B00UR2R5UY|Guess U13630G1 Me...|         Watches|          5|            0|          0|                Y|\n",
      "|   42646538|R2NCZRQGIF1Q75|B00HFF57L0|Nixon Men's Geo V...|         Watches|          4|            0|          0|                Y|\n",
      "+-----------+--------------+----------+--------------------+----------------+-----------+-------------+-----------+-----------------+\n",
      "only showing top 20 rows\n",
      "\n"
     ]
    }
   ],
   "source": [
    "#2 Drop the round 1 columns\n",
    "columns_to_drop = ['marketplace', 'product_parent', 'vine', 'review_headline', 'review_body', 'review_date']\n",
    "df_dropped = df.drop(*columns_to_drop)\n",
    "df_dropped.show()"
   ]
  },
  {
   "cell_type": "code",
   "execution_count": 4,
   "id": "08bb3f7d-cacf-433d-9cbb-837fc1df25af",
   "metadata": {},
   "outputs": [
    {
     "name": "stdout",
     "output_type": "stream",
     "text": [
      "(831415, 9)\n"
     ]
    }
   ],
   "source": [
    "#3 Filter Step 1:\n",
    "df_filtered = df_dropped.filter(df_dropped.verified_purchase == 'Y')\n",
    "df_filtered.show\n",
    "print((df_filtered.count(), len(df_filtered.columns)))\n",
    "     "
   ]
  },
  {
   "cell_type": "code",
   "execution_count": 5,
   "id": "054a4f57-8ba9-42ce-abcd-434f6ed6ff37",
   "metadata": {},
   "outputs": [
    {
     "name": "stdout",
     "output_type": "stream",
     "text": [
      "+-----------+--------------+----------+--------------------+----------------+-----------+-------------+-----------+\n",
      "|customer_id|     review_id|product_id|       product_title|product_category|star_rating|helpful_votes|total_votes|\n",
      "+-----------+--------------+----------+--------------------+----------------+-----------+-------------+-----------+\n",
      "|    3653882|R3O9SGZBVQBV76|B00FALQ1ZC|Invicta Women's 1...|         Watches|          5|            0|          0|\n",
      "|   14661224| RKH8BNC3L5DLF|B00D3RGO20|Kenneth Cole New ...|         Watches|          5|            0|          0|\n",
      "|   27324930|R2HLE8WKZSU3NL|B00DKYC7TK|Ritche 22mm Black...|         Watches|          2|            1|          1|\n",
      "|    7211452|R31U3UH5AZ42LL|B000EQS1JW|Citizen Men's BM8...|         Watches|          5|            0|          0|\n",
      "|   12733322|R2SV659OUJ945Y|B00A6GFD7S|Orient ER27009B M...|         Watches|          4|            0|          0|\n",
      "|    6576411| RA51CP8TR5A2L|B00EYSOSE8|Casio Men's GW-94...|         Watches|          5|            0|          0|\n",
      "|   11811565| RB2Q7DLDN6TH6|B00WM0QA3M|Fossil Women's ES...|         Watches|          5|            1|          1|\n",
      "|   45925069|R2Z6JOQ94LFHEP|B00MAMPGGE|G-Shock Men's Gre...|         Watches|          5|            1|          2|\n",
      "|   44751341| RX27XIIWY5JPB|B004LBPB7Q|Heiden Quad Watch...|         Watches|          4|            0|          0|\n",
      "|    9962330|R15C7QEZT0LGZN|B00KGTVGKS|Fossil Women's ES...|         Watches|          4|            2|          2|\n",
      "|   51330346| ROTNLALUAJAUB|B00MPF0XJQ|2Tone Gold Silver...|         Watches|          3|            0|          0|\n",
      "|    4201739|R2DYX7QU6BGOHR|B003P1OHHS|Bulova Men's 98B1...|         Watches|          5|            0|          0|\n",
      "|   26339765| RWASY7FKI7QOT|B00R70YEOE|Casio - G-Shock -...|         Watches|          5|            2|          3|\n",
      "|    2692576|R2KKYZIN3CCL21|B000FVE3BG|Invicta Men's 332...|         Watches|          5|            0|          0|\n",
      "|   44713366|R22H4FGVD5O52O|B008X6JB12|Seiko Women's SUT...|         Watches|          4|            1|          1|\n",
      "|   32778769|R11UACZERCM4ZY|B0040UOFPW|Anne Klein Women'...|         Watches|          5|            0|          0|\n",
      "|   27258523|R1AT8NQ38UQOL6|B00UR2R5UY|Guess U13630G1 Me...|         Watches|          5|            0|          0|\n",
      "|   42646538|R2NCZRQGIF1Q75|B00HFF57L0|Nixon Men's Geo V...|         Watches|          4|            0|          0|\n",
      "|   46017899| RJ9HWWMU4IAHF|B00F5O06E6|Nautica Men's N14...|         Watches|          4|            1|          1|\n",
      "|   37192375|R3CNTCKG352GL1|B00CHS398I|HDE Watch Link Pi...|         Watches|          4|            0|          0|\n",
      "+-----------+--------------+----------+--------------------+----------------+-----------+-------------+-----------+\n",
      "only showing top 20 rows\n",
      "\n"
     ]
    }
   ],
   "source": [
    "#4 drop filtered verified_purchase column\n",
    "columns_to_drop = ['verified_purchase']\n",
    "df_dropped_2 = df_filtered.drop(*columns_to_drop)\n",
    "df_dropped_2.show()"
   ]
  },
  {
   "cell_type": "code",
   "execution_count": 6,
   "id": "870b7d37-28e7-442b-a70d-b724d5eced68",
   "metadata": {},
   "outputs": [
    {
     "name": "stdout",
     "output_type": "stream",
     "text": [
      "+-----------+----------------+\n",
      "|customer_id|product_category|\n",
      "+-----------+----------------+\n",
      "|    3653882|         Watches|\n",
      "|   14661224|         Watches|\n",
      "|   27324930|         Watches|\n",
      "|    7211452|         Watches|\n",
      "|   12733322|         Watches|\n",
      "|    6576411|         Watches|\n",
      "|   11811565|         Watches|\n",
      "|   45925069|         Watches|\n",
      "|   44751341|         Watches|\n",
      "|    9962330|         Watches|\n",
      "|   51330346|         Watches|\n",
      "|    4201739|         Watches|\n",
      "|   26339765|         Watches|\n",
      "|    2692576|         Watches|\n",
      "|   44713366|         Watches|\n",
      "|   32778769|         Watches|\n",
      "|   27258523|         Watches|\n",
      "|   42646538|         Watches|\n",
      "|   46017899|         Watches|\n",
      "|   37192375|         Watches|\n",
      "+-----------+----------------+\n",
      "only showing top 20 rows\n",
      "\n"
     ]
    }
   ],
   "source": [
    "#Create Analysis-Specific DFs/Tables\n",
    "#Perform Analysis-Specific Transforms\n",
    "#Segmentation Analysis DF\n",
    "\n",
    "# 1 Create Segmentation DF by Droppig Addtional Columns\n",
    "segmentation_cols_drop = ['review_id', 'product_id', 'product_title', 'star_rating', 'helpful_votes', 'total_votes']\n",
    "segmentation_dropped_df = df_dropped_2.drop(*segmentation_cols_drop)\n",
    "segmentation_dropped_df.show()"
   ]
  },
  {
   "cell_type": "code",
   "execution_count": 7,
   "id": "e6aabb35-bf89-4e57-96b4-a2906bbeabc1",
   "metadata": {},
   "outputs": [
    {
     "name": "stdout",
     "output_type": "stream",
     "text": [
      "+-----------+-------+\n",
      "|customer_id|watches|\n",
      "+-----------+-------+\n",
      "|    1567510|      1|\n",
      "|   19502021|      1|\n",
      "|   12819130|      1|\n",
      "|   35329257|      2|\n",
      "|     108460|      1|\n",
      "|    5453476|      1|\n",
      "|   29913055|      1|\n",
      "|   30717305|      1|\n",
      "|    1570030|      1|\n",
      "|   44178035|      1|\n",
      "|   26079415|      2|\n",
      "|   14230926|      1|\n",
      "|   43478048|      2|\n",
      "|   43694941|      1|\n",
      "|   12318815|      3|\n",
      "|   13731855|      1|\n",
      "|     740134|      1|\n",
      "|   41956754|      1|\n",
      "|   20324070|      3|\n",
      "|   10767388|      2|\n",
      "+-----------+-------+\n",
      "only showing top 20 rows\n",
      "\n"
     ]
    }
   ],
   "source": [
    "#Note: must change Category Label name in withColumnRenamed('count(product_category)', 'name')\n",
    "\n",
    "\n",
    "#2 Segmentation GroupBy\n",
    "#2a GroupBy customer_id\n",
    "#2b Count product_category and rename count columns as Segment Name\n",
    "segment_df = segmentation_dropped_df.groupby(\"customer_id\")\\\n",
    ".agg({'product_category':'count'}).withColumnRenamed('count(product_category)', 'watches')\n",
    "#2c Check results\n",
    "segment_df.show()"
   ]
  },
  {
   "cell_type": "code",
   "execution_count": 8,
   "id": "e2d07f69-aa35-467c-860b-f1a59e0bf6de",
   "metadata": {},
   "outputs": [
    {
     "name": "stdout",
     "output_type": "stream",
     "text": [
      "root\n",
      " |-- customer_id: integer (nullable = true)\n",
      " |-- watches: long (nullable = false)\n",
      "\n",
      "631959\n"
     ]
    }
   ],
   "source": [
    "#3 Check segment_df Schema and Row Count\n",
    "segment_df.printSchema()\n",
    "print(segment_df.count())"
   ]
  },
  {
   "cell_type": "code",
   "execution_count": 9,
   "id": "78389ad1-c6c9-4336-9d0f-e353c79c3abb",
   "metadata": {},
   "outputs": [
    {
     "name": "stdout",
     "output_type": "stream",
     "text": [
      "+-----------+-------+\n",
      "|customer_id|watches|\n",
      "+-----------+-------+\n",
      "|   40765068|    127|\n",
      "|    5072809|    105|\n",
      "|   42416004|     86|\n",
      "|   22962882|     66|\n",
      "|   44191290|     64|\n",
      "|   21375608|     59|\n",
      "|   25160623|     59|\n",
      "|   45112699|     59|\n",
      "|    1389173|     58|\n",
      "|    8887467|     55|\n",
      "|   28244369|     55|\n",
      "|    5956842|     53|\n",
      "|   18840148|     52|\n",
      "|   52581394|     52|\n",
      "|   52716989|     52|\n",
      "|   47769852|     51|\n",
      "|   20631789|     49|\n",
      "|   21148390|     48|\n",
      "|   31060423|     46|\n",
      "|   14726863|     45|\n",
      "+-----------+-------+\n",
      "only showing top 20 rows\n",
      "\n",
      "100000\n"
     ]
    }
   ],
   "source": [
    "#Note: Column Name in df.sort('name' ...) must align with Column name from step 2\n",
    "\n",
    "\n",
    "#4 Filter for Top n Results\n",
    "#4a Declare number of rows to filter by (100,000)\n",
    "row_count = 100000\n",
    "#4a Sort by Segment Desc and limit to row_count\n",
    "filtered_segment_df = segment_df.sort('watches', ascending=False).limit(row_count)\n",
    "#4b Check Results\n",
    "filtered_segment_df.show()\n",
    "print(filtered_segment_df.count())"
   ]
  },
  {
   "cell_type": "code",
   "execution_count": 10,
   "id": "ff0889b9-dffe-4baa-a06e-88c9d5bb3ea0",
   "metadata": {},
   "outputs": [],
   "source": [
    "#Segmentation ETL Complete - Add Database Export Code\n",
    "\n",
    "# Configure settings for RDS\n",
    "mode = \"append\"\n",
    "jdbc_url = 'jdbc:postgresql://localhost:5432/AmazonProducts'\n",
    "config = {\"user\":'postgres', \n",
    "          \"password\": 'root', \n",
    "          \"driver\":\"org.postgresql.Driver\"}\n"
   ]
  },
  {
   "cell_type": "code",
   "execution_count": 11,
   "id": "0a4b0c3d-c132-484e-a581-eb2fabbe4a1e",
   "metadata": {},
   "outputs": [],
   "source": [
    "#Note: table name in table='name_segment' must align with table name in Postgres\n",
    "\n",
    "\n",
    "# Write segment table to Postgres/RDS\n",
    "# 23 secs\n",
    "filtered_segment_df.write.jdbc(url=jdbc_url, table='watches_segment', mode=mode, properties=config)\n",
    "     "
   ]
  },
  {
   "cell_type": "code",
   "execution_count": 12,
   "id": "863ebfda-498f-4c0d-9030-fcec8f5541d7",
   "metadata": {},
   "outputs": [
    {
     "name": "stdout",
     "output_type": "stream",
     "text": [
      "Segment ETL Successful\n"
     ]
    }
   ],
   "source": [
    "# Run Queries in Postgres to Confirm Segment ETL\n",
    "# Check Row Count of Segment Table - SELECT COUNT(*) FROM watches_segment;\n",
    "\n",
    "# Check 10 Rows of Segment Table - SELECT * FROM watches_segment LIMIT(10);\n",
    "\n",
    "\n",
    "# Upon Confirmation of Above Checks Run This Cell\n",
    "print('Segment ETL Successful')"
   ]
  }
 ],
 "metadata": {
  "kernelspec": {
   "display_name": "Python 3 (ipykernel)",
   "language": "python",
   "name": "python3"
  },
  "language_info": {
   "codemirror_mode": {
    "name": "ipython",
    "version": 3
   },
   "file_extension": ".py",
   "mimetype": "text/x-python",
   "name": "python",
   "nbconvert_exporter": "python",
   "pygments_lexer": "ipython3",
   "version": "3.11.4"
  },
  "widgets": {
   "application/vnd.jupyter.widget-state+json": {
    "state": {},
    "version_major": 2,
    "version_minor": 0
   }
  }
 },
 "nbformat": 4,
 "nbformat_minor": 5
}
