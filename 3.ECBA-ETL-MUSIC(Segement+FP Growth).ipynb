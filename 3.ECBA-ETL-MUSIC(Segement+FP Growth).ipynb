{
 "cells": [
  {
   "cell_type": "code",
   "execution_count": 1,
   "id": "cadb0d1c-33e5-4ff8-bebd-46ac76882caa",
   "metadata": {},
   "outputs": [
    {
     "name": "stdout",
     "output_type": "stream",
     "text": [
      "+-----------+-----------+--------------+----------+--------------+--------------------+----------------+-----------+-------------+-----------+----+-----------------+--------------------+--------------------+-----------+\n",
      "|marketplace|customer_id|     review_id|product_id|product_parent|       product_title|product_category|star_rating|helpful_votes|total_votes|vine|verified_purchase|     review_headline|         review_body|review_date|\n",
      "+-----------+-----------+--------------+----------+--------------+--------------------+----------------+-----------+-------------+-----------+----+-----------------+--------------------+--------------------+-----------+\n",
      "|         US|   10140119|R3LI5TRP3YIDQL|B00TXH4OLC|     384427924|Whatever's for Us...|           Music|          5|            0|          0|   N|                Y|          Five Stars|Love this CD alon...| 2015-08-31|\n",
      "|         US|   27664622|R3LGC3EKEG84PX|B00B6QXN6U|     831769051|Same Trailer Diff...|           Music|          5|            0|          0|   N|                Y|A new fave in our...|This is the album...| 2015-08-31|\n",
      "|         US|   45946560| R9PYL3OYH55QY|B001GCZXW6|      14067376| Soaring (Jazz Club)|           Music|          5|            0|          1|   N|                Y|          Five Stars|  Excellent / thanks| 2015-08-31|\n",
      "|         US|   15146326|R3PWBAWUS4NT0Q|B000003EK6|     566295619|     CARIBBEAN PARTY|           Music|          3|            0|          0|   N|                Y|         Three Stars|Nice variety of c...| 2015-08-31|\n",
      "|         US|   16794688|R15LYP3O51UU9E|B00N1F0BKK|     210426072|         Pain Killer|           Music|          5|            0|          0|   N|                Y|          Five Stars|Purchased as a gi...| 2015-08-31|\n",
      "|         US|   32203364|R1AD7L0CC3DSRI|B00V7KAO7Q|     360249504|A Thoughtiverse U...|           Music|          5|            0|          0|   N|                Y|Definitely worth ...|Really enjoyed th...| 2015-08-31|\n",
      "|         US|    1194276|R32FE8Y45QV434|B000094Q4P|      20972283|Comfort of Her Wings|           Music|          5|            0|          0|   N|                Y|          Five Stars|            Great CD| 2015-08-31|\n",
      "|         US|   45813052|R3NM4MZ4XWL43Q|B00JMK0P1I|     378049560|Sleep Soundly CD ...|           Music|          5|            1|          2|   N|                Y|          Five Stars|       Excellent CD!| 2015-08-31|\n",
      "|         US|   12795687|R3H4FXX6Q7I37D|B008OW1S3O|     141620702|     An Awesome Wave|           Music|          4|            0|          0|   N|                Y|          Four Stars|                nice| 2015-08-31|\n",
      "|         US|   36673840|R30L5PET7LFFDC|B00VI2L3L4|     920557135|          Blurryface|           Music|          5|            1|          1|   N|                Y|        Outstanding!|Outstanding music...| 2015-08-31|\n",
      "|         US|   49453576|  REFRE1LEKLAF|B0000041EV|     683128964|Mozart For Mother...|           Music|          4|            1|          1|   N|                Y|          Four Stars|      quite relaxing| 2015-08-31|\n",
      "|         US|    3285047|R3JTJ5EQN74E9H|B00005YW4H|     268461622|   Come Away with Me|           Music|          5|            0|          0|   N|                Y|          Five Stars|I love this CD.  ...| 2015-08-31|\n",
      "|         US|   24471201|R1W2F091LCOAW5|B00Q9KEZV0|     444090572| Tomorrow Is My Turn|           Music|          5|            0|          0|   N|                Y|FIve Stars and Th...|Rhiannon Giddens ...| 2015-08-31|\n",
      "|         US|   28049396| RYUMFQRRB1FNM|B00GFXRKHW|     482597726|       The Outsiders|           Music|          3|            0|          0|   N|                Y|         Three Stars|Wrecking Ball is ...| 2015-08-31|\n",
      "|         US|   41137196| RHCS6VVXWV3Q3|B004L3AQ10|     609457123|  The Lincoln Lawyer|           Music|          5|            0|          0|   N|                Y|          Five Stars|I was pleased wit...| 2015-08-31|\n",
      "|         US|   43305401|R35UL1YZ2142SL|B0000025PM|     125399885|Bach: Goldberg Va...|           Music|          5|            0|          0|   N|                Y|   The Creative Flow|The music that in...| 2015-08-31|\n",
      "|         US|   50808489|  RU1O6QD1LEBB|B00701QUN8|     144457491|Quiet Riot - Grea...|           Music|          5|            0|          0|   N|                Y|          Five Stars|   Excellent CD&#62;| 2015-08-31|\n",
      "|         US|   15536614|R36RXVL3XIZFH7|B003UJC2QI|     207971309|Love Or Money/Lov...|           Music|          5|            0|          0|   N|                N|    Great Pop Single|Love Or Money by ...| 2015-08-31|\n",
      "|         US|   32536909|R16O7SHYHLEYA1|B00LGA16J2|     760666287|Jonas Kaufmann - ...|           Music|          5|            0|          0|   N|                Y|          Five Stars|      Just splendid!| 2015-08-31|\n",
      "|         US|   51160312|R1Y5GX65Z2V9BG|B00ZGVMLLE|      37408836|        Clockworking|           Music|          5|            0|          0|   N|                N|Glorious Glorious...|One of my favorit...| 2015-08-31|\n",
      "+-----------+-----------+--------------+----------+--------------+--------------------+----------------+-----------+-------------+-----------+----+-----------------+--------------------+--------------------+-----------+\n",
      "only showing top 20 rows\n",
      "\n"
     ]
    }
   ],
   "source": [
    "#Before using spark, need to install and set up spark, Hadoop and Jdk locally on your laptop\n",
    "\n",
    "\n",
    "from pyspark.sql import SparkSession\n",
    "\n",
    "# Initialize SparkSession\n",
    "spark = SparkSession.builder \\\n",
    "    .appName(\"etl\") \\\n",
    "    .config(\"spark.master\", \"local\") \\\n",
    "    .config(\"spark.jars\", \"F:/UniPrj/Big Data Project/postgresql-42.2.16.jar\") \\\n",
    "    .getOrCreate()\n",
    "\n",
    "#Load Amazon Data into Spark DataFrame\n",
    "#1 load product segment - Music Segment --> download dataset tsv file\n",
    "file_path = \"F:/UniPrj/Big Data Project/Datasets/amazon_reviews_us_Music_v1_00.tsv\"\n",
    "df = spark.read.option(\"encoding\", \"UTF-8\").csv(file_path, sep=\"\\t\", header=True, inferSchema=True)\n",
    "\n",
    "# Show the first few rows of the DataFrame\n",
    "df.show()"
   ]
  },
  {
   "cell_type": "code",
   "execution_count": 2,
   "id": "3e559675-869a-4206-93f7-add554df5bad",
   "metadata": {},
   "outputs": [
    {
     "name": "stdout",
     "output_type": "stream",
     "text": [
      "root\n",
      " |-- marketplace: string (nullable = true)\n",
      " |-- customer_id: integer (nullable = true)\n",
      " |-- review_id: string (nullable = true)\n",
      " |-- product_id: string (nullable = true)\n",
      " |-- product_parent: integer (nullable = true)\n",
      " |-- product_title: string (nullable = true)\n",
      " |-- product_category: string (nullable = true)\n",
      " |-- star_rating: integer (nullable = true)\n",
      " |-- helpful_votes: integer (nullable = true)\n",
      " |-- total_votes: integer (nullable = true)\n",
      " |-- vine: string (nullable = true)\n",
      " |-- verified_purchase: string (nullable = true)\n",
      " |-- review_headline: string (nullable = true)\n",
      " |-- review_body: string (nullable = true)\n",
      " |-- review_date: date (nullable = true)\n",
      "\n",
      "(4751577, 15)\n"
     ]
    }
   ],
   "source": [
    "#Create DataFrame - Perform Preliminary Cleaning\n",
    "\n",
    "#1 Check the schema, print row & column count\n",
    "df.printSchema()\n",
    "print((df.count(), len(df.columns)))"
   ]
  },
  {
   "cell_type": "code",
   "execution_count": 3,
   "id": "b2c1fbe2-a4f9-4dc4-ad6d-8317feea046d",
   "metadata": {},
   "outputs": [
    {
     "name": "stdout",
     "output_type": "stream",
     "text": [
      "+-----------+--------------+----------+--------------------+----------------+-----------+-------------+-----------+-----------------+\n",
      "|customer_id|     review_id|product_id|       product_title|product_category|star_rating|helpful_votes|total_votes|verified_purchase|\n",
      "+-----------+--------------+----------+--------------------+----------------+-----------+-------------+-----------+-----------------+\n",
      "|   10140119|R3LI5TRP3YIDQL|B00TXH4OLC|Whatever's for Us...|           Music|          5|            0|          0|                Y|\n",
      "|   27664622|R3LGC3EKEG84PX|B00B6QXN6U|Same Trailer Diff...|           Music|          5|            0|          0|                Y|\n",
      "|   45946560| R9PYL3OYH55QY|B001GCZXW6| Soaring (Jazz Club)|           Music|          5|            0|          1|                Y|\n",
      "|   15146326|R3PWBAWUS4NT0Q|B000003EK6|     CARIBBEAN PARTY|           Music|          3|            0|          0|                Y|\n",
      "|   16794688|R15LYP3O51UU9E|B00N1F0BKK|         Pain Killer|           Music|          5|            0|          0|                Y|\n",
      "|   32203364|R1AD7L0CC3DSRI|B00V7KAO7Q|A Thoughtiverse U...|           Music|          5|            0|          0|                Y|\n",
      "|    1194276|R32FE8Y45QV434|B000094Q4P|Comfort of Her Wings|           Music|          5|            0|          0|                Y|\n",
      "|   45813052|R3NM4MZ4XWL43Q|B00JMK0P1I|Sleep Soundly CD ...|           Music|          5|            1|          2|                Y|\n",
      "|   12795687|R3H4FXX6Q7I37D|B008OW1S3O|     An Awesome Wave|           Music|          4|            0|          0|                Y|\n",
      "|   36673840|R30L5PET7LFFDC|B00VI2L3L4|          Blurryface|           Music|          5|            1|          1|                Y|\n",
      "|   49453576|  REFRE1LEKLAF|B0000041EV|Mozart For Mother...|           Music|          4|            1|          1|                Y|\n",
      "|    3285047|R3JTJ5EQN74E9H|B00005YW4H|   Come Away with Me|           Music|          5|            0|          0|                Y|\n",
      "|   24471201|R1W2F091LCOAW5|B00Q9KEZV0| Tomorrow Is My Turn|           Music|          5|            0|          0|                Y|\n",
      "|   28049396| RYUMFQRRB1FNM|B00GFXRKHW|       The Outsiders|           Music|          3|            0|          0|                Y|\n",
      "|   41137196| RHCS6VVXWV3Q3|B004L3AQ10|  The Lincoln Lawyer|           Music|          5|            0|          0|                Y|\n",
      "|   43305401|R35UL1YZ2142SL|B0000025PM|Bach: Goldberg Va...|           Music|          5|            0|          0|                Y|\n",
      "|   50808489|  RU1O6QD1LEBB|B00701QUN8|Quiet Riot - Grea...|           Music|          5|            0|          0|                Y|\n",
      "|   15536614|R36RXVL3XIZFH7|B003UJC2QI|Love Or Money/Lov...|           Music|          5|            0|          0|                N|\n",
      "|   32536909|R16O7SHYHLEYA1|B00LGA16J2|Jonas Kaufmann - ...|           Music|          5|            0|          0|                Y|\n",
      "|   51160312|R1Y5GX65Z2V9BG|B00ZGVMLLE|        Clockworking|           Music|          5|            0|          0|                N|\n",
      "+-----------+--------------+----------+--------------------+----------------+-----------+-------------+-----------+-----------------+\n",
      "only showing top 20 rows\n",
      "\n"
     ]
    }
   ],
   "source": [
    "#2 Drop the round 1 columns\n",
    "columns_to_drop = ['marketplace', 'product_parent', 'vine', 'review_headline', 'review_body', 'review_date']\n",
    "df_dropped = df.drop(*columns_to_drop)\n",
    "df_dropped.show()"
   ]
  },
  {
   "cell_type": "code",
   "execution_count": 4,
   "id": "85dab1af-b383-4e9b-b203-2d3181552f2c",
   "metadata": {},
   "outputs": [
    {
     "name": "stdout",
     "output_type": "stream",
     "text": [
      "(1962351, 9)\n"
     ]
    }
   ],
   "source": [
    "#3 Filter Step 1:\n",
    "df_filtered = df_dropped.filter(df_dropped.verified_purchase == 'Y')\n",
    "df_filtered.show\n",
    "print((df_filtered.count(), len(df_filtered.columns)))"
   ]
  },
  {
   "cell_type": "code",
   "execution_count": 5,
   "id": "3c0eb157-b940-471f-862d-2e8a75bd8c24",
   "metadata": {},
   "outputs": [
    {
     "name": "stdout",
     "output_type": "stream",
     "text": [
      "+-----------+--------------+----------+--------------------+----------------+-----------+-------------+-----------+\n",
      "|customer_id|     review_id|product_id|       product_title|product_category|star_rating|helpful_votes|total_votes|\n",
      "+-----------+--------------+----------+--------------------+----------------+-----------+-------------+-----------+\n",
      "|   10140119|R3LI5TRP3YIDQL|B00TXH4OLC|Whatever's for Us...|           Music|          5|            0|          0|\n",
      "|   27664622|R3LGC3EKEG84PX|B00B6QXN6U|Same Trailer Diff...|           Music|          5|            0|          0|\n",
      "|   45946560| R9PYL3OYH55QY|B001GCZXW6| Soaring (Jazz Club)|           Music|          5|            0|          1|\n",
      "|   15146326|R3PWBAWUS4NT0Q|B000003EK6|     CARIBBEAN PARTY|           Music|          3|            0|          0|\n",
      "|   16794688|R15LYP3O51UU9E|B00N1F0BKK|         Pain Killer|           Music|          5|            0|          0|\n",
      "|   32203364|R1AD7L0CC3DSRI|B00V7KAO7Q|A Thoughtiverse U...|           Music|          5|            0|          0|\n",
      "|    1194276|R32FE8Y45QV434|B000094Q4P|Comfort of Her Wings|           Music|          5|            0|          0|\n",
      "|   45813052|R3NM4MZ4XWL43Q|B00JMK0P1I|Sleep Soundly CD ...|           Music|          5|            1|          2|\n",
      "|   12795687|R3H4FXX6Q7I37D|B008OW1S3O|     An Awesome Wave|           Music|          4|            0|          0|\n",
      "|   36673840|R30L5PET7LFFDC|B00VI2L3L4|          Blurryface|           Music|          5|            1|          1|\n",
      "|   49453576|  REFRE1LEKLAF|B0000041EV|Mozart For Mother...|           Music|          4|            1|          1|\n",
      "|    3285047|R3JTJ5EQN74E9H|B00005YW4H|   Come Away with Me|           Music|          5|            0|          0|\n",
      "|   24471201|R1W2F091LCOAW5|B00Q9KEZV0| Tomorrow Is My Turn|           Music|          5|            0|          0|\n",
      "|   28049396| RYUMFQRRB1FNM|B00GFXRKHW|       The Outsiders|           Music|          3|            0|          0|\n",
      "|   41137196| RHCS6VVXWV3Q3|B004L3AQ10|  The Lincoln Lawyer|           Music|          5|            0|          0|\n",
      "|   43305401|R35UL1YZ2142SL|B0000025PM|Bach: Goldberg Va...|           Music|          5|            0|          0|\n",
      "|   50808489|  RU1O6QD1LEBB|B00701QUN8|Quiet Riot - Grea...|           Music|          5|            0|          0|\n",
      "|   32536909|R16O7SHYHLEYA1|B00LGA16J2|Jonas Kaufmann - ...|           Music|          5|            0|          0|\n",
      "|   17034306|R25Z4ADMYBHR66|B00AIUSGJE|   Meet The Supremes|           Music|          4|            1|          2|\n",
      "|   49997672| RS04EK5PRDM1H|B003X43FT8|My Time (The Delu...|           Music|          5|            0|          0|\n",
      "+-----------+--------------+----------+--------------------+----------------+-----------+-------------+-----------+\n",
      "only showing top 20 rows\n",
      "\n"
     ]
    }
   ],
   "source": [
    "#4 drop filtered verified_purchase column\n",
    "columns_to_drop = ['verified_purchase']\n",
    "df_dropped_2 = df_filtered.drop(*columns_to_drop)\n",
    "df_dropped_2.show()"
   ]
  },
  {
   "cell_type": "code",
   "execution_count": 6,
   "id": "61745d52-5186-457d-9794-612612cba5cc",
   "metadata": {},
   "outputs": [
    {
     "name": "stdout",
     "output_type": "stream",
     "text": [
      "+-----------+----------------+\n",
      "|customer_id|product_category|\n",
      "+-----------+----------------+\n",
      "|   10140119|           Music|\n",
      "|   27664622|           Music|\n",
      "|   45946560|           Music|\n",
      "|   15146326|           Music|\n",
      "|   16794688|           Music|\n",
      "|   32203364|           Music|\n",
      "|    1194276|           Music|\n",
      "|   45813052|           Music|\n",
      "|   12795687|           Music|\n",
      "|   36673840|           Music|\n",
      "|   49453576|           Music|\n",
      "|    3285047|           Music|\n",
      "|   24471201|           Music|\n",
      "|   28049396|           Music|\n",
      "|   41137196|           Music|\n",
      "|   43305401|           Music|\n",
      "|   50808489|           Music|\n",
      "|   32536909|           Music|\n",
      "|   17034306|           Music|\n",
      "|   49997672|           Music|\n",
      "+-----------+----------------+\n",
      "only showing top 20 rows\n",
      "\n"
     ]
    }
   ],
   "source": [
    "#Create Analysis-Specific DFs/Tables\n",
    "#Perform Analysis-Specific Transforms\n",
    "#Segmentation Analysis DF\n",
    "\n",
    "# 1 Create Segmentation DF by Droppig Addtional Columns\n",
    "segmentation_cols_drop = ['review_id', 'product_id', 'product_title', 'star_rating', 'helpful_votes', 'total_votes']\n",
    "segmentation_dropped_df = df_dropped_2.drop(*segmentation_cols_drop)\n",
    "segmentation_dropped_df.show()"
   ]
  },
  {
   "cell_type": "code",
   "execution_count": 7,
   "id": "d54e867b-e023-4beb-8008-baa61d540f09",
   "metadata": {},
   "outputs": [
    {
     "name": "stdout",
     "output_type": "stream",
     "text": [
      "+-----------+-----+\n",
      "|customer_id|music|\n",
      "+-----------+-----+\n",
      "|     651796|    2|\n",
      "|   44979559|    1|\n",
      "|   45632184|    1|\n",
      "|   15232809|    1|\n",
      "|   17067926|    1|\n",
      "|   26163929|    1|\n",
      "|   20587872|    2|\n",
      "|   14230926|    2|\n",
      "|   52081222|    2|\n",
      "|   13382150|    1|\n",
      "|   13517415|    1|\n",
      "|   19324145|   26|\n",
      "|   46311034|    2|\n",
      "|    5573238|    1|\n",
      "|   53095124|    9|\n",
      "|     172523|    1|\n",
      "|     283137|    1|\n",
      "|    1356209|    1|\n",
      "|   28074100|    2|\n",
      "|   34722529|    1|\n",
      "+-----------+-----+\n",
      "only showing top 20 rows\n",
      "\n"
     ]
    }
   ],
   "source": [
    "#Note: must change Category Label name in withColumnRenamed('count(product_category)', 'name')\n",
    "#2 Segmentation GroupBy\n",
    "#2a GroupBy customer_id\n",
    "#2b Count product_category and rename count columns as Segment Name\n",
    "segment_df = segmentation_dropped_df.groupby(\"customer_id\")\\\n",
    ".agg({'product_category':'count'}).withColumnRenamed('count(product_category)', 'music')\n",
    "#2c Check results\n",
    "segment_df.show()"
   ]
  },
  {
   "cell_type": "code",
   "execution_count": 8,
   "id": "487da5f7-246a-4906-b173-cdbe92a8bb3d",
   "metadata": {},
   "outputs": [
    {
     "name": "stdout",
     "output_type": "stream",
     "text": [
      "root\n",
      " |-- customer_id: integer (nullable = true)\n",
      " |-- music: long (nullable = false)\n",
      "\n",
      "886919\n"
     ]
    }
   ],
   "source": [
    "#3 Check segment_df Schema and Row Count\n",
    "segment_df.printSchema()\n",
    "print(segment_df.count())"
   ]
  },
  {
   "cell_type": "code",
   "execution_count": 9,
   "id": "ea1e0de5-2455-4959-b9bc-594808348c4d",
   "metadata": {},
   "outputs": [
    {
     "name": "stdout",
     "output_type": "stream",
     "text": [
      "+-----------+-----+\n",
      "|customer_id|music|\n",
      "+-----------+-----+\n",
      "|   29791894| 1089|\n",
      "|   51184997|  984|\n",
      "|   47423754|  976|\n",
      "|   38192329|  881|\n",
      "|   52562189|  850|\n",
      "|   27364030|  821|\n",
      "|   49939297|  775|\n",
      "|   52469795|  774|\n",
      "|   52467002|  742|\n",
      "|   47883385|  716|\n",
      "|   51228286|  679|\n",
      "|   49877557|  595|\n",
      "|   18116317|  549|\n",
      "|   50910905|  480|\n",
      "|   50135456|  469|\n",
      "|   50345651|  462|\n",
      "|   53075795|  440|\n",
      "|   15536614|  414|\n",
      "|   45772507|  413|\n",
      "|   44861557|  409|\n",
      "+-----------+-----+\n",
      "only showing top 20 rows\n",
      "\n",
      "100000\n"
     ]
    }
   ],
   "source": [
    "#Note: Column Name in df.sort('name' ...) must align with Column name from step 2\n",
    "#4 Filter for Top n Results\n",
    "#4a Declare number of rows to filter by (100,000)\n",
    "row_count = 100000\n",
    "#4a Sort by Segment Desc and limit to row_count\n",
    "filtered_segment_df = segment_df.sort('music', ascending=False).limit(row_count)\n",
    "#4b Check Results\n",
    "filtered_segment_df.show()\n",
    "print(filtered_segment_df.count())"
   ]
  },
  {
   "cell_type": "code",
   "execution_count": 10,
   "id": "1a9ca5c4-8917-4967-ba7e-79843bb815ce",
   "metadata": {},
   "outputs": [],
   "source": [
    "#Segmentation ETL Complete - Add Database Export Code\n",
    "\n",
    "# Configure settings for RDS\n",
    "mode = \"append\"\n",
    "jdbc_url = 'jdbc:postgresql://localhost:5432/AmazonProducts'\n",
    "config = {\"user\":'postgres', \n",
    "          \"password\": 'root', \n",
    "          \"driver\":\"org.postgresql.Driver\"}"
   ]
  },
  {
   "cell_type": "code",
   "execution_count": 11,
   "id": "549474f5-f80c-4d00-a8b3-63209186e7bc",
   "metadata": {},
   "outputs": [],
   "source": [
    "#Note: table name in table='name_segment' must align with table name in Postgres\n",
    "\n",
    "# Write segment table to Postgres/RDS\n",
    "# xx mins\n",
    "filtered_segment_df.write.jdbc(url=jdbc_url, table='music_segment', mode=mode, properties=config)"
   ]
  },
  {
   "cell_type": "code",
   "execution_count": 12,
   "id": "49e0d0b1-fa26-4901-8c8b-f735faa0099c",
   "metadata": {},
   "outputs": [
    {
     "name": "stdout",
     "output_type": "stream",
     "text": [
      "Segment ETL Successful\n"
     ]
    }
   ],
   "source": [
    "# Run Queries in Postgres to Confirm Segment ETL\n",
    "# Check Row Count of Segment Table - SELECT COUNT(*) FROM music_segment;\n",
    "# Check 10 Rows of Segment Table - SELECT * FROM music_segment LIMIT(10);\n",
    "# Upon Confirmation of Above Checks Run This Cell\n",
    "print('Segment ETL Successful')\n",
    "     "
   ]
  },
  {
   "cell_type": "code",
   "execution_count": 13,
   "id": "2ef7e12c-c266-4afc-93c4-4e74bf0916f3",
   "metadata": {},
   "outputs": [
    {
     "name": "stdout",
     "output_type": "stream",
     "text": [
      "+-----------+--------------+----------+--------------------+\n",
      "|customer_id|     review_id|product_id|       product_title|\n",
      "+-----------+--------------+----------+--------------------+\n",
      "|   10140119|R3LI5TRP3YIDQL|B00TXH4OLC|Whatever's for Us...|\n",
      "|   27664622|R3LGC3EKEG84PX|B00B6QXN6U|Same Trailer Diff...|\n",
      "|   45946560| R9PYL3OYH55QY|B001GCZXW6| Soaring (Jazz Club)|\n",
      "|   15146326|R3PWBAWUS4NT0Q|B000003EK6|     CARIBBEAN PARTY|\n",
      "|   16794688|R15LYP3O51UU9E|B00N1F0BKK|         Pain Killer|\n",
      "|   32203364|R1AD7L0CC3DSRI|B00V7KAO7Q|A Thoughtiverse U...|\n",
      "|    1194276|R32FE8Y45QV434|B000094Q4P|Comfort of Her Wings|\n",
      "|   45813052|R3NM4MZ4XWL43Q|B00JMK0P1I|Sleep Soundly CD ...|\n",
      "|   12795687|R3H4FXX6Q7I37D|B008OW1S3O|     An Awesome Wave|\n",
      "|   36673840|R30L5PET7LFFDC|B00VI2L3L4|          Blurryface|\n",
      "|   49453576|  REFRE1LEKLAF|B0000041EV|Mozart For Mother...|\n",
      "|    3285047|R3JTJ5EQN74E9H|B00005YW4H|   Come Away with Me|\n",
      "|   24471201|R1W2F091LCOAW5|B00Q9KEZV0| Tomorrow Is My Turn|\n",
      "|   28049396| RYUMFQRRB1FNM|B00GFXRKHW|       The Outsiders|\n",
      "|   41137196| RHCS6VVXWV3Q3|B004L3AQ10|  The Lincoln Lawyer|\n",
      "|   43305401|R35UL1YZ2142SL|B0000025PM|Bach: Goldberg Va...|\n",
      "|   50808489|  RU1O6QD1LEBB|B00701QUN8|Quiet Riot - Grea...|\n",
      "|   32536909|R16O7SHYHLEYA1|B00LGA16J2|Jonas Kaufmann - ...|\n",
      "|   17034306|R25Z4ADMYBHR66|B00AIUSGJE|   Meet The Supremes|\n",
      "|   49997672| RS04EK5PRDM1H|B003X43FT8|My Time (The Delu...|\n",
      "+-----------+--------------+----------+--------------------+\n",
      "only showing top 20 rows\n",
      "\n"
     ]
    }
   ],
   "source": [
    "# FP Growth Alogrithm Analysis DF\n",
    "# Enter FP Growth Alogrithm Below - Use df_dropped_2 as Start Point\n",
    "# 1 Create FP Growth DF by First Dropping Addtional Columns\n",
    "fpgrowth_cols_drop = ['product_category', 'star_rating', 'helpful_votes', 'total_votes']\n",
    "fpgrowth_dropped_df = df_dropped_2.drop(*fpgrowth_cols_drop)\n",
    "fpgrowth_dropped_df.show()"
   ]
  },
  {
   "cell_type": "code",
   "execution_count": 14,
   "id": "172efaec-3ec4-453f-bc5f-7caef251446f",
   "metadata": {},
   "outputs": [],
   "source": [
    "#Prelim FP Growth Alogrithm ETL Complete - Add Database Export Code\n",
    "# Configure settings for RDS\n",
    "mode = \"append\"\n",
    "jdbc_url = 'jdbc:postgresql://localhost:5432/AmazonProducts'\n",
    "config = {\"user\":'postgres', \n",
    "          \"password\": 'root', \n",
    "          \"driver\":\"org.postgresql.Driver\"}"
   ]
  },
  {
   "cell_type": "code",
   "execution_count": 15,
   "id": "1e35e799-e601-410f-be7b-03f1384eaf44",
   "metadata": {},
   "outputs": [],
   "source": [
    "\n",
    "# Write music_fpgrowth table to RDS\n",
    "# 5 mins\n",
    "fpgrowth_dropped_df.write.jdbc(url=jdbc_url, table='music_fpgrowth', mode=mode, properties=config)     \n"
   ]
  },
  {
   "cell_type": "code",
   "execution_count": 16,
   "id": "023db46e-dec1-4572-a57d-5462a41b3e62",
   "metadata": {},
   "outputs": [
    {
     "name": "stdout",
     "output_type": "stream",
     "text": [
      "FP Growth ETL Successful\n"
     ]
    }
   ],
   "source": [
    "# Run Queries in Postgres to Confirm FP Growth Alogrithm ETL\n",
    "# Check Row Count of FP Growth Table - SELECT COUNT(*) FROM music_fpgrowth;\n",
    "# Check 10 Rows of FP Growth Table - SELECT * FROM music_fpgrowth LIMIT(10);\n",
    "# Upon Confirmation of Above Checks Run This Cell\n",
    "print('FP Growth ETL Successful')"
   ]
  }
 ],
 "metadata": {
  "kernelspec": {
   "display_name": "Python 3 (ipykernel)",
   "language": "python",
   "name": "python3"
  },
  "language_info": {
   "codemirror_mode": {
    "name": "ipython",
    "version": 3
   },
   "file_extension": ".py",
   "mimetype": "text/x-python",
   "name": "python",
   "nbconvert_exporter": "python",
   "pygments_lexer": "ipython3",
   "version": "3.11.4"
  },
  "widgets": {
   "application/vnd.jupyter.widget-state+json": {
    "state": {},
    "version_major": 2,
    "version_minor": 0
   }
  }
 },
 "nbformat": 4,
 "nbformat_minor": 5
}
