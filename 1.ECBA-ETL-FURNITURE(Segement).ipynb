{
 "cells": [
  {
   "cell_type": "code",
   "execution_count": 1,
   "id": "2a6c2be3-29d1-453f-a0e3-c26f56092a6a",
   "metadata": {},
   "outputs": [
    {
     "name": "stdout",
     "output_type": "stream",
     "text": [
      "+-----------+-----------+--------------+----------+--------------+--------------------+----------------+-----------+-------------+-----------+----+-----------------+--------------------+--------------------+-----------+\n",
      "|marketplace|customer_id|     review_id|product_id|product_parent|       product_title|product_category|star_rating|helpful_votes|total_votes|vine|verified_purchase|     review_headline|         review_body|review_date|\n",
      "+-----------+-----------+--------------+----------+--------------+--------------------+----------------+-----------+-------------+-----------+----+-----------------+--------------------+--------------------+-----------+\n",
      "|         US|   24509695|R3VR960AHLFKDV|B004HB5E0E|     488241329|Shoal Creek Compu...|       Furniture|          4|            0|          0|   N|                Y|... desk is very ...|This desk is very...| 2015-08-31|\n",
      "|         US|   34731776|R16LGVMFKIUT0G|B0042TNMMS|     205864445|Dorel Home Produc...|       Furniture|          5|            0|          0|   N|                Y|          Five Stars|          Great item| 2015-08-31|\n",
      "|         US|    1272331|R1AIMEEPYHMOE4|B0030MPBZ4|     124663823|Bathroom Vanity T...|       Furniture|          5|            1|          1|   N|                Y|          Five Stars|Perfect fit for m...| 2015-08-31|\n",
      "|         US|   45284262|R1892CCSZWZ9SR|B005G02ESA|     382367578|Sleep Master Ulti...|       Furniture|          3|            0|          0|   N|                Y|         Good enough|We use this on a ...| 2015-08-31|\n",
      "|         US|   30003523|R285P679YWVKD1|B005JS8AUA|     309497463|1 1/4\" GashGuards...|       Furniture|          3|            0|          0|   N|                N|Gash Gards for da...|The product is fi...| 2015-08-31|\n",
      "|         US|   18311821| RLB33HJBXHZHU|B00AVUQQGQ|     574537906|Serta Bonded Leat...|       Furniture|          5|            0|          0|   N|                Y|          Five Stars|Love this product...| 2015-08-31|\n",
      "|         US|   42943632|R1VGTZ94DBAD6A|B00CFY20GQ|     407473883|Prepac Shoe Stora...|       Furniture|          5|            2|          2|   N|                Y|   I love this bench|I love this bench...| 2015-08-31|\n",
      "|         US|   43157304|R168KF82ICSOHD|B00FKC48QA|     435120460|HomCom PU Leather...|       Furniture|          5|            0|          0|   N|                Y|Great storage cap...|Have had this for...| 2015-08-31|\n",
      "|         US|   51918480|R20DIYIJ0OCMOG|B00N9IAL9K|     356495985|  Folding Step Stool|       Furniture|          5|            0|          0|   N|                Y|This is the best ...|This is the best ...| 2015-08-31|\n",
      "|         US|   14522766| RD46RNVOHNZSC|B001T4XU1C|     243050228|Ace Bayou Adult V...|       Furniture|          5|            0|          0|   N|                Y|    great for price!|    my son loves it!| 2015-08-31|\n",
      "|         US|   43054112|R2JDOCETTM3AXS|B002HRFLBC|      93574483|4D Concepts Audio...|       Furniture|          5|            0|          0|   N|                Y|          Five Stars|       Great product| 2015-08-31|\n",
      "|         US|   26622950|R33YMW36IDZ6LE|B006MISZOC|     941823468|Zinus SC-SBBK-14N...|       Furniture|          5|            0|          0|   N|                Y|             perfect|bought with sleep...| 2015-08-31|\n",
      "|         US|   17988940|R30ZGGUHZ04C1S|B008BMGABC|     460567746|Poundex Marble Di...|       Furniture|          5|            1|          1|   N|                Y|   Very satisfied!!!|Delivery was on t...| 2015-08-31|\n",
      "|         US|   18444952| RS2EZU76IK2BT|B00CO2VH5Y|     829613894|Safavieh Lyndhurs...|       Furniture|          5|            0|          0|   N|                Y|soft and great fo...|Exactly as pictur...| 2015-08-31|\n",
      "|         US|   16937084|R1GJC1BP028XO9|B00LI4RJQ0|     816478187|Sauder Boone Moun...|       Furniture|          5|            2|          3|   N|                Y|        Great table.|Beautiful table. ...| 2015-08-31|\n",
      "|         US|   23665632|R2VKJPGXXEK5GP|B0046EC1D0|     358594389|Winsome Wood Brea...|       Furniture|          1|            0|          0|   N|                Y|Not what I expect...|I have cleaned up...| 2015-08-31|\n",
      "|         US|    4110125|R17KS83G3KLT97|B00DQQPL36|     312571325|HODEDAH IMPORT Me...|       Furniture|          3|            0|          0|   N|                Y|         Three Stars|First one came in...| 2015-08-31|\n",
      "|         US|     107621|R3PQL8SR4NEHWL|B003X7RWB2|     402665054|Flash Furniture H...|       Furniture|          4|            0|          0|   N|                Y|          Four Stars|Good deal to get ...| 2015-08-31|\n",
      "|         US|    2415090|R2F5WW7WNO5RRG|B001TJYPJ8|     854989315|Sleep Revolution ...|       Furniture|          5|            0|          0|   N|                Y|          Five Stars|Comfortable and e...| 2015-08-31|\n",
      "|         US|   48285966|R3UDJKVWQCFIC9|B000TMHX9A|     814079288|Flash Furniture V...|       Furniture|          5|            0|          0|   N|                Y|Very comfortable....|As advertised. Ve...| 2015-08-31|\n",
      "+-----------+-----------+--------------+----------+--------------+--------------------+----------------+-----------+-------------+-----------+----+-----------------+--------------------+--------------------+-----------+\n",
      "only showing top 20 rows\n",
      "\n"
     ]
    }
   ],
   "source": [
    "#Before using spark, need to install and set up spark, Hadoop and Jdk locally on your laptop\n",
    "\n",
    "\n",
    "from pyspark.sql import SparkSession\n",
    "\n",
    "# Initialize SparkSession\n",
    "spark = SparkSession.builder \\\n",
    "    .appName(\"etl\") \\\n",
    "    .config(\"spark.master\", \"local\") \\\n",
    "    .config(\"spark.jars\", \"F:/UniPrj/Big Data Project/postgresql-42.2.16.jar\") \\\n",
    "    .getOrCreate()\n",
    "\n",
    "#Load Amazon Data into Spark DataFrame\n",
    "#1 load product segment - Furniture Segment --> download dataset tsv file\n",
    "file_path = \"F:/UniPrj/Big Data Project/Datasets/amazon_reviews_us_Furniture_v1_00.tsv\"\n",
    "df = spark.read.option(\"encoding\", \"UTF-8\").csv(file_path, sep=\"\\t\", header=True, inferSchema=True)\n",
    "\n",
    "# Show the first few rows of the DataFrame\n",
    "df.show()\n"
   ]
  },
  {
   "cell_type": "code",
   "execution_count": 2,
   "id": "9deb2477-4ada-4eff-b536-92a39a514102",
   "metadata": {},
   "outputs": [
    {
     "name": "stdout",
     "output_type": "stream",
     "text": [
      "root\n",
      " |-- marketplace: string (nullable = true)\n",
      " |-- customer_id: integer (nullable = true)\n",
      " |-- review_id: string (nullable = true)\n",
      " |-- product_id: string (nullable = true)\n",
      " |-- product_parent: integer (nullable = true)\n",
      " |-- product_title: string (nullable = true)\n",
      " |-- product_category: string (nullable = true)\n",
      " |-- star_rating: integer (nullable = true)\n",
      " |-- helpful_votes: integer (nullable = true)\n",
      " |-- total_votes: integer (nullable = true)\n",
      " |-- vine: string (nullable = true)\n",
      " |-- verified_purchase: string (nullable = true)\n",
      " |-- review_headline: string (nullable = true)\n",
      " |-- review_body: string (nullable = true)\n",
      " |-- review_date: date (nullable = true)\n",
      "\n",
      "(792113, 15)\n"
     ]
    }
   ],
   "source": [
    "#Create DataFrame - Perform Preliminary Cleaning\n",
    "\n",
    "#1 Check the schema, print row & column count\n",
    "df.printSchema()\n",
    "print((df.count(), len(df.columns)))"
   ]
  },
  {
   "cell_type": "code",
   "execution_count": 3,
   "id": "4c26a18e-bbf9-49c7-8872-14c6e9da43d9",
   "metadata": {},
   "outputs": [
    {
     "name": "stdout",
     "output_type": "stream",
     "text": [
      "+-----------+--------------+----------+--------------------+----------------+-----------+-------------+-----------+-----------------+\n",
      "|customer_id|     review_id|product_id|       product_title|product_category|star_rating|helpful_votes|total_votes|verified_purchase|\n",
      "+-----------+--------------+----------+--------------------+----------------+-----------+-------------+-----------+-----------------+\n",
      "|   24509695|R3VR960AHLFKDV|B004HB5E0E|Shoal Creek Compu...|       Furniture|          4|            0|          0|                Y|\n",
      "|   34731776|R16LGVMFKIUT0G|B0042TNMMS|Dorel Home Produc...|       Furniture|          5|            0|          0|                Y|\n",
      "|    1272331|R1AIMEEPYHMOE4|B0030MPBZ4|Bathroom Vanity T...|       Furniture|          5|            1|          1|                Y|\n",
      "|   45284262|R1892CCSZWZ9SR|B005G02ESA|Sleep Master Ulti...|       Furniture|          3|            0|          0|                Y|\n",
      "|   30003523|R285P679YWVKD1|B005JS8AUA|1 1/4\" GashGuards...|       Furniture|          3|            0|          0|                N|\n",
      "|   18311821| RLB33HJBXHZHU|B00AVUQQGQ|Serta Bonded Leat...|       Furniture|          5|            0|          0|                Y|\n",
      "|   42943632|R1VGTZ94DBAD6A|B00CFY20GQ|Prepac Shoe Stora...|       Furniture|          5|            2|          2|                Y|\n",
      "|   43157304|R168KF82ICSOHD|B00FKC48QA|HomCom PU Leather...|       Furniture|          5|            0|          0|                Y|\n",
      "|   51918480|R20DIYIJ0OCMOG|B00N9IAL9K|  Folding Step Stool|       Furniture|          5|            0|          0|                Y|\n",
      "|   14522766| RD46RNVOHNZSC|B001T4XU1C|Ace Bayou Adult V...|       Furniture|          5|            0|          0|                Y|\n",
      "|   43054112|R2JDOCETTM3AXS|B002HRFLBC|4D Concepts Audio...|       Furniture|          5|            0|          0|                Y|\n",
      "|   26622950|R33YMW36IDZ6LE|B006MISZOC|Zinus SC-SBBK-14N...|       Furniture|          5|            0|          0|                Y|\n",
      "|   17988940|R30ZGGUHZ04C1S|B008BMGABC|Poundex Marble Di...|       Furniture|          5|            1|          1|                Y|\n",
      "|   18444952| RS2EZU76IK2BT|B00CO2VH5Y|Safavieh Lyndhurs...|       Furniture|          5|            0|          0|                Y|\n",
      "|   16937084|R1GJC1BP028XO9|B00LI4RJQ0|Sauder Boone Moun...|       Furniture|          5|            2|          3|                Y|\n",
      "|   23665632|R2VKJPGXXEK5GP|B0046EC1D0|Winsome Wood Brea...|       Furniture|          1|            0|          0|                Y|\n",
      "|    4110125|R17KS83G3KLT97|B00DQQPL36|HODEDAH IMPORT Me...|       Furniture|          3|            0|          0|                Y|\n",
      "|     107621|R3PQL8SR4NEHWL|B003X7RWB2|Flash Furniture H...|       Furniture|          4|            0|          0|                Y|\n",
      "|    2415090|R2F5WW7WNO5RRG|B001TJYPJ8|Sleep Revolution ...|       Furniture|          5|            0|          0|                Y|\n",
      "|   48285966|R3UDJKVWQCFIC9|B000TMHX9A|Flash Furniture V...|       Furniture|          5|            0|          0|                Y|\n",
      "+-----------+--------------+----------+--------------------+----------------+-----------+-------------+-----------+-----------------+\n",
      "only showing top 20 rows\n",
      "\n"
     ]
    }
   ],
   "source": [
    "#2 Drop the round 1 columns\n",
    "columns_to_drop = ['marketplace', 'product_parent', 'vine', 'review_headline', 'review_body', 'review_date']\n",
    "df_dropped = df.drop(*columns_to_drop)\n",
    "df_dropped.show()"
   ]
  },
  {
   "cell_type": "code",
   "execution_count": 4,
   "id": "acc15b08-f2d9-4628-b5cd-336041a7e576",
   "metadata": {},
   "outputs": [
    {
     "name": "stdout",
     "output_type": "stream",
     "text": [
      "(718192, 9)\n"
     ]
    }
   ],
   "source": [
    "#3 Filter Step 1:\n",
    "df_filtered = df_dropped.filter(df_dropped.verified_purchase == 'Y')\n",
    "df_filtered.show\n",
    "print((df_filtered.count(), len(df_filtered.columns)))"
   ]
  },
  {
   "cell_type": "code",
   "execution_count": 5,
   "id": "b550936b-6d79-4f68-9724-f5f70b67468e",
   "metadata": {},
   "outputs": [
    {
     "name": "stdout",
     "output_type": "stream",
     "text": [
      "+-----------+--------------+----------+--------------------+----------------+-----------+-------------+-----------+\n",
      "|customer_id|     review_id|product_id|       product_title|product_category|star_rating|helpful_votes|total_votes|\n",
      "+-----------+--------------+----------+--------------------+----------------+-----------+-------------+-----------+\n",
      "|   24509695|R3VR960AHLFKDV|B004HB5E0E|Shoal Creek Compu...|       Furniture|          4|            0|          0|\n",
      "|   34731776|R16LGVMFKIUT0G|B0042TNMMS|Dorel Home Produc...|       Furniture|          5|            0|          0|\n",
      "|    1272331|R1AIMEEPYHMOE4|B0030MPBZ4|Bathroom Vanity T...|       Furniture|          5|            1|          1|\n",
      "|   45284262|R1892CCSZWZ9SR|B005G02ESA|Sleep Master Ulti...|       Furniture|          3|            0|          0|\n",
      "|   18311821| RLB33HJBXHZHU|B00AVUQQGQ|Serta Bonded Leat...|       Furniture|          5|            0|          0|\n",
      "|   42943632|R1VGTZ94DBAD6A|B00CFY20GQ|Prepac Shoe Stora...|       Furniture|          5|            2|          2|\n",
      "|   43157304|R168KF82ICSOHD|B00FKC48QA|HomCom PU Leather...|       Furniture|          5|            0|          0|\n",
      "|   51918480|R20DIYIJ0OCMOG|B00N9IAL9K|  Folding Step Stool|       Furniture|          5|            0|          0|\n",
      "|   14522766| RD46RNVOHNZSC|B001T4XU1C|Ace Bayou Adult V...|       Furniture|          5|            0|          0|\n",
      "|   43054112|R2JDOCETTM3AXS|B002HRFLBC|4D Concepts Audio...|       Furniture|          5|            0|          0|\n",
      "|   26622950|R33YMW36IDZ6LE|B006MISZOC|Zinus SC-SBBK-14N...|       Furniture|          5|            0|          0|\n",
      "|   17988940|R30ZGGUHZ04C1S|B008BMGABC|Poundex Marble Di...|       Furniture|          5|            1|          1|\n",
      "|   18444952| RS2EZU76IK2BT|B00CO2VH5Y|Safavieh Lyndhurs...|       Furniture|          5|            0|          0|\n",
      "|   16937084|R1GJC1BP028XO9|B00LI4RJQ0|Sauder Boone Moun...|       Furniture|          5|            2|          3|\n",
      "|   23665632|R2VKJPGXXEK5GP|B0046EC1D0|Winsome Wood Brea...|       Furniture|          1|            0|          0|\n",
      "|    4110125|R17KS83G3KLT97|B00DQQPL36|HODEDAH IMPORT Me...|       Furniture|          3|            0|          0|\n",
      "|     107621|R3PQL8SR4NEHWL|B003X7RWB2|Flash Furniture H...|       Furniture|          4|            0|          0|\n",
      "|    2415090|R2F5WW7WNO5RRG|B001TJYPJ8|Sleep Revolution ...|       Furniture|          5|            0|          0|\n",
      "|   48285966|R3UDJKVWQCFIC9|B000TMHX9A|Flash Furniture V...|       Furniture|          5|            0|          0|\n",
      "|   33228559|R1MLGVJH3J5W6N|B005MZBB2O|Amelia Floral Mut...|       Furniture|          5|            0|          0|\n",
      "+-----------+--------------+----------+--------------------+----------------+-----------+-------------+-----------+\n",
      "only showing top 20 rows\n",
      "\n"
     ]
    }
   ],
   "source": [
    "#4 drop filtered verified_purchase column\n",
    "columns_to_drop = ['verified_purchase']\n",
    "df_dropped_2 = df_filtered.drop(*columns_to_drop)\n",
    "df_dropped_2.show()"
   ]
  },
  {
   "cell_type": "code",
   "execution_count": 6,
   "id": "f1d95c6c-9957-41e1-882b-3cc20bf2a6ab",
   "metadata": {},
   "outputs": [
    {
     "name": "stdout",
     "output_type": "stream",
     "text": [
      "+-----------+----------------+\n",
      "|customer_id|product_category|\n",
      "+-----------+----------------+\n",
      "|   24509695|       Furniture|\n",
      "|   34731776|       Furniture|\n",
      "|    1272331|       Furniture|\n",
      "|   45284262|       Furniture|\n",
      "|   18311821|       Furniture|\n",
      "|   42943632|       Furniture|\n",
      "|   43157304|       Furniture|\n",
      "|   51918480|       Furniture|\n",
      "|   14522766|       Furniture|\n",
      "|   43054112|       Furniture|\n",
      "|   26622950|       Furniture|\n",
      "|   17988940|       Furniture|\n",
      "|   18444952|       Furniture|\n",
      "|   16937084|       Furniture|\n",
      "|   23665632|       Furniture|\n",
      "|    4110125|       Furniture|\n",
      "|     107621|       Furniture|\n",
      "|    2415090|       Furniture|\n",
      "|   48285966|       Furniture|\n",
      "|   33228559|       Furniture|\n",
      "+-----------+----------------+\n",
      "only showing top 20 rows\n",
      "\n"
     ]
    }
   ],
   "source": [
    "#Create Analysis-Specific DFs/Tables\n",
    "#Perform Analysis-Specific Transforms\n",
    "#Segmentation Analysis DF\n",
    "\n",
    "# 1 Create Segmentation DF by Droppig Addtional Columns\n",
    "segmentation_cols_drop = ['review_id', 'product_id', 'product_title', 'star_rating', 'helpful_votes', 'total_votes']\n",
    "segmentation_dropped_df = df_dropped_2.drop(*segmentation_cols_drop)\n",
    "segmentation_dropped_df.show()"
   ]
  },
  {
   "cell_type": "code",
   "execution_count": 7,
   "id": "d7d9320d-fb5e-493a-8a96-c8fbe0065e94",
   "metadata": {},
   "outputs": [
    {
     "name": "stdout",
     "output_type": "stream",
     "text": [
      "+-----------+---------+\n",
      "|customer_id|furniture|\n",
      "+-----------+---------+\n",
      "|   17067926|        2|\n",
      "|   10714827|        1|\n",
      "|   42560427|        1|\n",
      "|   30717305|        1|\n",
      "|    1178966|        1|\n",
      "|   10429047|        1|\n",
      "|   52541790|        2|\n",
      "|   52512151|        1|\n",
      "|   37534120|        1|\n",
      "|   22555935|        1|\n",
      "|   18681995|        1|\n",
      "|    2119235|        2|\n",
      "|   21846356|        1|\n",
      "|   42251639|        1|\n",
      "|    7730812|        1|\n",
      "|   37666248|        1|\n",
      "|   43676452|        1|\n",
      "|   41466760|        1|\n",
      "|   30403003|        1|\n",
      "|   44524374|        1|\n",
      "+-----------+---------+\n",
      "only showing top 20 rows\n",
      "\n"
     ]
    }
   ],
   "source": [
    "#Note: must change Category Label name in withColumnRenamed('count(product_category)', 'name')\n",
    "\n",
    "#2 Segmentation GroupBy\n",
    "#2a GroupBy customer_id\n",
    "#2b Count product_category and rename count columns as Segment Name\n",
    "segment_df = segmentation_dropped_df.groupby(\"customer_id\")\\\n",
    ".agg({'product_category':'count'}).withColumnRenamed('count(product_category)', 'furniture')\n",
    "#2c Check results\n",
    "segment_df.show()"
   ]
  },
  {
   "cell_type": "code",
   "execution_count": 8,
   "id": "9b140f56-93ef-4b1d-adcf-9c2a45c273dc",
   "metadata": {},
   "outputs": [
    {
     "name": "stdout",
     "output_type": "stream",
     "text": [
      "root\n",
      " |-- customer_id: integer (nullable = true)\n",
      " |-- furniture: long (nullable = false)\n",
      "\n",
      "600425\n"
     ]
    }
   ],
   "source": [
    "#3 Check segment_df Schema and Row Count\n",
    "segment_df.printSchema()\n",
    "print(segment_df.count())"
   ]
  },
  {
   "cell_type": "code",
   "execution_count": 9,
   "id": "3e7285be-ac16-4e34-b6ac-0742c5458a6e",
   "metadata": {},
   "outputs": [
    {
     "name": "stdout",
     "output_type": "stream",
     "text": [
      "+-----------+---------+\n",
      "|customer_id|furniture|\n",
      "+-----------+---------+\n",
      "|   45212655|       33|\n",
      "|   35178127|       27|\n",
      "|   20845991|       25|\n",
      "|   36020793|       25|\n",
      "|   12609448|       24|\n",
      "|   40418760|       22|\n",
      "|   13278937|       22|\n",
      "|   11643260|       19|\n",
      "|   36700743|       18|\n",
      "|    5669343|       17|\n",
      "|   11159931|       17|\n",
      "|   51201731|       17|\n",
      "|   35095279|       17|\n",
      "|   51672584|       17|\n",
      "|   43450674|       16|\n",
      "|   51032921|       16|\n",
      "|   37870254|       16|\n",
      "|   44471976|       16|\n",
      "|   37864438|       15|\n",
      "|   15153767|       15|\n",
      "+-----------+---------+\n",
      "only showing top 20 rows\n",
      "\n",
      "100000\n"
     ]
    }
   ],
   "source": [
    "#Note: Column Name in df.sort('name' ...) must align with Column name from step 2\n",
    "#4 Filter for Top n Results\n",
    "#4a Declare number of rows to filter by (100,000)\n",
    "row_count = 100000\n",
    "#4a Sort by Segment Desc and limit to row_count\n",
    "filtered_segment_df = segment_df.sort(\"furniture\", ascending=False).limit(row_count)\n",
    "#4b Check Results\n",
    "filtered_segment_df.show()\n",
    "print(filtered_segment_df.count())    "
   ]
  },
  {
   "cell_type": "code",
   "execution_count": 10,
   "id": "39953512-9102-489e-8cdc-e4b186d1c2da",
   "metadata": {},
   "outputs": [],
   "source": [
    "#Segmentation ETL Complete - Add Database Export Code\n",
    "\n",
    "# Configure settings for RDS\n",
    "mode = \"append\"\n",
    "jdbc_url = 'jdbc:postgresql://localhost:5432/AmazonProducts'\n",
    "config = {\"user\":'postgres', \n",
    "          \"password\": 'root', \n",
    "          \"driver\":\"org.postgresql.Driver\"}\n"
   ]
  },
  {
   "cell_type": "code",
   "execution_count": 11,
   "id": "f71602aa-d000-46f6-ac0e-5034a099b1d7",
   "metadata": {},
   "outputs": [],
   "source": [
    "#Note: table name in table='name_segment' must align with table name in Postgres\n",
    "\n",
    "# Write segment table to Postgres/RDS\n",
    "# 1 min 5 secs\n",
    "filtered_segment_df.write.jdbc(url=jdbc_url, table='furniture_segment', mode=mode, properties=config)\n",
    "     "
   ]
  },
  {
   "cell_type": "code",
   "execution_count": 12,
   "id": "679f7441-27ec-4b45-8f08-fbab4c7c8b6c",
   "metadata": {},
   "outputs": [
    {
     "name": "stdout",
     "output_type": "stream",
     "text": [
      "Segment ETL Successful\n"
     ]
    }
   ],
   "source": [
    "# Run Queries in Postgres to Confirm Segment ETL\n",
    "# Check Row Count of Segment Table - SELECT COUNT(*) FROM furniture_segment;\n",
    "# Check 10 Rows of Segment Table - SELECT * FROM furniture_segment LIMIT(10);\n",
    "print('Segment ETL Successful')"
   ]
  }
 ],
 "metadata": {
  "kernelspec": {
   "display_name": "Python 3 (ipykernel)",
   "language": "python",
   "name": "python3"
  },
  "language_info": {
   "codemirror_mode": {
    "name": "ipython",
    "version": 3
   },
   "file_extension": ".py",
   "mimetype": "text/x-python",
   "name": "python",
   "nbconvert_exporter": "python",
   "pygments_lexer": "ipython3",
   "version": "3.11.4"
  },
  "widgets": {
   "application/vnd.jupyter.widget-state+json": {
    "state": {},
    "version_major": 2,
    "version_minor": 0
   }
  }
 },
 "nbformat": 4,
 "nbformat_minor": 5
}
